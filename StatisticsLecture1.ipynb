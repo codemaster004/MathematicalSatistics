{
 "cells": [
  {
   "cell_type": "code",
   "id": "initial_id",
   "metadata": {
    "collapsed": true,
    "ExecuteTime": {
     "end_time": "2024-10-13T15:56:00.192690Z",
     "start_time": "2024-10-13T15:56:00.187375Z"
    }
   },
   "source": [
    "values = [2, 3, 3.5, 4, 4.5, 5, 5.5]\n",
    "probabilities = [0.1, 0.23, 0.25, 0.15, 0.2, 0.05, 0.02]\n",
    "\n",
    "expected_value = sum(value * prob for value, prob in zip(values, probabilities))\n",
    "variance = sum(prob * (value - expected_value) ** 2 for value, prob in zip(values, probabilities))\n",
    "\n",
    "print(f\"Expected Value (Mean): {expected_value}\") # 3.625\n",
    "print(f\"Variance: {variance}\")\n",
    "print(f\"Std. Deviation: {variance ** 0.5}\")"
   ],
   "outputs": [
    {
     "name": "stdout",
     "output_type": "stream",
     "text": [
      "Expected Value (Mean): 3.625\n",
      "Variance: 0.6968750000000001\n",
      "Std. Deviation: 0.8347903928532001\n"
     ]
    }
   ],
   "execution_count": 4
  },
  {
   "metadata": {},
   "cell_type": "code",
   "outputs": [],
   "execution_count": null,
   "source": "",
   "id": "efd48e75250ba954"
  }
 ],
 "metadata": {
  "kernelspec": {
   "display_name": "Python 3",
   "language": "python",
   "name": "python3"
  },
  "language_info": {
   "codemirror_mode": {
    "name": "ipython",
    "version": 2
   },
   "file_extension": ".py",
   "mimetype": "text/x-python",
   "name": "python",
   "nbconvert_exporter": "python",
   "pygments_lexer": "ipython2",
   "version": "2.7.6"
  }
 },
 "nbformat": 4,
 "nbformat_minor": 5
}
