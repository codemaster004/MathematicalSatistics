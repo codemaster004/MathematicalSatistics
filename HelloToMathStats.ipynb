{
 "cells": [
  {
   "metadata": {},
   "cell_type": "markdown",
   "source": [
    "# Jupyter notebook sample"
   ],
   "id": "8a77807f92f26ee"
  },
  {
   "metadata": {
    "ExecuteTime": {
     "end_time": "2024-10-10T16:15:35.328818Z",
     "start_time": "2024-10-10T16:15:34.465821Z"
    }
   },
   "cell_type": "code",
   "source": [
    "import math\n",
    "\n",
    "# Import libraries\n",
    "import pandas as pd\n",
    "import matplotlib.pyplot as plt"
   ],
   "id": "7df9140457caed5e",
   "outputs": [],
   "execution_count": 1
  },
  {
   "metadata": {},
   "cell_type": "markdown",
   "source": [
    "### Interactive tables\n",
    "\n",
    "Effortlessly view, navigate, sort, and filter data. Create charts and access essential data insights, including descriptive statistics and missing values – all without writing a single line of code."
   ],
   "id": "2e44cfe2f556cba1"
  },
  {
   "metadata": {
    "collapsed": true,
    "ExecuteTime": {
     "end_time": "2024-10-10T16:15:35.366817Z",
     "start_time": "2024-10-10T16:15:35.350654Z"
    }
   },
   "cell_type": "code",
   "source": [
    "# Defining data for the dataframe\n",
    "data = {\n",
    "    'Basket': ['A', 'B', 'C', 'D', 'E', 'F', 'G', 'H', 'I', 'J', 'K', 'L', 'M', 'N', 'O', 'P'],\n",
    "    'Apples': [10, 20, 30, 56, 40, 40, 67, 47, 40, 4, 49, 52, 5, 56, 35, 45],\n",
    "    'Bananas': [15, 6, 3, 45, 67, 44, 45, 11, 14, 18, 13, 12, 1, 34, 12, 12]\n",
    "}\n",
    "\n",
    "# Creating the dataframe\n",
    "df = pd.DataFrame(data)\n",
    "\n",
    "df"
   ],
   "id": "initial_id",
   "outputs": [
    {
     "data": {
      "text/plain": [
       "   Basket  Apples  Bananas\n",
       "0       A      10       15\n",
       "1       B      20        6\n",
       "2       C      30        3\n",
       "3       D      56       45\n",
       "4       E      40       67\n",
       "5       F      40       44\n",
       "6       G      67       45\n",
       "7       H      47       11\n",
       "8       I      40       14\n",
       "9       J       4       18\n",
       "10      K      49       13\n",
       "11      L      52       12\n",
       "12      M       5        1\n",
       "13      N      56       34\n",
       "14      O      35       12\n",
       "15      P      45       12"
      ],
      "text/html": [
       "<div>\n",
       "<style scoped>\n",
       "    .dataframe tbody tr th:only-of-type {\n",
       "        vertical-align: middle;\n",
       "    }\n",
       "\n",
       "    .dataframe tbody tr th {\n",
       "        vertical-align: top;\n",
       "    }\n",
       "\n",
       "    .dataframe thead th {\n",
       "        text-align: right;\n",
       "    }\n",
       "</style>\n",
       "<table border=\"1\" class=\"dataframe\">\n",
       "  <thead>\n",
       "    <tr style=\"text-align: right;\">\n",
       "      <th></th>\n",
       "      <th>Basket</th>\n",
       "      <th>Apples</th>\n",
       "      <th>Bananas</th>\n",
       "    </tr>\n",
       "  </thead>\n",
       "  <tbody>\n",
       "    <tr>\n",
       "      <th>0</th>\n",
       "      <td>A</td>\n",
       "      <td>10</td>\n",
       "      <td>15</td>\n",
       "    </tr>\n",
       "    <tr>\n",
       "      <th>1</th>\n",
       "      <td>B</td>\n",
       "      <td>20</td>\n",
       "      <td>6</td>\n",
       "    </tr>\n",
       "    <tr>\n",
       "      <th>2</th>\n",
       "      <td>C</td>\n",
       "      <td>30</td>\n",
       "      <td>3</td>\n",
       "    </tr>\n",
       "    <tr>\n",
       "      <th>3</th>\n",
       "      <td>D</td>\n",
       "      <td>56</td>\n",
       "      <td>45</td>\n",
       "    </tr>\n",
       "    <tr>\n",
       "      <th>4</th>\n",
       "      <td>E</td>\n",
       "      <td>40</td>\n",
       "      <td>67</td>\n",
       "    </tr>\n",
       "    <tr>\n",
       "      <th>5</th>\n",
       "      <td>F</td>\n",
       "      <td>40</td>\n",
       "      <td>44</td>\n",
       "    </tr>\n",
       "    <tr>\n",
       "      <th>6</th>\n",
       "      <td>G</td>\n",
       "      <td>67</td>\n",
       "      <td>45</td>\n",
       "    </tr>\n",
       "    <tr>\n",
       "      <th>7</th>\n",
       "      <td>H</td>\n",
       "      <td>47</td>\n",
       "      <td>11</td>\n",
       "    </tr>\n",
       "    <tr>\n",
       "      <th>8</th>\n",
       "      <td>I</td>\n",
       "      <td>40</td>\n",
       "      <td>14</td>\n",
       "    </tr>\n",
       "    <tr>\n",
       "      <th>9</th>\n",
       "      <td>J</td>\n",
       "      <td>4</td>\n",
       "      <td>18</td>\n",
       "    </tr>\n",
       "    <tr>\n",
       "      <th>10</th>\n",
       "      <td>K</td>\n",
       "      <td>49</td>\n",
       "      <td>13</td>\n",
       "    </tr>\n",
       "    <tr>\n",
       "      <th>11</th>\n",
       "      <td>L</td>\n",
       "      <td>52</td>\n",
       "      <td>12</td>\n",
       "    </tr>\n",
       "    <tr>\n",
       "      <th>12</th>\n",
       "      <td>M</td>\n",
       "      <td>5</td>\n",
       "      <td>1</td>\n",
       "    </tr>\n",
       "    <tr>\n",
       "      <th>13</th>\n",
       "      <td>N</td>\n",
       "      <td>56</td>\n",
       "      <td>34</td>\n",
       "    </tr>\n",
       "    <tr>\n",
       "      <th>14</th>\n",
       "      <td>O</td>\n",
       "      <td>35</td>\n",
       "      <td>12</td>\n",
       "    </tr>\n",
       "    <tr>\n",
       "      <th>15</th>\n",
       "      <td>P</td>\n",
       "      <td>45</td>\n",
       "      <td>12</td>\n",
       "    </tr>\n",
       "  </tbody>\n",
       "</table>\n",
       "</div>"
      ]
     },
     "execution_count": 2,
     "metadata": {},
     "output_type": "execute_result"
    }
   ],
   "execution_count": 2
  },
  {
   "metadata": {},
   "cell_type": "markdown",
   "source": [
    "### Visualization in IDE\n",
    "\n",
    "Create graphs and visualizations that match your chosen color scheme."
   ],
   "id": "62a8c026dc794d85"
  },
  {
   "metadata": {},
   "cell_type": "markdown",
   "source": "",
   "id": "feab0c0188e1c191"
  },
  {
   "metadata": {
    "ExecuteTime": {
     "end_time": "2024-10-10T16:15:35.612064Z",
     "start_time": "2024-10-10T16:15:35.504956Z"
    }
   },
   "cell_type": "code",
   "source": [
    "# Calculate the sums\n",
    "sum_apples = df['Apples'].sum()\n",
    "sum_bananas = df['Bananas'].sum()\n",
    "\n",
    "# Create a bar chart\n",
    "plt.bar(['Apples', 'Bananas'], [sum_apples, sum_bananas], color=['red', 'blue'])\n",
    "\n",
    "# Set a title\n",
    "plt.title('Comparison of total Apples and Bananas')\n",
    "\n",
    "# Show the plot\n",
    "plt.show()"
   ],
   "id": "e65e58a1b7e04493",
   "outputs": [
    {
     "data": {
      "text/plain": [
       "<Figure size 640x480 with 1 Axes>"
      ],
      "image/png": "[encoded data removed]"
     },
     "metadata": {},
     "output_type": "display_data"
    }
   ],
   "execution_count": 3
  },
  {
   "metadata": {
    "ExecuteTime": {
     "end_time": "2024-10-19T12:37:41.543713Z",
     "start_time": "2024-10-19T12:37:41.468Z"
    }
   },
   "cell_type": "code",
   "source": [
    "import matplotlib.pyplot as plt\n",
    "import math\n",
    "\n",
    "\n",
    "values = [0, 1, 2, 3, 4, 5, 6]\n",
    "prob = [0.48, 0.24, 0.15, 0.07, 0.03, 0.02, 0.01]\n",
    "\n",
    "cum_prob = [0.48, 0.72, 0.88, 0.95, 0.98, 0.99, 1]\n",
    "\n",
    "mean = sum([values[i] * prob[i] for i in range(len(values))])\n",
    "var = sum((values[i] - mean)**2 * prob[i] for i in range(len(values)))\n",
    "\n",
    "print(mean)\n",
    "print(var)\n",
    "print(math.sqrt(var))\n",
    "\n",
    "plt.scatter(values, cum_prob, color='blue')\n",
    "plt.show()"
   ],
   "id": "d459a176ec66dfc1",
   "outputs": [
    {
     "name": "stdout",
     "output_type": "stream",
     "text": [
      "1.03\n",
      "1.7490999999999999\n",
      "1.3225354437594479\n"
     ]
    },
    {
     "data": {
      "text/plain": [
       "<Figure size 640x480 with 1 Axes>"
      ],
      "image/png": "[encoded data removed]"
     },
     "metadata": {},
     "output_type": "display_data"
    }
   ],
   "execution_count": 43
  },
  {
   "metadata": {
    "ExecuteTime": {
     "end_time": "2024-10-30T17:32:56.131199Z",
     "start_time": "2024-10-30T17:32:56.126810Z"
    }
   },
   "cell_type": "code",
   "source": [
    "import math\n",
    "\n",
    "a = [0, 1, 2, 3, 4, 5, 6, 7, 8, 9]\n",
    "b = [28, 4, 3, 4, 4, 2, 1, 0, 2, 2]\n",
    "n = sum(b)\n",
    "\n",
    "m = sum([e[0] * e[1] for e in zip(a, b)])/n\n",
    "print(mean)\n",
    "\n",
    "s = math.sqrt(sum([(e[0]-m)**2*e[1] for e in zip(a, b)])/(n-1))\n",
    "print(s)\n",
    "\n",
    "se = s / math.sqrt(50)\n",
    "print(se)\n",
    "\n",
    "cv = se / m\n",
    "print(cv)\n",
    "\n",
    "z = 2.576\n",
    "ci = (m - se * z, m + se * z)\n",
    "print(ci)\n",
    "\n",
    "delta = 0.5\n",
    "N = ((z * s)/(delta))**2\n",
    "print(N)"
   ],
   "id": "b841341f5c33bcdc",
   "outputs": [
    {
     "name": "stdout",
     "output_type": "stream",
     "text": [
      "1.76\n",
      "2.6229754097208002\n",
      "0.3709447398198281\n",
      "0.21076405671581144\n",
      "(0.8044463502241228, 2.7155536497758774)\n",
      "182.61655552\n"
     ]
    }
   ],
   "execution_count": 28
  },
  {
   "metadata": {
    "ExecuteTime": {
     "end_time": "2024-11-06T17:26:27.293098Z",
     "start_time": "2024-11-06T17:26:27.287941Z"
    }
   },
   "cell_type": "code",
   "source": [
    "import numpy as np\n",
    "\n",
    "\n",
    "data1 = [-11, -5, -4, -6, -6, -4, -6, -14]\n",
    "data_1 = np.array(data1)\n",
    "\n",
    "mean1 = data_1.mean()\n",
    "print(f\"mean: {mean1}\")\n",
    "sd1 = np.sqrt(np.sum((mean1-data_1)**2) / (data_1.size - 1))\n",
    "print(f\"sample sd: {sd1}\")\n",
    "print(f\"sample var: {sd1**2}\")\n",
    "\n",
    "print()\n",
    "\n",
    "data2 = [8, 1, 4, 6, 6, 4, 1, 2]\n",
    "data_2 = np.array(data2)\n",
    "\n",
    "mean2 = data_2.mean()\n",
    "print(f\"mean: {mean2}\")\n",
    "sd2 = np.sqrt(np.sum((mean2-data_2)**2) / (data_2.size - 1))\n",
    "print(f\"sample sd: {sd2**2}\")\n",
    "\n",
    "t = 2.145\n",
    "se = 1.18\n",
    "print((mean1 - mean2) - t * se, (mean1 - mean2) + t * se)\n"
   ],
   "id": "ba99c97f6b40a9c",
   "outputs": [
    {
     "name": "stdout",
     "output_type": "stream",
     "text": [
      "mean: -7.0\n",
      "sample sd: 3.585685828003181\n",
      "sample var: 12.857142857142858\n",
      "\n",
      "mean: 4.0\n",
      "sample sd: 6.57142857142857\n",
      "-13.5311 -8.4689\n"
     ]
    }
   ],
   "execution_count": 36
  },
  {
   "metadata": {
    "ExecuteTime": {
     "end_time": "2024-11-06T15:09:14.490576Z",
     "start_time": "2024-11-06T15:09:14.482808Z"
    }
   },
   "cell_type": "code",
   "source": [
    "import math\n",
    "import scipy.stats as stats\n",
    "\n",
    "n = 79\n",
    "mean = 172.6\n",
    "var = 269.3\n",
    "sd = math.sqrt(var)\n",
    "\n",
    "z_min = -2.05\n",
    "z_max = 2.05\n",
    "\n",
    "# z = (x-mean)/sd\n",
    "ci_mean_min = z_min * sd + mean\n",
    "print(ci_mean_min)\n",
    "ci_mean_max = z_max * sd + mean\n",
    "print(ci_mean_max)\n",
    "\n",
    "print()\n",
    "\n",
    "chi2_min, chi2_max = stats.chi2.interval(0.96, n-1)\n",
    "\n",
    "ci_var_min = ((n-1)*sd**2) / chi2_max\n",
    "print(ci_var_min)\n",
    "ci_var_max = ((n-1)*sd**2) / chi2_min\n",
    "print(ci_var_max)\n",
    "\n",
    "print()\n",
    "\n",
    "ci_sd_min = math.sqrt(ci_var_min)\n",
    "ci_sd_max = math.sqrt(ci_var_max)\n",
    "print(ci_sd_min)\n",
    "print(ci_sd_max)"
   ],
   "id": "1e6779a9710d3f17",
   "outputs": [
    {
     "name": "stdout",
     "output_type": "stream",
     "text": [
      "138.95875671144123\n",
      "206.24124328855876\n",
      "\n",
      "198.6479849475239\n",
      "385.1364968040273\n",
      "\n",
      "14.09425361441761\n",
      "19.6248948227507\n"
     ]
    }
   ],
   "execution_count": 27
  },
  {
   "metadata": {},
   "cell_type": "code",
   "outputs": [],
   "execution_count": null,
   "source": [
    "import numpy as np\n",
    "\n"
   ],
   "id": "80cade5aa47f9149"
  }
 ],
 "metadata": {
  "kernelspec": {
   "display_name": "Python 3",
   "language": "python",
   "name": "python3"
  },
  "language_info": {
   "codemirror_mode": {
    "name": "ipython",
    "version": 2
   },
   "file_extension": ".py",
   "mimetype": "text/x-python",
   "name": "python",
   "nbconvert_exporter": "python",
   "pygments_lexer": "ipython2",
   "version": "2.7.6"
  }
 },
 "nbformat": 4,
 "nbformat_minor": 5
}
