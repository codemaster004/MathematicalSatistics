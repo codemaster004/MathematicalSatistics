{
 "cells": [
  {
   "metadata": {},
   "cell_type": "markdown",
   "source": [
    "# Statistical Tables\n",
    "Instead of looking for values in the tables I prefer to edit few variables and run some code"
   ],
   "id": "168f286c3ae73d21"
  },
  {
   "metadata": {
    "ExecuteTime": {
     "end_time": "2024-11-10T14:35:47.499194Z",
     "start_time": "2024-11-10T14:35:47.114745Z"
    }
   },
   "cell_type": "code",
   "source": [
    "# The only library to model the distributions is SciPy and its stats module\n",
    "from scipy.stats import *"
   ],
   "id": "8d6e645d6688b7d5",
   "outputs": [
    {
     "name": "stderr",
     "output_type": "stream",
     "text": [
      "/opt/homebrew/Caskroom/miniforge/base/envs/DataSpellConda/lib/python3.8/site-packages/scipy/__init__.py:146: UserWarning: A NumPy version >=1.16.5 and <1.23.0 is required for this version of SciPy (detected version 1.24.4\n",
      "  warnings.warn(f\"A NumPy version >={np_minversion} and <{np_maxversion}\"\n"
     ]
    }
   ],
   "execution_count": 2
  },
  {
   "metadata": {},
   "cell_type": "markdown",
   "source": [
    "## Binomial Distribution\n",
    "This is to be used when we have **independent events** where the outcome can be only `True` or `False` "
   ],
   "id": "bdce927701946a05"
  },
  {
   "cell_type": "code",
   "id": "initial_id",
   "metadata": {
    "collapsed": true,
    "ExecuteTime": {
     "end_time": "2024-10-18T08:56:03.541063Z",
     "start_time": "2024-10-18T08:56:03.522322Z"
    }
   },
   "source": [
    "n = 3  # number of trials\n",
    "p = 0.2  # probability of success on a single trial\n",
    "\n",
    "x = 3  # number of successes\n",
    "\n",
    "# Calculate point probability (PMF) for getting exactly k successes\n",
    "point_probability = binom.pmf(x, n, p)\n",
    "print(f\"The probability of getting exactly {n} successes in {x} trials is: \\n{point_probability}\\n\")\n",
    "\n",
    "# Calculate cumulative probability (CDF) for getting up to and including k successes\n",
    "cumulative_probability = binom.cdf(x, n, p)\n",
    "print(\n",
    "    f\"The cumulative probability of getting up to included {x} successes in {n} trials is: \\n{cumulative_probability}\\n\")\n"
   ],
   "outputs": [
    {
     "name": "stdout",
     "output_type": "stream",
     "text": [
      "The probability of getting exactly 3 successes in 3 trials is: \n",
      "0.008000000000000002\n",
      "\n",
      "The cumulative probability of getting up to included 3 successes in 3 trials is: \n",
      "1.0\n",
      "\n"
     ]
    }
   ],
   "execution_count": 3
  },
  {
   "metadata": {},
   "cell_type": "markdown",
   "source": [
    "## Poisson Distribution\n",
    "Poisson distribution is similar binomial distribution however simplified for events that occur really rarely."
   ],
   "id": "67f38ad5870f7fb4"
  },
  {
   "metadata": {},
   "cell_type": "code",
   "outputs": [],
   "execution_count": null,
   "source": [
    "lambda_ = 0.6  # average number of events per rate of time\n",
    "\n",
    "x = 1  # number of events in given rate of time\n",
    "\n",
    "# Calculate point probability (PMF) for observing exactly k events\n",
    "point_probability = poisson.pmf(x, lambda_)\n",
    "print(f\"The probability of observing exactly {x} events when λ = {lambda_} is: \\n{point_probability}\\n\")\n",
    "\n",
    "# Calculate cumulative probability (CDF) for getting up to and including k events\n",
    "cumulative_probability = poisson.cdf(x, lambda_)\n",
    "print(\n",
    "    f\"The cumulative probability of observing up to and including {x} events when λ = {lambda_} is: \\n{cumulative_probability}\\n\")"
   ],
   "id": "cd87ff2ad2f7b3b7"
  },
  {
   "metadata": {},
   "cell_type": "markdown",
   "source": [
    "## Hyper-geometric Distribution\n",
    "Similar to Binomial Distribution we have N tries, however they are dependant from each other, as we take elements from population."
   ],
   "id": "4fb07749c75c4001"
  },
  {
   "metadata": {
    "ExecuteTime": {
     "end_time": "2024-11-10T14:35:50.453372Z",
     "start_time": "2024-11-10T14:35:50.447167Z"
    }
   },
   "cell_type": "code",
   "source": [
    "M = 6  # The total number of elements\n",
    "n = 1  # Total number of winning elements\n",
    "N = 2  # Number of draws from population\n",
    "\n",
    "k = 0  # Number of required winning elements drawn\n",
    "\n",
    "# Calculate point probability (PMF) for successfully drawing k elements in N draws\n",
    "point_probability = hypergeom.pmf(k, M, n, N)\n",
    "print(\n",
    "    f\"The probability of drawing exactly {k} elements in {N} draws from a population of {M} elements with {n} winning elements is: \\n{point_probability}\\n\")\n",
    "\n",
    "cumulative_probability = hypergeom.cdf(k, M, n, N)\n",
    "print(\n",
    "    f\"The cumulative probability of drawing up to and including {k} elements in {N} draws from a population of {M} elements with {n} winning elements is: \\n{cumulative_probability}\\n\")\n"
   ],
   "id": "4c9a03a17dbe1f2f",
   "outputs": [
    {
     "name": "stdout",
     "output_type": "stream",
     "text": [
      "The probability of drawing exactly 0 elements in 2 draws from a population of 6 elements with 1 winning elements is: \n",
      "0.6666666666666665\n",
      "\n",
      "The cumulative probability of drawing up to and including 0 elements in 2 draws from a population of 6 elements with 1 winning elements is: \n",
      "0.6666666666666665\n",
      "\n"
     ]
    }
   ],
   "execution_count": 3
  },
  {
   "metadata": {},
   "cell_type": "markdown",
   "source": [
    "## Standardised Normal (Gaussian) Distribution - Z-Score\n",
    "Z-Score is a metric for comparing values on normal distributions in a standardised way."
   ],
   "id": "a83239b08874c565"
  },
  {
   "metadata": {
    "ExecuteTime": {
     "end_time": "2024-11-06T14:38:59.041245Z",
     "start_time": "2024-11-06T14:38:59.037599Z"
    }
   },
   "cell_type": "code",
   "source": [
    "z_score = 2.05  # Number of standard deviations from the mean \n",
    "\n",
    "# Calculate the PDF for the standard normal distribution\n",
    "pdf_value = norm.pdf(z_score)\n",
    "print(f\"The probability density at x = {z_score} for the standard normal distribution is: \\n{pdf_value}\\n\")\n",
    "\n",
    "# Calculate the CDF for the standard normal distribution\n",
    "cdf_value = norm.cdf(z_score)\n",
    "print(f\"The cumulative probability up to x <= {z_score} for the standard normal distribution is: \\n{cdf_value}\\n\")"
   ],
   "id": "787e87593d770960",
   "outputs": [
    {
     "name": "stdout",
     "output_type": "stream",
     "text": [
      "The probability density at x = 2.05 for the standard normal distribution is: \n",
      "0.04879201857918277\n",
      "\n",
      "The cumulative probability up to x <= 2.05 for the standard normal distribution is: \n",
      "0.9798177845942956\n",
      "\n"
     ]
    }
   ],
   "execution_count": 4
  },
  {
   "metadata": {
    "ExecuteTime": {
     "end_time": "2024-11-10T14:51:15.771147Z",
     "start_time": "2024-11-10T14:51:15.766492Z"
    }
   },
   "cell_type": "code",
   "source": [
    "mean = 3000  # Mean of the distribution\n",
    "sd = 3  # Standard deviation from the mean in the distribution\n",
    "\n",
    "x = 3007  # value for which the z-score i checked\n",
    "\n",
    "z_score = (x - mean) / sd  # Calculated Z-Score\n",
    "\n",
    "pdf_value = norm.pdf(z_score)\n",
    "print(f\"The probability density at x = {z_score} for the standard normal distribution is: \\n{pdf_value}\\n\")\n",
    "\n",
    "cdf_value = norm.cdf(z_score)\n",
    "print(f\"The cumulative probability up to x <= {z_score} for the standard normal distribution is: \\n{cdf_value}\\n\")"
   ],
   "id": "4f73bac7f6518f0c",
   "outputs": [
    {
     "name": "stdout",
     "output_type": "stream",
     "text": [
      "The probability density at x = 2.3333333333333335 for the standard normal distribution is: \n",
      "0.026221889093709483\n",
      "\n",
      "The cumulative probability up to x <= 2.3333333333333335 for the standard normal distribution is: \n",
      "0.9901846713713547\n",
      "\n"
     ]
    }
   ],
   "execution_count": 4
  },
  {
   "metadata": {},
   "cell_type": "markdown",
   "source": "## T-Student Distribution",
   "id": "f4fd6cdf97d70efd"
  },
  {
   "metadata": {
    "ExecuteTime": {
     "end_time": "2024-10-23T16:08:40.416867Z",
     "start_time": "2024-10-23T16:08:40.411116Z"
    }
   },
   "cell_type": "code",
   "source": [
    "x_stat = -2.969\n",
    "n = 12\n",
    "\n",
    "# Calculate the PDF for the t-student distribution\n",
    "pdf_value = t.pdf(x_stat, n - 1)\n",
    "print(f\"The probability density at x = {x_stat} for the t-student distribution is: \\n{pdf_value}\\n\")\n",
    "\n",
    "pdf_value = t.cdf(x_stat, n - 1)\n",
    "print(f\"The cumulative probability at x <= {x_stat} for the t-student distribution is: \\n{pdf_value}\\n\")"
   ],
   "id": "f499d8a77bc06130",
   "outputs": [
    {
     "name": "stdout",
     "output_type": "stream",
     "text": [
      "The probability density at x = -2.969 for the t-student distribution is: \n",
      "0.011414318328228753\n",
      "\n",
      "The cumulative probability at x <= -2.969 for the t-student distribution is: \n",
      "0.006384079296337261\n",
      "\n"
     ]
    }
   ],
   "execution_count": 12
  },
  {
   "metadata": {},
   "cell_type": "code",
   "outputs": [],
   "execution_count": null,
   "source": "",
   "id": "cb7f3953ded7505a"
  }
 ],
 "metadata": {
  "kernelspec": {
   "display_name": "Python 3",
   "language": "python",
   "name": "python3"
  },
  "language_info": {
   "codemirror_mode": {
    "name": "ipython",
    "version": 2
   },
   "file_extension": ".py",
   "mimetype": "text/x-python",
   "name": "python",
   "nbconvert_exporter": "python",
   "pygments_lexer": "ipython2",
   "version": "2.7.6"
  }
 },
 "nbformat": 4,
 "nbformat_minor": 5
}
