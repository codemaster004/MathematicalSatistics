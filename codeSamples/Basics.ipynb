{
 "cells": [
  {
   "metadata": {},
   "cell_type": "markdown",
   "source": "## ",
   "id": "55566b5e6ce2c04d"
  },
  {
   "cell_type": "code",
   "id": "initial_id",
   "metadata": {
    "collapsed": true,
    "ExecuteTime": {
     "end_time": "2024-11-13T16:44:22.590262Z",
     "start_time": "2024-11-13T16:44:22.524773Z"
    }
   },
   "source": "import numpy as np",
   "outputs": [],
   "execution_count": 1
  },
  {
   "metadata": {
    "ExecuteTime": {
     "end_time": "2024-11-13T16:44:46.194989Z",
     "start_time": "2024-11-13T16:44:46.189233Z"
    }
   },
   "cell_type": "code",
   "source": [
    "values = np.array([30, 24, 28, 22, 14, 2, 39, 23, 23, 28, 12, 31])\n",
    "\n",
    "mean = np.mean(values)\n",
    "mean"
   ],
   "id": "e443a0ba72379bbf",
   "outputs": [
    {
     "data": {
      "text/plain": [
       "23.0"
      ]
     },
     "execution_count": 2,
     "metadata": {},
     "output_type": "execute_result"
    }
   ],
   "execution_count": 2
  },
  {
   "metadata": {
    "ExecuteTime": {
     "end_time": "2024-11-13T16:52:05.042831Z",
     "start_time": "2024-11-13T16:52:05.039480Z"
    }
   },
   "cell_type": "code",
   "source": [
    "sd = np.sqrt(np.sum((values - mean)**2) / (values.size - 1))\n",
    "print(sd)\n",
    "\n",
    "se = sd / np.sqrt(values.size)\n",
    "print(se)\n",
    "\n",
    "t = (mean - 15) / se\n",
    "print(t)"
   ],
   "id": "3bc76fb80a9a4c7f",
   "outputs": [
    {
     "name": "stdout",
     "output_type": "stream",
     "text": [
      "9.835002426398924\n",
      "2.839120649181021\n",
      "2.8177738773826673\n"
     ]
    }
   ],
   "execution_count": 10
  },
  {
   "metadata": {
    "ExecuteTime": {
     "end_time": "2024-11-10T17:35:42.434604Z",
     "start_time": "2024-11-10T17:35:42.428627Z"
    }
   },
   "cell_type": "code",
   "source": [
    "freq_table_values = np.array([1, 2, 3, 4, 5])\n",
    "freq_table_prob = np.array([0.215, 0.188, 0.247, 0.217, 0.133])\n",
    "\n",
    "mean = np.sum(freq_table_values * freq_table_prob)\n",
    "mean"
   ],
   "id": "d2dd6d4186a0fdcb",
   "outputs": [
    {
     "data": {
      "text/plain": [
       "2.8649999999999998"
      ]
     },
     "execution_count": 14,
     "metadata": {},
     "output_type": "execute_result"
    }
   ],
   "execution_count": 14
  },
  {
   "metadata": {
    "ExecuteTime": {
     "end_time": "2024-11-10T17:53:22.924821Z",
     "start_time": "2024-11-10T17:53:22.916550Z"
    }
   },
   "cell_type": "code",
   "source": [
    "sd = np.sqrt(np.sum(freq_table_prob * (freq_table_values - mean)**2))\n",
    "sd"
   ],
   "id": "87bab9969d882a67",
   "outputs": [
    {
     "data": {
      "text/plain": [
       "1.3337072392395566"
      ]
     },
     "execution_count": 15,
     "metadata": {},
     "output_type": "execute_result"
    }
   ],
   "execution_count": 15
  },
  {
   "metadata": {
    "ExecuteTime": {
     "end_time": "2024-11-10T11:58:43.121796Z",
     "start_time": "2024-11-10T11:58:43.116202Z"
    }
   },
   "cell_type": "code",
   "source": [
    "from scipy.stats import binom\n",
    "\n",
    "# Question 1\n",
    "point_p = binom.pmf(5, 10, 0.15)\n",
    "print(f\"Answer 1: {point_p}\")\n",
    "\n",
    "# Question 2\n",
    "cumulative_p = binom.cdf(2, 10, 1-0.15)\n",
    "print(f\"Answer 2: {cumulative_p}\")\n",
    "\n",
    "cumulative_p = binom.cdf(7, 10, 0.15)\n",
    "print(f\"Answer 2: {1-cumulative_p}\")\n",
    "\n",
    "cumulative_p = binom.pmf(8, 10, 0.15) + binom.pmf(9, 10, 0.15) + binom.pmf(10, 10, 0.15)\n",
    "print(f\"Answer 2: {cumulative_p}\")\n"
   ],
   "id": "3676f52ae444e444",
   "outputs": [
    {
     "name": "stdout",
     "output_type": "stream",
     "text": [
      "Answer 1: 0.00849085578632812\n",
      "Answer 2: 8.66513320312501e-06\n",
      "Answer 2: 8.66513320307849e-06\n",
      "Answer 2: 8.665133203124994e-06\n"
     ]
    }
   ],
   "execution_count": 9
  },
  {
   "metadata": {
    "ExecuteTime": {
     "end_time": "2024-11-10T12:13:03.150041Z",
     "start_time": "2024-11-10T12:13:03.144518Z"
    }
   },
   "cell_type": "code",
   "source": [
    "from scipy.stats import nbinom\n",
    "\n",
    "p = 0.13\n",
    "k = 3\n",
    "\n",
    "p1 = nbinom.pmf(5, k, p)\n",
    "print(f\"Answer 1: {p1}\")\n",
    "\n",
    "p2 = nbinom.cdf(30, k, p)\n",
    "print(f\"Answer 2: {1-p2}\")"
   ],
   "id": "2a8b45965744f09",
   "outputs": [
    {
     "name": "stdout",
     "output_type": "stream",
     "text": [
      "Answer 1: 0.022995646018335914\n",
      "Answer 2: 0.17889711138337006\n"
     ]
    }
   ],
   "execution_count": 11
  },
  {
   "metadata": {
    "ExecuteTime": {
     "end_time": "2024-11-10T12:28:54.508812Z",
     "start_time": "2024-11-10T12:28:54.500814Z"
    }
   },
   "cell_type": "code",
   "source": [
    "from scipy.stats import poisson\n",
    "\n",
    "lamb = 7\n",
    "\n",
    "# Question 1\n",
    "cumulative_p = poisson.cdf(24, 4 * lamb)\n",
    "print(f\"Answer 1: {1-cumulative_p}\")"
   ],
   "id": "1fc6ba027be792b5",
   "outputs": [
    {
     "name": "stdout",
     "output_type": "stream",
     "text": [
      "Answer 1: 0.7400958129227371\n"
     ]
    }
   ],
   "execution_count": 12
  },
  {
   "metadata": {},
   "cell_type": "code",
   "outputs": [],
   "execution_count": null,
   "source": "",
   "id": "48274f1634dd5654"
  }
 ],
 "metadata": {
  "kernelspec": {
   "display_name": "Python 3",
   "language": "python",
   "name": "python3"
  },
  "language_info": {
   "codemirror_mode": {
    "name": "ipython",
    "version": 2
   },
   "file_extension": ".py",
   "mimetype": "text/x-python",
   "name": "python",
   "nbconvert_exporter": "python",
   "pygments_lexer": "ipython2",
   "version": "2.7.6"
  }
 },
 "nbformat": 4,
 "nbformat_minor": 5
}
