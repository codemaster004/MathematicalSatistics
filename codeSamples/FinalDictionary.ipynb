{
 "cells": [
  {
   "metadata": {},
   "cell_type": "markdown",
   "source": "# T-Test",
   "id": "50715de80acd3db3"
  },
  {
   "metadata": {},
   "cell_type": "code",
   "outputs": [],
   "execution_count": null,
   "source": [
    "from scipy.stats import ttest_ind\n",
    "\n",
    "# Ha: data_1.mean() != data_2.mean()\n",
    "t_stat, p_value = ttest_ind(data_1, data_2, equal_var=True, alternative='two-sided')\n",
    "print(f\"T-statistic: {t_stat:.2f}, p: {p_value}\")\n",
    "print('REJECTION! Two means are not the same!' if p_value < 0.05 else 'Womp Womp. Two means can be the same.')"
   ],
   "id": "b3ed13b424fa046"
  },
  {
   "metadata": {},
   "cell_type": "code",
   "outputs": [],
   "execution_count": null,
   "source": [
    "from scipy.stats import ttest_ind\n",
    "\n",
    "# Ha: data_1.mean() < data_2.mean()\n",
    "t_stat, p_value = ttest_ind(data_1, data_2, equal_var=True, alternative='less')\n",
    "print(f\"T-statistic: {t_stat:.2f}, p: {p_value}\")\n",
    "print('REJECTION! Two means are not the same!' if p_value < 0.05 else 'Womp Womp. Two means can be the same.')"
   ],
   "id": "172849e8a5ee5463"
  },
  {
   "metadata": {},
   "cell_type": "markdown",
   "source": [
    "# Shapiro-Wilk Test \n",
    "Test for Normality of the data"
   ],
   "id": "895084d65bb38f63"
  },
  {
   "cell_type": "code",
   "id": "initial_id",
   "metadata": {
    "collapsed": true,
    "ExecuteTime": {
     "end_time": "2025-01-26T14:19:00.475666Z",
     "start_time": "2025-01-26T14:19:00.422331Z"
    }
   },
   "source": [
    "from scipy.stats import shapiro\n",
    "\n",
    "stat, p_value = shapiro(data_list)\n",
    "print(f'Sharpino Statistic: {stat}, p: {p_value}')\n",
    "print('GG: Your data is Normal :)' if p_value > 0.05 else 'Warning: Your data is CRAZY!')"
   ],
   "outputs": [
    {
     "name": "stdout",
     "output_type": "stream",
     "text": [
      "Sharpino Statistic=0.8198623720978666, p=0.025245118001265256\n"
     ]
    }
   ],
   "execution_count": 3
  },
  {
   "metadata": {},
   "cell_type": "code",
   "outputs": [],
   "execution_count": null,
   "source": [
    "from scipy.stats import shapiro\n",
    "\n",
    "stat, p_value = shapiro(data_frame['column'])\n",
    "print(f'Sharpino Statistic: {stat}, p: {p_value}')\n",
    "print('GG: Your data is Normal :)' if p > 0.05 else 'Warning: Your data is CRAZY!')"
   ],
   "id": "b57e770d89b5f5c4"
  },
  {
   "metadata": {},
   "cell_type": "markdown",
   "source": [
    "## Box-Cox Transformation\n",
    "Transform data to be closest to normal as possible"
   ],
   "id": "7789a6ec5f5e3073"
  },
  {
   "metadata": {},
   "cell_type": "code",
   "outputs": [],
   "execution_count": null,
   "source": [
    "from scipy.stats import boxcox\n",
    "\n",
    "transformed_data, _ = boxcox(data_list)"
   ],
   "id": "192b3c50b15b8896"
  },
  {
   "metadata": {},
   "cell_type": "code",
   "outputs": [],
   "execution_count": null,
   "source": [
    "from scipy.stats import boxcox\n",
    "\n",
    "data_frame['trans_column'], _ = boxcox(data_frame['column'])"
   ],
   "id": "36da1dae22626fcc"
  },
  {
   "metadata": {},
   "cell_type": "markdown",
   "source": [
    "# Levene Test\n",
    "Check if variances of two groups are the same"
   ],
   "id": "ee9ebd4e229c736a"
  },
  {
   "metadata": {},
   "cell_type": "code",
   "outputs": [],
   "execution_count": null,
   "source": [
    "from scipy.stats import levene\n",
    "\n",
    "stat, p_value = levene(sample1, sample2)\n",
    "print(f\"Statistic: {stat}, p: {p_value}\")\n",
    "print('Warning: Your variances are not the same!' if p_value < 0.05 else 'GG: Your variances are similar.')"
   ],
   "id": "80e5bf34625051a6"
  },
  {
   "metadata": {},
   "cell_type": "code",
   "outputs": [],
   "execution_count": null,
   "source": [
    "from scipy.stats import levene\n",
    "\n",
    "result_col = 'result'\n",
    "column = 'column'\n",
    "groups = [data_frame[data_frame[column] == g][result_col] for g in data_frame[column].unique()]\n",
    "stat, p_value = levene(*groups)\n",
    "print(f'Levene Statistic Rank: {stat}, p: {p_value}')\n",
    "print('Warning: Your variances are not the same!' if p_value < 0.05 else 'GG: Your variances are similar.')"
   ],
   "id": "957dd4f6d935411c"
  },
  {
   "metadata": {},
   "cell_type": "markdown",
   "source": "# Cross-Table",
   "id": "7f674bc412a697de"
  },
  {
   "metadata": {},
   "cell_type": "code",
   "outputs": [],
   "execution_count": null,
   "source": [
    "from pandas import crosstab\n",
    "\n",
    "table = crosstab(df_column[1], df_column[2])\n",
    "print(table)"
   ],
   "id": "1cc9dfa41456381c"
  },
  {
   "metadata": {},
   "cell_type": "markdown",
   "source": "# Chi-Squared test on Cross Table",
   "id": "33d212a81c46517b"
  },
  {
   "metadata": {},
   "cell_type": "code",
   "outputs": [],
   "execution_count": null,
   "source": [
    "from scipy.stats import chi2_contingency\n",
    "\n",
    "chi2, p_value, dof, _ = chi2_contingency(table)\n",
    "print(f\"Chi2 Statistic: {chi2}, Df: {dof}, p: {p_value}\")\n",
    "print('REJECTION! Proportions in your table are NOT THE SAME' if p_value < 0.05 else 'Womp Womp. Your proportions are similar.')"
   ],
   "id": "13c36b7d5fd745b4"
  },
  {
   "metadata": {},
   "cell_type": "markdown",
   "source": "# McNeemar's Table",
   "id": "42d7983373d5b5b6"
  },
  {
   "metadata": {},
   "cell_type": "code",
   "outputs": [],
   "execution_count": null,
   "source": [
    "from statsmodels.stats.contingency_tables import mcnemar\n",
    "\n",
    "result = mcnemar(table, exact=True)\n",
    "print(f\"Statistic: {result.statistic}, p: {result.pvalue}\")\n",
    "print('REJECTION! There is significant change in proportion after some event.' if result.pvalue < 0.05 else 'Womp Womp. Your proportions are similar.')"
   ],
   "id": "42c2f2dcbba23a86"
  },
  {
   "metadata": {},
   "cell_type": "markdown",
   "source": "# ANOVA, ANCOVA",
   "id": "daf15b421e0199ce"
  },
  {
   "metadata": {},
   "cell_type": "code",
   "outputs": [],
   "execution_count": null,
   "source": [
    "from statsmodels.formula.api import ols\n",
    "import statsmodels.api as sm\n",
    "\n",
    "model = ols('result ~ factor1 + factor2', data=data_frame).fit()\n",
    "result_table = sm.stats.anova_lm(model, typ=2)\n",
    "\n",
    "print(result_table)"
   ],
   "id": "81087770cf3f61bb"
  },
  {
   "metadata": {},
   "cell_type": "markdown",
   "source": "# RM ANOVA",
   "id": "eb767d713de5eec8"
  },
  {
   "metadata": {},
   "cell_type": "code",
   "outputs": [],
   "execution_count": null,
   "source": [
    "from statsmodels.stats.anova import AnovaRM\n",
    "\n",
    "rm_anova = AnovaRM(data=data_frame, depvar='Score', subject='Subject', within=['Time'])\n",
    "anova_results = rm_anova.fit()\n",
    "print(anova_results)"
   ],
   "id": "e575e40952e666ed"
  },
  {
   "metadata": {},
   "cell_type": "code",
   "outputs": [],
   "execution_count": null,
   "source": [
    "import pingouin as pg\n",
    "\n",
    "anova_results = pg.rm_anova(data=data_frame, dv='Score', subject='Subject', within='Time', detailed=True)\n",
    "print(anova_results)"
   ],
   "id": "c977ff9b9e5edf8"
  },
  {
   "metadata": {},
   "cell_type": "markdown",
   "source": [
    "# Mixed ANOVA\n",
    "Repeated Measures + Independent Groups"
   ],
   "id": "cf35b330bad02910"
  },
  {
   "metadata": {},
   "cell_type": "code",
   "outputs": [],
   "execution_count": null,
   "source": [
    "import pingouin as pg\n",
    "\n",
    "anova_results = pg.mixed_anova(data=data_frame, dv='Score', within='Time', between='Group', subject='Subject')\n",
    "print(anova_results)"
   ],
   "id": "130503160bf73af7"
  },
  {
   "metadata": {},
   "cell_type": "markdown",
   "source": "# Robust ANOVA",
   "id": "a5e8ed7f0db58622"
  },
  {
   "metadata": {},
   "cell_type": "code",
   "outputs": [],
   "execution_count": null,
   "source": [
    "from statsmodels.formula.api import ols\n",
    "\n",
    "model = ols(\"result ~ factor1 + factor2 + factor3\", data=data_frame).fit()\n",
    "robust_model = model.get_robustcov_results(cov_type=\"HC3\")\n",
    "print(robust_model.summary())"
   ],
   "id": "ec4ee588c20bc4c5"
  },
  {
   "metadata": {},
   "cell_type": "markdown",
   "source": "# Meld Transformation for RM",
   "id": "ad74747d483c9baf"
  },
  {
   "metadata": {},
   "cell_type": "code",
   "outputs": [],
   "execution_count": null,
   "source": [
    "data_frame_long = data_frame.melt(id_vars=['ID', 'Group'], var_name='Time', value_name='Score',\n",
    "                                      value_vars=['T1', 'T2', 'T3'])\n",
    "print(data_frame_long.columns)\n",
    "data_frame_long"
   ],
   "id": "a07f97b8a5dfa754"
  },
  {
   "metadata": {},
   "cell_type": "markdown",
   "source": "# Wilcoxon Sign Rank Test",
   "id": "2eba4c94e363b584"
  },
  {
   "metadata": {},
   "cell_type": "code",
   "outputs": [],
   "execution_count": null,
   "source": [
    "from scipy.stats import wilcoxon\n",
    "\n",
    "stat, p_value = wilcoxon(after, before, alternative='two-sided')\n",
    "print(f'Wilcoxon Sign Rank Statistic={stat}, p={p_value}')\n",
    "print('REJECTION! Two means are not the same!' if p_value < 0.05 else 'Womp Womp. Two means can be the same.')"
   ],
   "id": "cbb9296c05ab1233"
  },
  {
   "metadata": {},
   "cell_type": "code",
   "outputs": [],
   "execution_count": null,
   "source": [
    "from scipy.stats import wilcoxon\n",
    "\n",
    "stat, p_value = wilcoxon(difference, alternative='two-sided')\n",
    "print(f'Wilcoxon Sign Rank Statistic={stat}, p={p_value}')\n",
    "print('REJECTION! Two means are not the same!' if p_value < 0.05 else 'Womp Womp. Two means can be the same.')"
   ],
   "id": "7faf65acedf7d0b7"
  }
 ],
 "metadata": {
  "kernelspec": {
   "display_name": "Python 3",
   "language": "python",
   "name": "python3"
  },
  "language_info": {
   "codemirror_mode": {
    "name": "ipython",
    "version": 2
   },
   "file_extension": ".py",
   "mimetype": "text/x-python",
   "name": "python",
   "nbconvert_exporter": "python",
   "pygments_lexer": "ipython2",
   "version": "2.7.6"
  }
 },
 "nbformat": 4,
 "nbformat_minor": 5
}
