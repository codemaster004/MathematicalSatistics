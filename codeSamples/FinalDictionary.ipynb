{
 "cells": [
  {
   "metadata": {},
   "cell_type": "code",
   "outputs": [],
   "execution_count": null,
   "source": "",
   "id": "b3ed13b424fa046"
  },
  {
   "metadata": {},
   "cell_type": "markdown",
   "source": [
    "# Shapiro-Wilk Test \n",
    "Test for Normality of the data"
   ],
   "id": "895084d65bb38f63"
  },
  {
   "cell_type": "code",
   "id": "initial_id",
   "metadata": {
    "collapsed": true,
    "ExecuteTime": {
     "end_time": "2025-01-26T14:19:00.475666Z",
     "start_time": "2025-01-26T14:19:00.422331Z"
    }
   },
   "source": [
    "from scipy.stats import shapiro\n",
    "\n",
    "stat, p = shapiro([data_list])\n",
    "print(f'Sharpino Statistic={stat}, p={p}')"
   ],
   "outputs": [
    {
     "name": "stdout",
     "output_type": "stream",
     "text": [
      "Sharpino Statistic=0.8198623720978666, p=0.025245118001265256\n"
     ]
    }
   ],
   "execution_count": 3
  },
  {
   "metadata": {},
   "cell_type": "markdown",
   "source": [
    "## Box-Cox Transformation\n",
    "Transform data to be closest to normal as possible"
   ],
   "id": "7789a6ec5f5e3073"
  },
  {
   "metadata": {},
   "cell_type": "code",
   "outputs": [],
   "execution_count": null,
   "source": [
    "from scipy.stats import boxcox\n",
    "\n",
    "transformed_data, _ = boxcox(data_list)"
   ],
   "id": "192b3c50b15b8896"
  },
  {
   "metadata": {},
   "cell_type": "markdown",
   "source": [
    "# Levene Test\n",
    "Check if variances of two groups are the same"
   ],
   "id": "ee9ebd4e229c736a"
  },
  {
   "metadata": {},
   "cell_type": "code",
   "outputs": [],
   "execution_count": null,
   "source": [
    "from scipy.stats import levene\n",
    "\n",
    "stat, p_value = levene(sample1, sample2)\n",
    "print(f\"Statistic: {stat}, P-value: {p_value}\")"
   ],
   "id": "80e5bf34625051a6"
  },
  {
   "metadata": {},
   "cell_type": "code",
   "outputs": [],
   "execution_count": null,
   "source": [
    "from scipy.stats import levene\n",
    "\n",
    "result_col = 'result'\n",
    "\n",
    "column = 'column'\n",
    "groups = [data_frame[data_frame[column] == g]['result'] for g in data_frame[column].unique()]\n",
    "stat, p = levene(*groups)\n",
    "print(f'Levene Statistic Rank={stat}, p={p}')"
   ],
   "id": "957dd4f6d935411c"
  },
  {
   "metadata": {},
   "cell_type": "markdown",
   "source": "# Cross-Table",
   "id": "7f674bc412a697de"
  },
  {
   "metadata": {},
   "cell_type": "code",
   "outputs": [],
   "execution_count": null,
   "source": [
    "from pandas import crosstab\n",
    "\n",
    "table = crosstab(df_column[1], df_column[2])\n",
    "print(table)"
   ],
   "id": "1cc9dfa41456381c"
  },
  {
   "metadata": {},
   "cell_type": "markdown",
   "source": "# Chi-Squared test on Cross Table",
   "id": "33d212a81c46517b"
  },
  {
   "metadata": {},
   "cell_type": "code",
   "outputs": [],
   "execution_count": null,
   "source": [
    "from scipy.stats import chi2_contingency\n",
    "\n",
    "chi2, p, dof, _ = chi2_contingency(table)\n",
    "print(f\"Chi2 Statistic: {chi2}, Df: {dof}, P-value: {p}\")"
   ],
   "id": "13c36b7d5fd745b4"
  },
  {
   "metadata": {},
   "cell_type": "markdown",
   "source": "# ANOVA, ANCOVA",
   "id": "daf15b421e0199ce"
  },
  {
   "metadata": {},
   "cell_type": "code",
   "outputs": [],
   "execution_count": null,
   "source": [
    "from statsmodels.formula.api import ols\n",
    "import statsmodels.api as sm\n",
    "\n",
    "model = ols('result ~ factor1 + factor2', data=data_frame).fit()\n",
    "result_table = sm.stats.anova_lm(model, typ=2)\n",
    "\n",
    "print(result_table)"
   ],
   "id": "81087770cf3f61bb"
  }
 ],
 "metadata": {
  "kernelspec": {
   "display_name": "Python 3",
   "language": "python",
   "name": "python3"
  },
  "language_info": {
   "codemirror_mode": {
    "name": "ipython",
    "version": 2
   },
   "file_extension": ".py",
   "mimetype": "text/x-python",
   "name": "python",
   "nbconvert_exporter": "python",
   "pygments_lexer": "ipython2",
   "version": "2.7.6"
  }
 },
 "nbformat": 4,
 "nbformat_minor": 5
}
