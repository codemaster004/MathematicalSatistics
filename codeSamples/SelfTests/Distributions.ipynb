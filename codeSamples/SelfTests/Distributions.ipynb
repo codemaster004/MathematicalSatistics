{
 "cells": [
  {
   "metadata": {
    "ExecuteTime": {
     "end_time": "2024-11-22T09:23:26.167507Z",
     "start_time": "2024-11-22T09:23:26.164143Z"
    }
   },
   "cell_type": "code",
   "source": [
    "import numpy as np\n",
    "from scipy.stats import binom, poisson, hypergeom, norm, lognorm"
   ],
   "id": "2f967b3132c5c907",
   "outputs": [],
   "execution_count": 9
  },
  {
   "metadata": {},
   "cell_type": "markdown",
   "source": "## Binomial Distribution",
   "id": "9115d21b6f67b457"
  },
  {
   "cell_type": "code",
   "id": "initial_id",
   "metadata": {
    "collapsed": true,
    "ExecuteTime": {
     "end_time": "2024-11-22T08:35:56.440098Z",
     "start_time": "2024-11-22T08:35:56.434458Z"
    }
   },
   "source": [
    "\n",
    "p = 0.15  # probability of success\n",
    "n = 10  # no. trials\n",
    "k = 9  # Expected success\n",
    "\n",
    "point_p = binom.pmf(k, n, p)\n",
    "print(f\"Point probability of a single value: \\np= {point_p}\\n1-p= {1 - point_p}\\n\")\n",
    "\n",
    "# Question 2\n",
    "cumulative_p = binom.cdf(k, n, p)\n",
    "print(f\"Cumulative probability of up to some value: \\np= {cumulative_p}\\n1-p= {1 - cumulative_p}\\n\")\n"
   ],
   "outputs": [
    {
     "name": "stdout",
     "output_type": "stream",
     "text": [
      "Point probability of a single value: \n",
      "p=0.00849085578632812\n",
      "1-p=0.9915091442136719\n",
      "\n",
      "Cumulative probability of up to some value: \n",
      "p=8.66513320312501e-06\n",
      "1-p=0.9999913348667969\n",
      "\n"
     ]
    }
   ],
   "execution_count": 3
  },
  {
   "metadata": {},
   "cell_type": "markdown",
   "source": "## Poisson Distribution",
   "id": "3a11a373b034b8fd"
  },
  {
   "metadata": {
    "ExecuteTime": {
     "end_time": "2024-11-22T20:46:16.091573Z",
     "start_time": "2024-11-22T20:46:16.057932Z"
    }
   },
   "cell_type": "code",
   "source": [
    "lamb = 180 / 12  # N / unit\n",
    "k = 19  # events / unit\n",
    "\n",
    "point_p = poisson.pmf(k, lamb)\n",
    "print(f\"Point probability of a single value: \\np= {point_p}\\n1-p= {1 - point_p}\\n\")\n",
    "\n",
    "# Question 1\n",
    "cumulative_p = poisson.cdf(k, lamb)\n",
    "print(f\"Cumulative probability of up to some value: \\np= {cumulative_p}\\n1-p= {1 - cumulative_p}\\n\")\n",
    "\n",
    "k = poisson.ppf(0.99, lamb)\n",
    "print(k)"
   ],
   "id": "c718a8b4d7b2cb59",
   "outputs": [
    {
     "name": "stdout",
     "output_type": "stream",
     "text": [
      "Point probability of a single value: \n",
      "p= 0.055747073334752824\n",
      "1-p= 0.9442529266652472\n",
      "\n",
      "Cumulative probability of up to some value: \n",
      "p= 0.8752187849674751\n",
      "1-p= 0.12478121503252493\n",
      "\n",
      "25.0\n"
     ]
    }
   ],
   "execution_count": 24
  },
  {
   "metadata": {},
   "cell_type": "markdown",
   "source": "## Normal Distribution",
   "id": "89b5b62de0dfba5e"
  },
  {
   "metadata": {
    "ExecuteTime": {
     "end_time": "2024-11-22T21:34:43.373960Z",
     "start_time": "2024-11-22T21:34:43.346782Z"
    }
   },
   "cell_type": "code",
   "source": [
    "mean = 3000\n",
    "sd = 3\n",
    "\n",
    "x = 2993\n",
    "\n",
    "point_p = norm.pdf(x, loc=mean, scale=sd)\n",
    "print(f\"Point probability of a single value: \\np= {point_p}\\n1-p= {1 - point_p}\\n\")\n",
    "\n",
    "cumulative_p = norm.cdf(x, loc=mean, scale=sd)\n",
    "print(f\"Cumulative probability of up to some value: \\np= {cumulative_p}\\n1-p= {1 - cumulative_p}\\n\")\n",
    "\n"
   ],
   "id": "384c32a03b1d2275",
   "outputs": [
    {
     "name": "stdout",
     "output_type": "stream",
     "text": [
      "Point probability of a single value: \n",
      "p= 0.00874062969790316\n",
      "1-p= 0.9912593703020969\n",
      "\n",
      "Cumulative probability of up to some value: \n",
      "p= 0.009815328628645334\n",
      "1-p= 0.9901846713713547\n",
      "\n"
     ]
    }
   ],
   "execution_count": 25
  },
  {
   "metadata": {},
   "cell_type": "markdown",
   "source": "## Log-Normal Distribution",
   "id": "a43c6f367007f754"
  },
  {
   "metadata": {
    "ExecuteTime": {
     "end_time": "2024-11-22T09:23:48.756380Z",
     "start_time": "2024-11-22T09:23:48.751263Z"
    }
   },
   "cell_type": "code",
   "source": [
    "alpha = 3.1  # mean\n",
    "beta = 0.15  # sd\n",
    "\n",
    "x = 30\n",
    "\n",
    "point_p = lognorm.pmf(x, s=beta, scale=np.exp(alpha))\n",
    "print(f\"Cumulative probability of up to some value: \\np= {point_p}\\n1-p= {1 - point_p}\\n\")\n",
    "\n",
    "cumulative_p = lognorm.cdf(x, s=beta, scale=np.exp(alpha))\n",
    "print(f\"Cumulative probability of up to some value: \\np= {cumulative_p}\\n1-p= {1 - cumulative_p}\\n\")\n"
   ],
   "id": "b688928d09d725bb",
   "outputs": [
    {
     "name": "stdout",
     "output_type": "stream",
     "text": [
      "Point probability of a single value: \n",
      "p= 0.9776774266938512\n",
      "1-p= 0.02232257330614884\n",
      "\n"
     ]
    }
   ],
   "execution_count": 11
  },
  {
   "metadata": {},
   "cell_type": "code",
   "outputs": [],
   "execution_count": null,
   "source": "",
   "id": "8f44a850c780bb5a"
  }
 ],
 "metadata": {
  "kernelspec": {
   "display_name": "Python 3",
   "language": "python",
   "name": "python3"
  },
  "language_info": {
   "codemirror_mode": {
    "name": "ipython",
    "version": 2
   },
   "file_extension": ".py",
   "mimetype": "text/x-python",
   "name": "python",
   "nbconvert_exporter": "python",
   "pygments_lexer": "ipython2",
   "version": "2.7.6"
  }
 },
 "nbformat": 4,
 "nbformat_minor": 5
}
