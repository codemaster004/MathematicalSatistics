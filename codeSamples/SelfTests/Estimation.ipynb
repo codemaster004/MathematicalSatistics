{
 "cells": [
  {
   "metadata": {},
   "cell_type": "markdown",
   "source": "# Estimation",
   "id": "563a0b5913d139e0"
  },
  {
   "metadata": {
    "ExecuteTime": {
     "end_time": "2024-11-25T18:23:23.900459Z",
     "start_time": "2024-11-25T18:23:22.934003Z"
    }
   },
   "cell_type": "code",
   "source": [
    "import numpy as np\n",
    "from scipy.stats import norm, chi2\n",
    "import pandas as pd"
   ],
   "id": "76c871c5916d0687",
   "outputs": [
    {
     "name": "stderr",
     "output_type": "stream",
     "text": [
      "/opt/homebrew/Caskroom/miniforge/base/envs/DataSpellConda/lib/python3.8/site-packages/scipy/__init__.py:146: UserWarning: A NumPy version >=1.16.5 and <1.23.0 is required for this version of SciPy (detected version 1.24.4\n",
      "  warnings.warn(f\"A NumPy version >={np_minversion} and <{np_maxversion}\"\n"
     ]
    }
   ],
   "execution_count": 2
  },
  {
   "metadata": {},
   "cell_type": "markdown",
   "source": "## Confidence Interval",
   "id": "d70ffff1313f87c5"
  },
  {
   "cell_type": "code",
   "id": "initial_id",
   "metadata": {
    "collapsed": true,
    "ExecuteTime": {
     "end_time": "2024-11-22T14:37:25.740766Z",
     "start_time": "2024-11-22T14:37:25.737093Z"
    }
   },
   "source": [
    "m = 1 - 0.18  # Mean\n",
    "\n",
    "# sd = 96.9  # Standard Deviation of sample\n",
    "\"\"\"This mean calculation assumes that mean is a proportion\"\"\"\n",
    "sd = (m * (1 - m)) ** 0.5\n",
    "\"\"\"Calculation if the variance is known\"\"\"\n",
    "# var = 96.9\n",
    "# sd = var ** 0.5\n",
    "\n",
    "n = 272  # Sample size\n",
    "se = sd / (n ** 0.5)\n",
    "\n",
    "alpha = 0.96  # Confidence level\n",
    "ci_min, ci_max = norm.interval(alpha, loc=m, scale=se)\n",
    "\n",
    "print(f\"Confidence interval: [{ci_min}, {ci_max}]\")\n"
   ],
   "outputs": [
    {
     "name": "stdout",
     "output_type": "stream",
     "text": [
      "Confidence interval: [0.7721583584511084, 0.8678416415488918]\n"
     ]
    }
   ],
   "execution_count": 27
  },
  {
   "metadata": {
    "ExecuteTime": {
     "end_time": "2024-11-23T12:27:09.193283Z",
     "start_time": "2024-11-23T12:27:09.167431Z"
    }
   },
   "cell_type": "code",
   "source": [
    "m = 183.8  # Mean\n",
    "\n",
    "var = 132.9  # Variance\n",
    "\n",
    "n = 106  # Sample Size\n",
    "df = n - 1\n",
    "\n",
    "se = (var / n) ** 0.5\n",
    "\n",
    "alpha = 0.90\n",
    "\n",
    "chi2_min, chi2_max = chi2.interval(alpha, df=df)\n",
    "\n",
    "ci_var_min = (df * var) / chi2_max\n",
    "ci_var_max = (df * var) / chi2_min\n",
    "\n",
    "print(f\"Confidence interval for variance: [{ci_var_min}, {ci_var_max}]\")\n",
    "print(f\"Confidence interval for sd:[{ci_var_min ** 0.5}, {ci_var_max ** 0.5}]\")"
   ],
   "id": "ac5c037ffce87ba5",
   "outputs": [
    {
     "name": "stdout",
     "output_type": "stream",
     "text": [
      "Confidence interval for variance: [107.41009561962488, 169.4458517021722]\n",
      "Confidence interval for sd:[10.363884195591192, 13.017136847332143]\n"
     ]
    }
   ],
   "execution_count": 122
  },
  {
   "metadata": {},
   "cell_type": "markdown",
   "source": [
    "## Margin of Error\n",
    "### For Proportion Estimation"
   ],
   "id": "ce736f555efa3b5c"
  },
  {
   "metadata": {
    "ExecuteTime": {
     "end_time": "2024-11-22T20:31:19.662183Z",
     "start_time": "2024-11-22T20:31:19.655041Z"
    }
   },
   "cell_type": "code",
   "source": [
    "p = 52/200  # Proportion of population\n",
    "\n",
    "alpha = 0.95  # Confidence level\n",
    "z = norm.ppf((1 + alpha) / 2)\n",
    "\n",
    "margin_error = 0.03  # Desired margin of error\n",
    "\n",
    "\"\"\"Transformation of equation for MOE\"\"\"\n",
    "sample_size = (z ** 2 * p * (1 - p)) / margin_error ** 2\n",
    "print(f\"Sample size: {sample_size}\")"
   ],
   "id": "6d18406b868f1619",
   "outputs": [
    {
     "name": "stdout",
     "output_type": "stream",
     "text": [
      "Sample size: 821.2185301128332\n"
     ]
    }
   ],
   "execution_count": 83
  },
  {
   "metadata": {},
   "cell_type": "markdown",
   "source": [
    "## Delta in Confidence Interval\n",
    "### For Proportion Estimation"
   ],
   "id": "736c027608479bba"
  },
  {
   "metadata": {
    "ExecuteTime": {
     "end_time": "2024-11-24T15:06:15.147699Z",
     "start_time": "2024-11-24T15:06:15.129019Z"
    }
   },
   "cell_type": "code",
   "source": [
    "n = 474  # Sample size\n",
    "p = 0.4186  # Proportion of population\n",
    "\n",
    "alpha = 0.99  # Confidence level\n",
    "z = norm.ppf((1 + alpha) / 2)\n",
    "\n",
    "sd = (p * (1 - p)) ** 0.5\n",
    "\n",
    "delta = 0.1  # Desired difference between intervals\n",
    "\n",
    "sample_size = ((2 * z * sd) / delta)**2\n",
    "print(f\"Sample size: {sample_size}\")"
   ],
   "id": "2495e105150fd44",
   "outputs": [
    {
     "name": "stdout",
     "output_type": "stream",
     "text": [
      "Sample size: 645.9046363091203\n"
     ]
    }
   ],
   "execution_count": 124
  },
  {
   "metadata": {},
   "cell_type": "markdown",
   "source": "## Interval size estimation from datafile",
   "id": "b73c2367af7dc4aa"
  },
  {
   "metadata": {
    "ExecuteTime": {
     "end_time": "2024-11-24T21:05:27.467218Z",
     "start_time": "2024-11-24T21:05:27.438397Z"
    }
   },
   "cell_type": "code",
   "source": [
    "# Input YOUR PATH\n",
    "df = pd.read_csv('../../data/dataset.csv', decimal='\\n')\n",
    "\n",
    "# Name of column!!!\n",
    "values = np.array(df['x'])\n",
    "\n",
    "alpha = 0.99  # Confidence lvl\n",
    "z = norm.ppf((1 + alpha) / 2)\n",
    "\n",
    "delta = 10  # Difference of CI\n",
    "\n",
    "mean = values.mean()\n",
    "sd = values.std(ddof=1)\n",
    "\n",
    "sample_size = ((2 * z * sd) / delta)**2\n",
    "print(f\"Sample size: {sample_size}\")"
   ],
   "id": "49f1235072a5dc90",
   "outputs": [
    {
     "name": "stdout",
     "output_type": "stream",
     "text": [
      "Sample size: 458.9478613410028\n"
     ]
    }
   ],
   "execution_count": 139
  },
  {
   "metadata": {
    "ExecuteTime": {
     "end_time": "2024-11-25T18:08:48.940706Z",
     "start_time": "2024-11-25T18:08:48.523224Z"
    }
   },
   "cell_type": "code",
   "source": [
    "url = \"https://raw.githubusercontent.com/kflisikowski/ds/refs/heads/master/data_pizza.csv\"\n",
    "df = pd.read_csv(url)\n",
    "\n",
    "del_time_a = np.array(df[df['area'] == 'Westminster']['delivery_min'])\n",
    "\n",
    "mean = del_time_a.mean()\n",
    "print(\"mean:\", mean)\n",
    "\n",
    "sd = del_time_a.std(ddof=1)\n",
    "print(\"sd:\", sd)\n",
    "\n",
    "se = sd / np.sqrt(del_time_a.shape[0])\n",
    "\n",
    "print(f\"bias: {se}\")\n",
    "\n",
    "print(se / mean * 100)\n",
    "\n",
    "alpha = 0.95  # Confidence level\n",
    "z = norm.ppf((1 + alpha) / 2)\n",
    "\n",
    "ci_min, ci_max = norm.interval(alpha, loc=mean, scale=se)\n",
    "print(f\"Confidence Interval: [{ci_min}, {ci_max}]\")\n",
    "\n",
    "delta = 0.05  # Desired difference between intervals\n",
    "\n",
    "sample_size = ((2 * z * sd) / delta)**2\n",
    "print(f\"Sample size: {sample_size}\")"
   ],
   "id": "57c76e3bca62e4ad",
   "outputs": [
    {
     "name": "stdout",
     "output_type": "stream",
     "text": [
      "mean: 31.99291338582677\n",
      "sd: 10.803377988552047\n",
      "bias: 0.5534738207408619\n",
      "1.729988807415261\n",
      "Confidence Interval: [30.908124630788905, 33.07770214086464]\n",
      "Sample size: 717356.9456073073\n"
     ]
    }
   ],
   "execution_count": 140
  },
  {
   "metadata": {
    "ExecuteTime": {
     "end_time": "2024-11-25T18:23:26.070822Z",
     "start_time": "2024-11-25T18:23:25.862887Z"
    }
   },
   "cell_type": "code",
   "source": [
    "url = \"https://raw.githubusercontent.com/kflisikowski/ds/refs/heads/master/data_pizza.csv\"\n",
    "df = pd.read_csv(url)\n",
    "\n",
    "del_time_a = np.array(df[df['area'] == 'Westminster']['quality'])\n",
    "\n",
    "prop = del_time_a[del_time_a == 'low'].shape[0] / del_time_a.shape[0]\n",
    "n = del_time_a.shape[0]\n",
    "\n",
    "print(\"proportion:\", prop * 100)\n",
    "\n",
    "sd = prop * (1 - prop) ** 0.5\n",
    "\n",
    "se = sd / np.sqrt(n)\n",
    "\n",
    "print(f\"bias: {se}\")\n",
    "\n",
    "print(se / prop * 100)\n",
    "\n",
    "alpha = 0.95  # Confidence level\n",
    "z = norm.ppf((1 + alpha) / 2)\n",
    "\n",
    "ci_min, ci_max = norm.interval(alpha, loc=prop, scale=se)\n",
    "print(f\"Confidence Interval: [{ci_min * 100}, {ci_max * 100}]\")\n",
    "\n",
    "delta = 0.05  # Desired difference between intervals\n",
    "\n",
    "sample_size = ((2 * z * sd) / delta)**2\n",
    "print(f\"Sample size: {sample_size}\")"
   ],
   "id": "9f490407232f88f0",
   "outputs": [
    {
     "name": "stdout",
     "output_type": "stream",
     "text": [
      "proportion: 20.73490813648294\n",
      "bias: 0.009457592800832445\n",
      "4.561193490021723\n",
      "Confidence Interval: [18.881254009475253, 22.58856226349063]\n",
      "Sample size: 209.46060963202794\n"
     ]
    }
   ],
   "execution_count": 3
  },
  {
   "metadata": {},
   "cell_type": "code",
   "outputs": [],
   "execution_count": null,
   "source": "",
   "id": "222f25a4d92cffe7"
  }
 ],
 "metadata": {
  "kernelspec": {
   "display_name": "Python 3",
   "language": "python",
   "name": "python3"
  },
  "language_info": {
   "codemirror_mode": {
    "name": "ipython",
    "version": 2
   },
   "file_extension": ".py",
   "mimetype": "text/x-python",
   "name": "python",
   "nbconvert_exporter": "python",
   "pygments_lexer": "ipython2",
   "version": "2.7.6"
  }
 },
 "nbformat": 4,
 "nbformat_minor": 5
}
