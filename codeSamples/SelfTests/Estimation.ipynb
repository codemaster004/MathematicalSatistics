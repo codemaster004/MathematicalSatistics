{
 "cells": [
  {
   "metadata": {},
   "cell_type": "markdown",
   "source": "# Estimation",
   "id": "563a0b5913d139e0"
  },
  {
   "metadata": {
    "ExecuteTime": {
     "end_time": "2024-11-22T20:52:28.245623Z",
     "start_time": "2024-11-22T20:52:28.231632Z"
    }
   },
   "cell_type": "code",
   "source": [
    "import numpy as np\n",
    "from scipy.stats import norm\n",
    "import pandas as pd"
   ],
   "id": "76c871c5916d0687",
   "outputs": [],
   "execution_count": 105
  },
  {
   "metadata": {},
   "cell_type": "markdown",
   "source": "## Confidence Interval",
   "id": "d70ffff1313f87c5"
  },
  {
   "cell_type": "code",
   "id": "initial_id",
   "metadata": {
    "collapsed": true,
    "ExecuteTime": {
     "end_time": "2024-11-22T14:37:25.740766Z",
     "start_time": "2024-11-22T14:37:25.737093Z"
    }
   },
   "source": [
    "m = 1 - 0.18  # Mean\n",
    "\n",
    "# sd = 96.9  # Standard Deviation of sample\n",
    "\"\"\"This mean calculation assumes that mean is a proportion\"\"\"\n",
    "sd = (m * (1 - m)) ** 0.5\n",
    "\"\"\"Calculation if the variance is known\"\"\"\n",
    "# var = 96.9\n",
    "# sd = var ** 0.5\n",
    "\n",
    "n = 272  # Sample size\n",
    "se = sd / (n ** 0.5)\n",
    "\n",
    "alpha = 0.96  # Confidence level\n",
    "ci_min, ci_max = norm.interval(alpha, loc=m, scale=se)\n",
    "\n",
    "print(f\"Confidence interval: [{ci_min}, {ci_max}]\")\n"
   ],
   "outputs": [
    {
     "name": "stdout",
     "output_type": "stream",
     "text": [
      "Confidence interval: [0.7721583584511084, 0.8678416415488918]\n"
     ]
    }
   ],
   "execution_count": 27
  },
  {
   "metadata": {},
   "cell_type": "markdown",
   "source": [
    "## Margin of Error\n",
    "### For Proportion Estimation"
   ],
   "id": "ce736f555efa3b5c"
  },
  {
   "metadata": {
    "ExecuteTime": {
     "end_time": "2024-11-22T20:31:19.662183Z",
     "start_time": "2024-11-22T20:31:19.655041Z"
    }
   },
   "cell_type": "code",
   "source": [
    "p = 52/200  # Proportion of population\n",
    "\n",
    "alpha = 0.95  # Confidence level\n",
    "z = norm.ppf((1 + alpha) / 2)\n",
    "\n",
    "margin_error = 0.03  # Desired margin of error\n",
    "\n",
    "\"\"\"Transformation of equation for MOE\"\"\"\n",
    "sample_size = (z ** 2 * p * (1 - p)) / margin_error ** 2\n",
    "print(f\"Sample size: {sample_size}\")"
   ],
   "id": "6d18406b868f1619",
   "outputs": [
    {
     "name": "stdout",
     "output_type": "stream",
     "text": [
      "Sample size: 821.2185301128332\n"
     ]
    }
   ],
   "execution_count": 83
  },
  {
   "metadata": {},
   "cell_type": "markdown",
   "source": [
    "## Delta in Confidence Interval\n",
    "### For Proportion Estimation"
   ],
   "id": "736c027608479bba"
  },
  {
   "metadata": {
    "ExecuteTime": {
     "end_time": "2024-11-22T20:36:46.637801Z",
     "start_time": "2024-11-22T20:36:46.631322Z"
    }
   },
   "cell_type": "code",
   "source": [
    "n = 474  # Sample size\n",
    "p = 0.16  # Proportion of population\n",
    "\n",
    "alpha = 0.96  # Confidence level\n",
    "z = norm.ppf((1 + alpha) / 2)\n",
    "\n",
    "sd = (p * (1 - p)) ** 0.5\n",
    "\n",
    "delta = 0.04  # Desired margin of error\n",
    "\n",
    "sample_size = ((2 * z * sd) / delta)**2\n",
    "print(f\"Sample size: {sample_size}\")"
   ],
   "id": "2495e105150fd44",
   "outputs": [
    {
     "name": "stdout",
     "output_type": "stream",
     "text": [
      "Confidence interval: [0.12541738660858257, 0.19458261339141744]\n",
      "Delta: 0.06916522678283488\n",
      "Sample size: 1417.2092215415894\n"
     ]
    }
   ],
   "execution_count": 103
  },
  {
   "metadata": {},
   "cell_type": "markdown",
   "source": "## Interval size estimation from datafile",
   "id": "b73c2367af7dc4aa"
  },
  {
   "metadata": {
    "ExecuteTime": {
     "end_time": "2024-11-22T20:58:48.313278Z",
     "start_time": "2024-11-22T20:58:48.307924Z"
    }
   },
   "cell_type": "code",
   "source": [
    "df = pd.read_csv('../../data/dataset.csv', decimal='\\n')\n",
    "\n",
    "# NAme of column!!!\n",
    "values = np.array(df['x'])\n",
    "\n",
    "alpha = 0.99  # Confidence lvl\n",
    "z = norm.ppf((1 + alpha) / 2)\n",
    "\n",
    "delta = 10  # Difference of CI\n",
    "\n",
    "mean = values.mean()\n",
    "sd = values.std(ddof=1)\n",
    "\n",
    "sample_size = ((2 * z * sd) / delta)**2\n",
    "print(f\"Sample size: {sample_size}\")"
   ],
   "id": "49f1235072a5dc90",
   "outputs": [
    {
     "name": "stdout",
     "output_type": "stream",
     "text": [
      "Sample size: 548.8715053720226\n"
     ]
    }
   ],
   "execution_count": 112
  },
  {
   "metadata": {},
   "cell_type": "code",
   "outputs": [],
   "execution_count": null,
   "source": "",
   "id": "57c76e3bca62e4ad"
  }
 ],
 "metadata": {
  "kernelspec": {
   "display_name": "Python 3",
   "language": "python",
   "name": "python3"
  },
  "language_info": {
   "codemirror_mode": {
    "name": "ipython",
    "version": 2
   },
   "file_extension": ".py",
   "mimetype": "text/x-python",
   "name": "python",
   "nbconvert_exporter": "python",
   "pygments_lexer": "ipython2",
   "version": "2.7.6"
  }
 },
 "nbformat": 4,
 "nbformat_minor": 5
}
