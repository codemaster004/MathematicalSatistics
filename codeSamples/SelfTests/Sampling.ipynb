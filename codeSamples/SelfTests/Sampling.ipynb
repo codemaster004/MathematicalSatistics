{
 "cells": [
  {
   "metadata": {},
   "cell_type": "markdown",
   "source": "# Sampling",
   "id": "b6a6dbbb0832bb56"
  },
  {
   "metadata": {
    "ExecuteTime": {
     "end_time": "2024-11-22T09:52:05.028687Z",
     "start_time": "2024-11-22T09:52:04.565812Z"
    }
   },
   "cell_type": "code",
   "source": [
    "import numpy as np\n",
    "from scipy.stats import norm"
   ],
   "id": "948e612ae9ef84ad",
   "outputs": [
    {
     "name": "stderr",
     "output_type": "stream",
     "text": [
      "/opt/homebrew/Caskroom/miniforge/base/envs/DataSpellConda/lib/python3.8/site-packages/scipy/__init__.py:146: UserWarning: A NumPy version >=1.16.5 and <1.23.0 is required for this version of SciPy (detected version 1.24.4\n",
      "  warnings.warn(f\"A NumPy version >={np_minversion} and <{np_maxversion}\"\n"
     ]
    }
   ],
   "execution_count": 2
  },
  {
   "cell_type": "code",
   "id": "initial_id",
   "metadata": {
    "collapsed": true,
    "ExecuteTime": {
     "end_time": "2024-11-22T10:00:45.085917Z",
     "start_time": "2024-11-22T10:00:45.075758Z"
    }
   },
   "source": [
    "mean = 10.90  # mean of population\n",
    "sd = 5.60  # standard deviation of population\n",
    "\n",
    "n = 60  # Sample size\n",
    "se = sd / (n ** 0.5)\n",
    "\n",
    "k = 750 / n  # Checking value\n",
    "\n",
    "point_p = norm.pdf(k, loc=mean, scale=se)\n",
    "print(f\"Point probability of a single value: \\np= {point_p}\\n1-p= {1 - point_p}\\n\")\n",
    "\n",
    "cumulative_p = norm.cdf(k, loc=mean, scale=se)\n",
    "print(f\"Cumulative probability up to some value: \\np= {cumulative_p}\\n1-p= {1 - cumulative_p}\\n\")\n",
    "\n",
    "probability = 0.95\n",
    "\n",
    "inverse_cdf = norm.ppf(probability, loc=mean, scale=se)\n",
    "print(f\"Inverse CDF: \\n{inverse_cdf}\")"
   ],
   "outputs": [
    {
     "name": "stdout",
     "output_type": "stream",
     "text": [
      "Point probability of a single value: \n",
      "p= 0.047667166965225403\n",
      "1-p= 0.9523328330347746\n",
      "\n",
      "Cumulative probability up to some value: \n",
      "p= 0.9865557729481271\n",
      "1-p= 0.01344422705187287\n",
      "\n",
      "Inverse CDF: \n",
      "12.089158264771292\n"
     ]
    }
   ],
   "execution_count": 4
  },
  {
   "metadata": {},
   "cell_type": "markdown",
   "source": "## Frequency Table",
   "id": "9f06fa65ce9c2bcf"
  },
  {
   "metadata": {
    "ExecuteTime": {
     "end_time": "2024-11-22T12:24:45.790098Z",
     "start_time": "2024-11-22T12:24:45.785227Z"
    }
   },
   "cell_type": "code",
   "source": [
    "values = np.array([1, 2, 3, 4, 5])  # Possible Values\n",
    "prob = np.array([0.215, 0.188, 0.247, 0.217, 0.133])  # Probability of said Value happening\n",
    "\n",
    "n = 68  # Sample size\n",
    "\n",
    "mean = np.sum(values * prob)\n",
    "sd = np.sqrt(np.sum((values - mean) ** 2 * prob))\n",
    "\n",
    "se = sd / (n ** 0.5)\n",
    "\n",
    "k = 3  # Value to check\n",
    "\n",
    "cumulative_p = norm.cdf(k, loc=mean, scale=se)\n",
    "print(f\"Cumulative probability up to some value: \\np= {cumulative_p}\\n1-p= {1 - cumulative_p}\\n\")\n"
   ],
   "id": "f3ec3bca8f7b6725",
   "outputs": [
    {
     "name": "stdout",
     "output_type": "stream",
     "text": [
      "Cumulative probability up to some value: \n",
      "p= 0.7980552194533295\n",
      "1-p= 0.20194478054667053\n",
      "\n"
     ]
    }
   ],
   "execution_count": 15
  },
  {
   "metadata": {},
   "cell_type": "code",
   "outputs": [],
   "execution_count": null,
   "source": "",
   "id": "77fd87392d09b178"
  }
 ],
 "metadata": {
  "kernelspec": {
   "display_name": "Python 3",
   "language": "python",
   "name": "python3"
  },
  "language_info": {
   "codemirror_mode": {
    "name": "ipython",
    "version": 2
   },
   "file_extension": ".py",
   "mimetype": "text/x-python",
   "name": "python",
   "nbconvert_exporter": "python",
   "pygments_lexer": "ipython2",
   "version": "2.7.6"
  }
 },
 "nbformat": 4,
 "nbformat_minor": 5
}
