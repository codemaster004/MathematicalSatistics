{
 "cells": [
  {
   "cell_type": "markdown",
   "metadata": {},
   "source": [
    "## Introduction\n",
    "\n",
    "The repeated measures ANOVA makes the following assumptions about the\n",
    "data:\n",
    "\n",
    "-   **No significant outliers** in any cell of the design.\n",
    "\n",
    "-   **Normality**: the outcome (or dependent) variable should be\n",
    "    approximately normally distributed in each cell of the design. This\n",
    "    can be checked using the **Shapiro-Wilk normality test** or by visual inspection using **QQ\n",
    "    plot**.\n",
    "\n",
    "-   **Assumption of sphericity**: the variance of the differences\n",
    "    between groups should be equal. This can be checked using the\n",
    "    **Mauchly's test of sphericity**.\n",
    "\n",
    "Note that, [**if the above assumptions are not met**]{.underline} there\n",
    "are a non-parametric alternative (*Friedman test*) to the one-way\n",
    "repeated measures ANOVA!\n",
    "\n",
    "Unfortunately, there are no non-parametric alternatives to three-way repeated measures ANOVA. Thus, in the situation where the assumptions are not met, you could consider running the\n",
    "two-way/three-way repeated measures ANOVA on the transformed and\n",
    "non-transformed data to see if there are any meaningful differences.\n",
    "\n",
    "If both tests lead you to the same conclusions, you might not choose to\n",
    "transform the outcome variable and carry on with the two-way/three-way\n",
    "repeated measures ANOVA on the original data.\n",
    "\n",
    "It's also possible to perform robust ANOVA test.\n",
    "\n",
    "No matter your choice, you should report what you did in your results."
   ]
  },
  {
   "cell_type": "markdown",
   "metadata": {},
   "source": [
    "## RM Anova in Python\n",
    "\n",
    "Key Python functions:\n",
    "\n",
    "### statsmodels\n",
    "\n",
    "AnovaRM: This function is part of the statsmodels library and is used for conducting repeated-measures ANOVA.\n",
    "\n",
    "from statsmodels.stats.anova import AnovaRM\n",
    "\n",
    "Usage:\n",
    "\n",
    "anova = AnovaRM(data, 'dependent_variable', 'subject', within=['within_factor'])\n",
    "\n",
    "result = anova.fit()\n",
    "\n",
    "print(result)"
   ]
  },
  {
   "cell_type": "markdown",
   "metadata": {},
   "source": [
    "### pingouin:\n",
    "\n",
    "rm_anova: This function is part of the pingouin library and is also used for conducting repeated-measures ANOVA.\n",
    "\n",
    "result = pg.rm_anova(dv='dependent_variable', within='within_factor', subject='subject', data=data)\n",
    "\n",
    "print(result)"
   ]
  },
  {
   "cell_type": "markdown",
   "metadata": {},
   "source": [
    "## 1-way RM Anova\n",
    "\n",
    "The dataset \"***selfesteem***\" contains 10 individuals' self-esteem\n",
    "score on three time points during a specific diet to determine whether\n",
    "their self-esteem improved.\n",
    "\n"
   ]
  },
  {
   "cell_type": "code",
   "metadata": {
    "ExecuteTime": {
     "end_time": "2024-12-19T17:26:19.534673Z",
     "start_time": "2024-12-19T17:26:19.085963Z"
    }
   },
   "source": [
    "import pandas as pd\n",
    "\n",
    "# URL to the CSV file\n",
    "url = \"https://github.com/kflisikowski/ds/raw/master/selfesteem.csv\"\n",
    "\n",
    "# Load the data into a DataFrame\n",
    "selfesteem = pd.read_csv(url)\n",
    "\n",
    "# Display the first few rows of the data\n",
    "print(selfesteem.head())"
   ],
   "outputs": [
    {
     "name": "stdout",
     "output_type": "stream",
     "text": [
      "   id        t1        t2        t3\n",
      "0   1  4.005027  5.182286  7.107831\n",
      "1   2  2.558124  6.912915  6.308434\n",
      "2   3  3.244241  4.443434  9.778410\n",
      "3   4  3.419538  4.711696  8.347124\n",
      "4   5  2.871243  3.908429  6.457287\n"
     ]
    }
   ],
   "execution_count": 1
  },
  {
   "cell_type": "markdown",
   "metadata": {},
   "source": [
    "The one-way repeated measures ANOVA can be used to determine whether the\n",
    "means self-esteem scores are significantly different between the three\n",
    "time points. So let's convert this data frame into long format:"
   ]
  },
  {
   "cell_type": "code",
   "metadata": {
    "ExecuteTime": {
     "end_time": "2024-12-19T17:32:38.780577Z",
     "start_time": "2024-12-19T17:32:38.756720Z"
    }
   },
   "source": [
    "# Transform the data\n",
    "selfesteem = selfesteem.melt(id_vars=['id'], value_vars=['t1', 't2', 't3'], \n",
    "                             var_name='time', value_name='score')\n",
    "\n",
    "# Convert 'id' and 'time' columns to categorical\n",
    "selfesteem['id'] = selfesteem['id'].astype('category')\n",
    "selfesteem['time'] = selfesteem['time'].astype('category')\n",
    "\n",
    "# Display the first 3 rows of the transformed data\n",
    "print(selfesteem.head(3))"
   ],
   "outputs": [
    {
     "name": "stdout",
     "output_type": "stream",
     "text": [
      "  id time     score\n",
      "0  1   t1  4.005027\n",
      "1  2   t1  2.558124\n",
      "2  3   t1  3.244241\n"
     ]
    }
   ],
   "execution_count": 2
  },
  {
   "cell_type": "markdown",
   "metadata": {},
   "source": [
    "### Descriptive statistics"
   ]
  },
  {
   "cell_type": "code",
   "metadata": {
    "ExecuteTime": {
     "end_time": "2024-12-19T17:32:45.059002Z",
     "start_time": "2024-12-19T17:32:45.052354Z"
    }
   },
   "source": [
    "# Group by 'time' and calculate mean and standard deviation for 'score'\n",
    "summary_stats = selfesteem.groupby('time')['score'].agg(['mean', 'std']).reset_index()\n",
    "\n",
    "# Rename columns for clarity\n",
    "summary_stats.columns = ['time', 'mean_score', 'sd_score']\n",
    "\n",
    "# Display the summary statistics\n",
    "print(summary_stats)"
   ],
   "outputs": [
    {
     "name": "stdout",
     "output_type": "stream",
     "text": [
      "  time  mean_score  sd_score\n",
      "0   t1    3.140122  0.551806\n",
      "1   t2    4.933942  0.863070\n",
      "2   t3    7.636342  1.142598\n"
     ]
    }
   ],
   "execution_count": 3
  },
  {
   "cell_type": "code",
   "metadata": {
    "ExecuteTime": {
     "end_time": "2024-12-19T17:32:47.946061Z",
     "start_time": "2024-12-19T17:32:47.781421Z"
    }
   },
   "source": [
    "import seaborn as sns\n",
    "import matplotlib.pyplot as plt\n",
    "\n",
    "# Create the boxplot\n",
    "bxp = sns.boxplot(x='time', y='score', data=selfesteem)\n",
    "\n",
    "# Display the plot\n",
    "plt.show()"
   ],
   "outputs": [
    {
     "data": {
      "text/plain": [
       "<Figure size 640x480 with 1 Axes>"
      ],
      "image/png": "[encoded data removed]"
     },
     "metadata": {},
     "output_type": "display_data"
    }
   ],
   "execution_count": 4
  },
  {
   "cell_type": "markdown",
   "metadata": {},
   "source": [
    "### Assumptions\n",
    "\n",
    "Identify outliers in each cell design:"
   ]
  },
  {
   "cell_type": "code",
   "metadata": {
    "ExecuteTime": {
     "end_time": "2024-12-19T17:32:59.933172Z",
     "start_time": "2024-12-19T17:32:59.921540Z"
    }
   },
   "source": [
    "# Function to identify outliers using IQR method\n",
    "def identify_outliers(group):\n",
    "    Q1 = group['score'].quantile(0.25)\n",
    "    Q3 = group['score'].quantile(0.75)\n",
    "    IQR = Q3 - Q1\n",
    "    outliers = (group['score'] < (Q1 - 1.5 * IQR)) | (group['score'] > (Q3 + 1.5 * IQR))\n",
    "    return group[outliers]\n",
    "\n",
    "# Identify outliers\n",
    "outliers = selfesteem.groupby('time').apply(identify_outliers).reset_index(drop=True)\n",
    "\n",
    "# Display the outliers\n",
    "print(outliers)"
   ],
   "outputs": [
    {
     "name": "stdout",
     "output_type": "stream",
     "text": [
      "  id time     score\n",
      "0  6   t1  2.045868\n",
      "1  2   t2  6.912915\n"
     ]
    }
   ],
   "execution_count": 5
  },
  {
   "cell_type": "markdown",
   "metadata": {},
   "source": [
    "Check normality assumption by analyzing the model residuals. QQ plot and\n",
    "Shapiro-Wilk test of normality are used."
   ]
  },
  {
   "cell_type": "code",
   "metadata": {
    "ExecuteTime": {
     "end_time": "2024-12-19T17:33:27.165971Z",
     "start_time": "2024-12-19T17:33:27.047640Z"
    }
   },
   "source": [
    "import pingouin as pg\n",
    "\n",
    "# Perform Shapiro-Wilk test for normality\n",
    "shapiro_results = selfesteem.groupby('time').apply(lambda x: pg.normality(x['score'], method='shapiro'))\n",
    "\n",
    "# Display the results\n",
    "print(shapiro_results)"
   ],
   "outputs": [
    {
     "name": "stdout",
     "output_type": "stream",
     "text": [
      "                   W      pval  normal\n",
      "time                                  \n",
      "t1   score  0.966690  0.858576    True\n",
      "t2   score  0.875885  0.116996    True\n",
      "t3   score  0.922715  0.380157    True\n"
     ]
    }
   ],
   "execution_count": 7
  },
  {
   "cell_type": "code",
   "metadata": {
    "ExecuteTime": {
     "end_time": "2024-12-19T17:34:12.845944Z",
     "start_time": "2024-12-19T17:34:11.161187Z"
    }
   },
   "source": [
    "import matplotlib.pyplot as plt\n",
    "import statsmodels.api as sm\n",
    "\n",
    "# Create Q-Q plots for each time group\n",
    "time_groups = selfesteem['time'].unique()\n",
    "fig, axes = plt.subplots(1, len(time_groups), figsize=(15, 5))\n",
    "\n",
    "for i, time in enumerate(time_groups):\n",
    "    sm.qqplot(selfesteem[selfesteem['time'] == time]['score'], line='s', ax=axes[i])\n",
    "    axes[i].set_title(f'Q-Q plot for {time}')\n",
    "\n",
    "plt.tight_layout()\n",
    "plt.show()"
   ],
   "outputs": [
    {
     "data": {
      "text/plain": [
       "<Figure size 1500x500 with 3 Axes>"
      ],
      "image/png": "[encoded data removed]"
     },
     "metadata": {},
     "output_type": "display_data"
    }
   ],
   "execution_count": 8
  },
  {
   "cell_type": "markdown",
   "metadata": {},
   "source": [
    "### Anova"
   ]
  },
  {
   "cell_type": "code",
   "metadata": {
    "ExecuteTime": {
     "end_time": "2024-12-19T17:36:09.708848Z",
     "start_time": "2024-12-19T17:36:09.648439Z"
    }
   },
   "source": [
    "import pingouin as pg\n",
    "# Perform repeated-measures ANOVA\n",
    "results = pg.rm_anova(data=selfesteem, dv='score', detailed=True, within='time', subject='id')\n",
    "\n",
    "# Display the results\n",
    "results.round(3)"
   ],
   "outputs": [
    {
     "data": {
      "text/plain": [
       "  Source       SS  DF      MS       F  p-unc    ng2   eps\n",
       "0   time  102.456   2  51.228  55.469    0.0  0.829  0.69\n",
       "1  Error   16.624  18   0.924     NaN    NaN    NaN   NaN"
      ],
      "text/html": [
       "<div>\n",
       "<style scoped>\n",
       "    .dataframe tbody tr th:only-of-type {\n",
       "        vertical-align: middle;\n",
       "    }\n",
       "\n",
       "    .dataframe tbody tr th {\n",
       "        vertical-align: top;\n",
       "    }\n",
       "\n",
       "    .dataframe thead th {\n",
       "        text-align: right;\n",
       "    }\n",
       "</style>\n",
       "<table border=\"1\" class=\"dataframe\">\n",
       "  <thead>\n",
       "    <tr style=\"text-align: right;\">\n",
       "      <th></th>\n",
       "      <th>Source</th>\n",
       "      <th>SS</th>\n",
       "      <th>DF</th>\n",
       "      <th>MS</th>\n",
       "      <th>F</th>\n",
       "      <th>p-unc</th>\n",
       "      <th>ng2</th>\n",
       "      <th>eps</th>\n",
       "    </tr>\n",
       "  </thead>\n",
       "  <tbody>\n",
       "    <tr>\n",
       "      <th>0</th>\n",
       "      <td>time</td>\n",
       "      <td>102.456</td>\n",
       "      <td>2</td>\n",
       "      <td>51.228</td>\n",
       "      <td>55.469</td>\n",
       "      <td>0.0</td>\n",
       "      <td>0.829</td>\n",
       "      <td>0.69</td>\n",
       "    </tr>\n",
       "    <tr>\n",
       "      <th>1</th>\n",
       "      <td>Error</td>\n",
       "      <td>16.624</td>\n",
       "      <td>18</td>\n",
       "      <td>0.924</td>\n",
       "      <td>NaN</td>\n",
       "      <td>NaN</td>\n",
       "      <td>NaN</td>\n",
       "      <td>NaN</td>\n",
       "    </tr>\n",
       "  </tbody>\n",
       "</table>\n",
       "</div>"
      ]
     },
     "execution_count": 9,
     "metadata": {},
     "output_type": "execute_result"
    }
   ],
   "execution_count": 9
  },
  {
   "cell_type": "markdown",
   "metadata": {},
   "source": [
    "## How to interpret R-M Anova results?\n",
    "\n",
    "Source: The source of variance. In this case, it is time, indicating that we are analyzing the effect of time on the score variable.\n",
    "\n",
    "ddof1: Degrees of freedom for the time factor (df_between). In this case, it is 2 because we have three measurements (t1, t2, t3), so df_between = number of levels - 1.\n",
    "\n",
    "ddof2: Degrees of freedom for the error (df_within). In this case, it is 18, which results from the number of participants multiplied by (number of levels - 1).\n",
    "\n",
    "F: The F-statistic. This value tells us how large the difference between groups is compared to the differences within groups. A higher F value suggests a larger difference between groups.\n",
    "\n",
    "p-unc: The p-value (uncorrected). This value tells us whether the differences between groups are statistically significant. A p-value < 0.05 suggests that the differences are statistically significant.\n",
    "\n",
    "np2: Eta-squared (η²), a measure of effect size. This value tells us how much of the variance in the data is explained by the time factor. Eta-squared values can be interpreted as:\n",
    "\n",
    "0.01: small effect\n",
    "\n",
    "0.06: medium effect\n",
    "\n",
    "0.14: large effect\n",
    "\n",
    "'eps': Greenhouse-Geisser epsilon factor (= index of sphericity) - The repeated measures ANOVA table is very similar to the one-way ANOVA table, with an additional eps column. This refers to the epsilon statistic, which indicates the degree to which sphericity is present or not. An epsilon of 1 means that the condition of sphericity is exactly met. The further epsilon decreases below 1, the greater the violation of sphericity.\n",
    "\n",
    "If the sphericity assumption is not met, Pingouin returns the Mauchly test chi-square statistic and p-values, as well as the Greenhouse-Geisser corrected p-value of the ANOVA (The Greenhouse-Geisser correction uses epsilon to correct the degrees of freedom of the ANOVA). You can force the correction using correction=True."
   ]
  },
  {
   "cell_type": "markdown",
   "metadata": {},
   "source": [
    "## Interpretation:\n",
    "\n",
    "The results of the repeated-measures ANOVA show that time (time) ..."
   ]
  },
  {
   "cell_type": "markdown",
   "metadata": {},
   "source": []
  },
  {
   "cell_type": "markdown",
   "metadata": {},
   "source": [
    "### Post-hoc tests"
   ]
  },
  {
   "cell_type": "code",
   "metadata": {
    "ExecuteTime": {
     "end_time": "2024-12-19T17:48:03.083408Z",
     "start_time": "2024-12-19T17:48:03.054846Z"
    }
   },
   "source": [
    "# Perform pairwise comparisons with Bonferroni correction\n",
    "pwc = pg.pairwise_tests(dv='score', within='time', subject='id', data=selfesteem, padjust='bonferroni')\n",
    "\n",
    "# Display the results\n",
    "print(pwc)"
   ],
   "outputs": [
    {
     "name": "stdout",
     "output_type": "stream",
     "text": [
      "  Contrast   A   B  Paired  Parametric          T  dof alternative  \\\n",
      "0     time  t1  t2    True        True  -4.967618  9.0   two-sided   \n",
      "1     time  t1  t3    True        True -13.228148  9.0   two-sided   \n",
      "2     time  t2  t3    True        True  -4.867816  9.0   two-sided   \n",
      "\n",
      "          p-unc    p-corr    p-adjust      BF10    hedges  \n",
      "0  7.724196e-04  0.002317  bonferroni    50.694 -2.371801  \n",
      "1  3.343804e-07  0.000001  bonferroni  4.02e+04 -4.799517  \n",
      "2  8.861912e-04  0.002659  bonferroni    45.195 -2.556194  \n"
     ]
    }
   ],
   "execution_count": 11
  },
  {
   "cell_type": "code",
   "metadata": {
    "ExecuteTime": {
     "end_time": "2024-12-19T17:52:36.257899Z",
     "start_time": "2024-12-19T17:52:36.118604Z"
    }
   },
   "source": [
    "import seaborn as sns\n",
    "import matplotlib.pyplot as plt\n",
    "import pingouin as pg\n",
    "from statannotations.Annotator import Annotator\n",
    "\n",
    "# Create the boxplot\n",
    "bxp = sns.boxplot(x='time', y='score', data=selfesteem)\n",
    "\n",
    "# Add pairwise comparison results to the plot\n",
    "pairs = [(a, b) for a, b in zip(pwc['A'], pwc['B'])]\n",
    "annotator = Annotator(bxp, pairs, data=selfesteem, x='time', y='score')\n",
    "annotator.configure(test='t-test_paired', text_format='star', loc='inside', verbose=2)\n",
    "annotator.apply_and_annotate()\n",
    "\n",
    "# Add labels\n",
    "plt.title('Boxplot with Pairwise Comparisons')\n",
    "plt.suptitle(pg.rm_anova(data=selfesteem, dv='score', within='time', subject='id').to_string(), y=0.95)\n",
    "plt.figtext(0.5, -0.05, pwc.to_string(), wrap=True, horizontalalignment='center', fontsize=10)\n",
    "\n",
    "# Display the plot\n",
    "plt.tight_layout()\n",
    "plt.show()"
   ],
   "outputs": [
    {
     "ename": "AttributeError",
     "evalue": "module 'seaborn.categorical' has no attribute '_BoxPlotter'",
     "output_type": "error",
     "traceback": [
      "\u001B[0;31m---------------------------------------------------------------------------\u001B[0m",
      "\u001B[0;31mAttributeError\u001B[0m                            Traceback (most recent call last)",
      "Cell \u001B[0;32mIn[14], line 11\u001B[0m\n\u001B[1;32m      9\u001B[0m \u001B[38;5;66;03m# Add pairwise comparison results to the plot\u001B[39;00m\n\u001B[1;32m     10\u001B[0m pairs \u001B[38;5;241m=\u001B[39m [(a, b) \u001B[38;5;28;01mfor\u001B[39;00m a, b \u001B[38;5;129;01min\u001B[39;00m \u001B[38;5;28mzip\u001B[39m(pwc[\u001B[38;5;124m'\u001B[39m\u001B[38;5;124mA\u001B[39m\u001B[38;5;124m'\u001B[39m], pwc[\u001B[38;5;124m'\u001B[39m\u001B[38;5;124mB\u001B[39m\u001B[38;5;124m'\u001B[39m])]\n\u001B[0;32m---> 11\u001B[0m annotator \u001B[38;5;241m=\u001B[39m \u001B[43mAnnotator\u001B[49m\u001B[43m(\u001B[49m\u001B[43mbxp\u001B[49m\u001B[43m,\u001B[49m\u001B[43m \u001B[49m\u001B[43mpairs\u001B[49m\u001B[43m,\u001B[49m\u001B[43m \u001B[49m\u001B[43mdata\u001B[49m\u001B[38;5;241;43m=\u001B[39;49m\u001B[43mselfesteem\u001B[49m\u001B[43m,\u001B[49m\u001B[43m \u001B[49m\u001B[43mx\u001B[49m\u001B[38;5;241;43m=\u001B[39;49m\u001B[38;5;124;43m'\u001B[39;49m\u001B[38;5;124;43mtime\u001B[39;49m\u001B[38;5;124;43m'\u001B[39;49m\u001B[43m,\u001B[49m\u001B[43m \u001B[49m\u001B[43my\u001B[49m\u001B[38;5;241;43m=\u001B[39;49m\u001B[38;5;124;43m'\u001B[39;49m\u001B[38;5;124;43mscore\u001B[39;49m\u001B[38;5;124;43m'\u001B[39;49m\u001B[43m)\u001B[49m\n\u001B[1;32m     12\u001B[0m annotator\u001B[38;5;241m.\u001B[39mconfigure(test\u001B[38;5;241m=\u001B[39m\u001B[38;5;124m'\u001B[39m\u001B[38;5;124mt-test_paired\u001B[39m\u001B[38;5;124m'\u001B[39m, text_format\u001B[38;5;241m=\u001B[39m\u001B[38;5;124m'\u001B[39m\u001B[38;5;124mstar\u001B[39m\u001B[38;5;124m'\u001B[39m, loc\u001B[38;5;241m=\u001B[39m\u001B[38;5;124m'\u001B[39m\u001B[38;5;124minside\u001B[39m\u001B[38;5;124m'\u001B[39m, verbose\u001B[38;5;241m=\u001B[39m\u001B[38;5;241m2\u001B[39m)\n\u001B[1;32m     13\u001B[0m annotator\u001B[38;5;241m.\u001B[39mapply_and_annotate()\n",
      "File \u001B[0;32m/opt/homebrew/Caskroom/miniforge/base/envs/DataSpellConda/lib/python3.8/site-packages/statannotations/Annotator.py:108\u001B[0m, in \u001B[0;36mAnnotator.__init__\u001B[0;34m(self, ax, pairs, plot, data, x, y, hue, order, hue_order, engine, verbose, **plot_params)\u001B[0m\n\u001B[1;32m    106\u001B[0m     \u001B[38;5;28mself\u001B[39m\u001B[38;5;241m.\u001B[39m_plotter \u001B[38;5;241m=\u001B[39m \u001B[38;5;28;01mNone\u001B[39;00m\n\u001B[1;32m    107\u001B[0m \u001B[38;5;28;01melse\u001B[39;00m:\n\u001B[0;32m--> 108\u001B[0m     \u001B[38;5;28mself\u001B[39m\u001B[38;5;241m.\u001B[39m_plotter \u001B[38;5;241m=\u001B[39m \u001B[38;5;28;43mself\u001B[39;49m\u001B[38;5;241;43m.\u001B[39;49m\u001B[43m_get_plotter\u001B[49m\u001B[43m(\u001B[49m\u001B[43mengine\u001B[49m\u001B[43m,\u001B[49m\u001B[43m \u001B[49m\u001B[43max\u001B[49m\u001B[43m,\u001B[49m\u001B[43m \u001B[49m\u001B[43mpairs\u001B[49m\u001B[43m,\u001B[49m\u001B[43m \u001B[49m\u001B[43mplot\u001B[49m\u001B[43m,\u001B[49m\u001B[43m \u001B[49m\u001B[43mdata\u001B[49m\u001B[43m,\u001B[49m\n\u001B[1;32m    109\u001B[0m \u001B[43m                                      \u001B[49m\u001B[43mx\u001B[49m\u001B[43m,\u001B[49m\u001B[43m \u001B[49m\u001B[43my\u001B[49m\u001B[43m,\u001B[49m\u001B[43m \u001B[49m\u001B[43mhue\u001B[49m\u001B[43m,\u001B[49m\u001B[43m \u001B[49m\u001B[43morder\u001B[49m\u001B[43m,\u001B[49m\u001B[43m \u001B[49m\u001B[43mhue_order\u001B[49m\u001B[43m,\u001B[49m\n\u001B[1;32m    110\u001B[0m \u001B[43m                                      \u001B[49m\u001B[43mverbose\u001B[49m\u001B[38;5;241;43m=\u001B[39;49m\u001B[43mverbose\u001B[49m\u001B[43m,\u001B[49m\u001B[43m \u001B[49m\u001B[38;5;241;43m*\u001B[39;49m\u001B[38;5;241;43m*\u001B[39;49m\u001B[43mplot_params\u001B[49m\u001B[43m)\u001B[49m\n\u001B[1;32m    112\u001B[0m \u001B[38;5;28mself\u001B[39m\u001B[38;5;241m.\u001B[39m_test \u001B[38;5;241m=\u001B[39m \u001B[38;5;28;01mNone\u001B[39;00m\n\u001B[1;32m    113\u001B[0m \u001B[38;5;28mself\u001B[39m\u001B[38;5;241m.\u001B[39mperform_stat_test \u001B[38;5;241m=\u001B[39m \u001B[38;5;28;01mNone\u001B[39;00m\n",
      "File \u001B[0;32m/opt/homebrew/Caskroom/miniforge/base/envs/DataSpellConda/lib/python3.8/site-packages/statannotations/Annotator.py:784\u001B[0m, in \u001B[0;36mAnnotator._get_plotter\u001B[0;34m(engine, *args, **kwargs)\u001B[0m\n\u001B[1;32m    782\u001B[0m \u001B[38;5;28;01mif\u001B[39;00m engine_plotter \u001B[38;5;129;01mis\u001B[39;00m \u001B[38;5;28;01mNone\u001B[39;00m:\n\u001B[1;32m    783\u001B[0m     \u001B[38;5;28;01mraise\u001B[39;00m \u001B[38;5;167;01mNotImplementedError\u001B[39;00m(\u001B[38;5;124mf\u001B[39m\u001B[38;5;124m\"\u001B[39m\u001B[38;5;132;01m{\u001B[39;00mengine\u001B[38;5;132;01m}\u001B[39;00m\u001B[38;5;124m engine not implemented.\u001B[39m\u001B[38;5;124m\"\u001B[39m)\n\u001B[0;32m--> 784\u001B[0m \u001B[38;5;28;01mreturn\u001B[39;00m \u001B[43mengine_plotter\u001B[49m\u001B[43m(\u001B[49m\u001B[38;5;241;43m*\u001B[39;49m\u001B[43margs\u001B[49m\u001B[43m,\u001B[49m\u001B[43m \u001B[49m\u001B[38;5;241;43m*\u001B[39;49m\u001B[38;5;241;43m*\u001B[39;49m\u001B[43mkwargs\u001B[49m\u001B[43m)\u001B[49m\n",
      "File \u001B[0;32m/opt/homebrew/Caskroom/miniforge/base/envs/DataSpellConda/lib/python3.8/site-packages/statannotations/_Plotter.py:87\u001B[0m, in \u001B[0;36m_SeabornPlotter.__init__\u001B[0;34m(self, ax, pairs, plot, data, x, y, hue, order, hue_order, verbose, **plot_params)\u001B[0m\n\u001B[1;32m     85\u001B[0m \u001B[38;5;28mself\u001B[39m\u001B[38;5;241m.\u001B[39mcheck_plot_is_implemented(plot)\n\u001B[1;32m     86\u001B[0m \u001B[38;5;28mself\u001B[39m\u001B[38;5;241m.\u001B[39mplot \u001B[38;5;241m=\u001B[39m plot\n\u001B[0;32m---> 87\u001B[0m \u001B[38;5;28mself\u001B[39m\u001B[38;5;241m.\u001B[39mplotter \u001B[38;5;241m=\u001B[39m \u001B[38;5;28;43mself\u001B[39;49m\u001B[38;5;241;43m.\u001B[39;49m\u001B[43m_get_plotter\u001B[49m\u001B[43m(\u001B[49m\u001B[43mplot\u001B[49m\u001B[43m,\u001B[49m\u001B[43m \u001B[49m\u001B[43mx\u001B[49m\u001B[43m,\u001B[49m\u001B[43m \u001B[49m\u001B[43my\u001B[49m\u001B[43m,\u001B[49m\u001B[43m \u001B[49m\u001B[43mhue\u001B[49m\u001B[43m,\u001B[49m\u001B[43m \u001B[49m\u001B[43mdata\u001B[49m\u001B[43m,\u001B[49m\u001B[43m \u001B[49m\u001B[43morder\u001B[49m\u001B[43m,\u001B[49m\n\u001B[1;32m     88\u001B[0m \u001B[43m                                 \u001B[49m\u001B[43mhue_order\u001B[49m\u001B[43m,\u001B[49m\u001B[43m \u001B[49m\u001B[38;5;241;43m*\u001B[39;49m\u001B[38;5;241;43m*\u001B[39;49m\u001B[43mplot_params\u001B[49m\u001B[43m)\u001B[49m\n\u001B[1;32m     90\u001B[0m \u001B[38;5;28mself\u001B[39m\u001B[38;5;241m.\u001B[39mgroup_names, \u001B[38;5;28mself\u001B[39m\u001B[38;5;241m.\u001B[39mlabels \u001B[38;5;241m=\u001B[39m \u001B[38;5;28mself\u001B[39m\u001B[38;5;241m.\u001B[39m_get_group_names_and_labels()\n\u001B[1;32m     91\u001B[0m \u001B[38;5;28mself\u001B[39m\u001B[38;5;241m.\u001B[39mgroups_positions \u001B[38;5;241m=\u001B[39m _GroupsPositions(\u001B[38;5;28mself\u001B[39m\u001B[38;5;241m.\u001B[39mplotter,\n\u001B[1;32m     92\u001B[0m                                          \u001B[38;5;28mself\u001B[39m\u001B[38;5;241m.\u001B[39mgroup_names)\n",
      "File \u001B[0;32m/opt/homebrew/Caskroom/miniforge/base/envs/DataSpellConda/lib/python3.8/site-packages/statannotations/_Plotter.py:119\u001B[0m, in \u001B[0;36m_SeabornPlotter._get_plotter\u001B[0;34m(self, plot, x, y, hue, data, order, hue_order, **plot_params)\u001B[0m\n\u001B[1;32m    116\u001B[0m \u001B[38;5;28mself\u001B[39m\u001B[38;5;241m.\u001B[39mfix_and_warn(dodge, hue, plot)\n\u001B[1;32m    118\u001B[0m \u001B[38;5;28;01mif\u001B[39;00m plot \u001B[38;5;241m==\u001B[39m \u001B[38;5;124m'\u001B[39m\u001B[38;5;124mboxplot\u001B[39m\u001B[38;5;124m'\u001B[39m:\n\u001B[0;32m--> 119\u001B[0m     plotter \u001B[38;5;241m=\u001B[39m \u001B[43msns\u001B[49m\u001B[38;5;241;43m.\u001B[39;49m\u001B[43mcategorical\u001B[49m\u001B[38;5;241;43m.\u001B[39;49m\u001B[43m_BoxPlotter\u001B[49m(\n\u001B[1;32m    120\u001B[0m \n\u001B[1;32m    121\u001B[0m         x, y, hue, data, order, hue_order,\n\u001B[1;32m    122\u001B[0m         orient\u001B[38;5;241m=\u001B[39mplot_params\u001B[38;5;241m.\u001B[39mget(\u001B[38;5;124m\"\u001B[39m\u001B[38;5;124morient\u001B[39m\u001B[38;5;124m\"\u001B[39m),\n\u001B[1;32m    123\u001B[0m         width\u001B[38;5;241m=\u001B[39mplot_params\u001B[38;5;241m.\u001B[39mget(\u001B[38;5;124m\"\u001B[39m\u001B[38;5;124mwidth\u001B[39m\u001B[38;5;124m\"\u001B[39m, \u001B[38;5;241m0.8\u001B[39m),\n\u001B[1;32m    124\u001B[0m         dodge\u001B[38;5;241m=\u001B[39m\u001B[38;5;28;01mTrue\u001B[39;00m,\n\u001B[1;32m    125\u001B[0m         fliersize\u001B[38;5;241m=\u001B[39mplot_params\u001B[38;5;241m.\u001B[39mget(\u001B[38;5;124m\"\u001B[39m\u001B[38;5;124mfliersize\u001B[39m\u001B[38;5;124m\"\u001B[39m, \u001B[38;5;241m5\u001B[39m),\n\u001B[1;32m    126\u001B[0m         linewidth\u001B[38;5;241m=\u001B[39mplot_params\u001B[38;5;241m.\u001B[39mget(\u001B[38;5;124m\"\u001B[39m\u001B[38;5;124mlinewidth\u001B[39m\u001B[38;5;124m\"\u001B[39m),\n\u001B[1;32m    127\u001B[0m         saturation\u001B[38;5;241m=\u001B[39m\u001B[38;5;241m.75\u001B[39m, color\u001B[38;5;241m=\u001B[39m\u001B[38;5;28;01mNone\u001B[39;00m, palette\u001B[38;5;241m=\u001B[39m\u001B[38;5;28;01mNone\u001B[39;00m)\n\u001B[1;32m    129\u001B[0m \u001B[38;5;28;01melif\u001B[39;00m plot \u001B[38;5;241m==\u001B[39m \u001B[38;5;124m'\u001B[39m\u001B[38;5;124mswarmplot\u001B[39m\u001B[38;5;124m'\u001B[39m:\n\u001B[1;32m    130\u001B[0m     plotter \u001B[38;5;241m=\u001B[39m sns\u001B[38;5;241m.\u001B[39mcategorical\u001B[38;5;241m.\u001B[39m_SwarmPlotter(\n\u001B[1;32m    131\u001B[0m         x, y, hue, data, order, hue_order,\n\u001B[1;32m    132\u001B[0m         orient\u001B[38;5;241m=\u001B[39mplot_params\u001B[38;5;241m.\u001B[39mget(\u001B[38;5;124m\"\u001B[39m\u001B[38;5;124morient\u001B[39m\u001B[38;5;124m\"\u001B[39m),\n\u001B[1;32m    133\u001B[0m         dodge\u001B[38;5;241m=\u001B[39m\u001B[38;5;28;01mTrue\u001B[39;00m, color\u001B[38;5;241m=\u001B[39m\u001B[38;5;28;01mNone\u001B[39;00m, palette\u001B[38;5;241m=\u001B[39m\u001B[38;5;28;01mNone\u001B[39;00m)\n",
      "\u001B[0;31mAttributeError\u001B[0m: module 'seaborn.categorical' has no attribute '_BoxPlotter'"
     ]
    },
    {
     "data": {
      "text/plain": [
       "<Figure size 640x480 with 1 Axes>"
      ],
      "image/png": "[encoded data removed]"
     },
     "metadata": {},
     "output_type": "display_data"
    }
   ],
   "execution_count": 14
  },
  {
   "cell_type": "markdown",
   "metadata": {},
   "source": [
    "Hence, we can conclude that the score was statistically significantly\n",
    "different during different times, with the result with F(2,18) = 55.5\n",
    "and p = 0.0000000201. From the post-hoc tests, when pairwise comparisons\n",
    "were conducted we can state that all the differences between pairs are\n",
    "statistically significant."
   ]
  },
  {
   "cell_type": "markdown",
   "metadata": {},
   "source": [
    "\n",
    "## 1-way RM Anova [DIY]\n",
    "\n",
    "Researchers want to know if four different drugs lead to different\n",
    "reaction times. To test this, they measure the reaction time of 5\n",
    "patients on the four different drugs. Since each patient is measured on\n",
    "each of the four drugs, we must use the R-M Anova.\n",
    "\n",
    "Dataset:"
   ]
  },
  {
   "cell_type": "code",
   "metadata": {
    "ExecuteTime": {
     "end_time": "2024-12-19T17:51:14.549303Z",
     "start_time": "2024-12-19T17:51:14.529671Z"
    }
   },
   "source": [
    "import pandas as pd\n",
    "\n",
    "# Create the DataFrame\n",
    "mydata = pd.DataFrame({\n",
    "    'patient': [1, 1, 1, 1, 2, 2, 2, 2, 3, 3, 3, 3, 4, 4, 4, 4, 5, 5, 5, 5],\n",
    "    'drug': [1, 2, 3, 4, 1, 2, 3, 4, 1, 2, 3, 4, 1, 2, 3, 4, 1, 2, 3, 4],\n",
    "    'response': [30, 28, 16, 34, 14, 18, 10, 22, 24, 20, 18, 30, 38, 34, 20, 44, 26, 28, 14, 30]\n",
    "})\n",
    "\n",
    "# Display the DataFrame\n",
    "print(mydata)"
   ],
   "outputs": [
    {
     "name": "stdout",
     "output_type": "stream",
     "text": [
      "    patient  drug  response\n",
      "0         1     1        30\n",
      "1         1     2        28\n",
      "2         1     3        16\n",
      "3         1     4        34\n",
      "4         2     1        14\n",
      "5         2     2        18\n",
      "6         2     3        10\n",
      "7         2     4        22\n",
      "8         3     1        24\n",
      "9         3     2        20\n",
      "10        3     3        18\n",
      "11        3     4        30\n",
      "12        4     1        38\n",
      "13        4     2        34\n",
      "14        4     3        20\n",
      "15        4     4        44\n",
      "16        5     1        26\n",
      "17        5     2        28\n",
      "18        5     3        14\n",
      "19        5     4        30\n"
     ]
    }
   ],
   "execution_count": 12
  },
  {
   "cell_type": "code",
   "metadata": {
    "ExecuteTime": {
     "end_time": "2024-12-19T17:58:26.097742Z",
     "start_time": "2024-12-19T17:58:26.054825Z"
    }
   },
   "source": [
    "results = pg.rm_anova(data=mydata, dv='response', detailed=True, within='drug', subject='patient')\n",
    "results.round(3)\n",
    "\n",
    "pwc = pg.pairwise_tests(dv='response', within='drug', subject='patient', data=mydata, padjust='bonf')\n",
    "print(pwc)"
   ],
   "outputs": [
    {
     "name": "stdout",
     "output_type": "stream",
     "text": [
      "  Contrast  A  B  Paired  Parametric         T  dof alternative     p-unc  \\\n",
      "0     drug  1  2    True        True  0.492366  4.0   two-sided  0.648261   \n",
      "1     drug  1  3    True        True  4.191213  4.0   two-sided  0.013793   \n",
      "2     drug  1  4    True        True -7.483315  4.0   two-sided  0.001705   \n",
      "3     drug  2  3    True        True  4.385290  4.0   two-sided  0.011826   \n",
      "4     drug  2  4    True        True -4.000000  4.0   two-sided  0.016130   \n",
      "5     drug  3  4    True        True -7.363817  4.0   two-sided  0.001812   \n",
      "\n",
      "     p-corr p-adjust    BF10    hedges  \n",
      "0  1.000000     bonf   0.439  0.093441  \n",
      "1  0.082758     bonf   5.588  1.441409  \n",
      "2  0.010231     bonf  25.477 -0.602834  \n",
      "3  0.070956     bonf   6.244  1.683062  \n",
      "4  0.096781     bonf   4.992 -0.791053  \n",
      "5  0.010872     bonf  24.372 -2.359892  \n"
     ]
    }
   ],
   "execution_count": 21
  },
  {
   "cell_type": "markdown",
   "metadata": {},
   "source": [
    "\n",
    "## 3-way R-M Anova (homework)\n",
    "\n",
    "We'll use the weightloss dataset [datarium package]. \n",
    "\n",
    "In this study, a researcher wanted to assess the effects of Diet and Exercises on weight loss in 10 sedentary individuals.\n",
    "\n",
    "The participants were enrolled in four trials: (1) no diet and no exercises; (2) diet only; (3) exercises only; and (4) diet and exercises combined.\n",
    "\n",
    "Each participant performed all four trials. \n",
    "\n",
    "The order of the trials was counterbalanced and sufficient time was allowed between trials to allow any effects of previous trials to have dissipated.\n",
    "\n",
    "Each trial lasted nine weeks and the weight loss score was measured at the beginning (t1), at the midpoint (t2) and at the end (t3) of each trial."
   ]
  },
  {
   "cell_type": "code",
   "execution_count": 19,
   "metadata": {},
   "outputs": [
    {
     "name": "stdout",
     "output_type": "stream",
     "text": [
      "   id diet exercises     t1     t2     t3\n",
      "0   1   no        no  10.43  13.21  11.59\n",
      "1   2   no        no  11.59  10.66  13.21\n",
      "2   3   no        no  11.35  11.12  11.35\n",
      "3   4   no        no  11.12   9.50  11.12\n",
      "4   5   no        no   9.50   9.73  12.28\n"
     ]
    }
   ],
   "source": [
    "import pandas as pd\n",
    "\n",
    "# URL do pliku CSV\n",
    "url = \"https://github.com/kflisikowski/ds/raw/master/weightloss.csv\"\n",
    "\n",
    "# Wczytanie danych do DataFrame\n",
    "weightloss = pd.read_csv(url)\n",
    "\n",
    "# Wyświetlenie pierwszych kilku wierszy danych\n",
    "print(weightloss.head())"
   ]
  },
  {
   "cell_type": "code",
   "execution_count": 20,
   "metadata": {},
   "outputs": [
    {
     "name": "stdout",
     "output_type": "stream",
     "text": [
      "     id diet exercises time  score\n",
      "5     6   no        no   t1   9.50\n",
      "54    7   no        no   t2  12.51\n",
      "102   7   no        no   t3  11.59\n",
      "20    9   no       yes   t1  11.35\n",
      "67    8   no       yes   t2  14.37\n",
      "117  10   no       yes   t3  17.38\n",
      "30    7  yes        no   t1  11.59\n",
      "79    8  yes        no   t2  11.35\n",
      "124   5  yes        no   t3  13.90\n",
      "41    6  yes       yes   t1  10.66\n",
      "93   10  yes       yes   t2  14.13\n",
      "136   5  yes       yes   t3  15.29\n"
     ]
    }
   ],
   "source": [
    "# Transform the data into long format\n",
    "weightloss_long = weightloss.melt(id_vars=['id', 'diet', 'exercises'], value_vars=['t1', 't2', 't3'], \n",
    "                                  var_name='time', value_name='score')\n",
    "\n",
    "# Convert 'id' and 'time' columns to categorical types\n",
    "weightloss_long['id'] = weightloss_long['id'].astype('category')\n",
    "weightloss_long['time'] = weightloss_long['time'].astype('category')\n",
    "\n",
    "# Inspect some random rows of the data by groups\n",
    "sampled_data = weightloss_long.groupby(['diet', 'exercises', 'time']).sample(n=1, random_state=123)\n",
    "\n",
    "# Display the results\n",
    "print(sampled_data)"
   ]
  },
  {
   "cell_type": "markdown",
   "metadata": {},
   "source": [
    "In this example, the effect of the \"time\" is our focal variable, that is our primary concern.\n",
    "\n",
    "It is thought that the effect of \"time\" on the weight loss score will depend on two other factors, \"diet\" and \"exercises\", which are called moderator variables."
   ]
  },
  {
   "cell_type": "code",
   "execution_count": null,
   "metadata": {},
   "outputs": [],
   "source": [
    "# your solution goes here"
   ]
  }
 ],
 "metadata": {
  "kernelspec": {
   "display_name": "Python 3",
   "language": "python",
   "name": "python3"
  },
  "language_info": {
   "codemirror_mode": {
    "name": "ipython",
    "version": 3
   },
   "file_extension": ".py",
   "mimetype": "text/x-python",
   "name": "python",
   "nbconvert_exporter": "python",
   "pygments_lexer": "ipython3",
   "version": "3.12.6"
  }
 },
 "nbformat": 4,
 "nbformat_minor": 2
}
