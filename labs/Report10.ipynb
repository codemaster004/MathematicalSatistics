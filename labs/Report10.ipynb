{
 "cells": [
  {
   "cell_type": "markdown",
   "metadata": {},
   "source": [
    "# ANCOVA"
   ]
  },
  {
   "cell_type": "markdown",
   "metadata": {},
   "source": [
    "## Weight Lost\n",
    "\n",
    "Research Question: We want to investigate if the weightlost is different according to the Diet and the Gender.\n",
    "\n",
    "We need to create the variable weight lost because this is the continuous variable that we want to compare between Diets and Genders:"
   ]
  },
  {
   "cell_type": "code",
   "metadata": {
    "ExecuteTime": {
     "end_time": "2025-01-09T17:21:05.501647Z",
     "start_time": "2025-01-09T17:21:04.309141Z"
    }
   },
   "source": [
    "import pandas as pd\n",
    "\n",
    "# URL to the CSV file\n",
    "url = \"https://github.com/kflisikowski/ms/blob/main/diet.csv?raw=true\"\n",
    "\n",
    "# Load the data into a DataFrame directly from the URL\n",
    "diet = pd.read_csv(url)\n",
    "\n",
    "# Calculate the weight lost and add it as a new column\n",
    "diet['weightlost'] = diet['weight6weeks'] - diet['pre.weight']\n",
    "\n",
    "# Display the first few rows of the data\n",
    "diet"
   ],
   "outputs": [
    {
     "data": {
      "text/plain": [
       "    Person gender  Age  Height  pre.weight  Diet  weight6weeks  weightlost\n",
       "0       25          41     171          60     2          60.0         0.0\n",
       "1       26          32     174         103     2         103.0         0.0\n",
       "2        1      0   22     159          58     1          54.2        -3.8\n",
       "3        2      0   46     192          60     1          54.0        -6.0\n",
       "4        3      0   55     170          64     1          63.3        -0.7\n",
       "..     ...    ...  ...     ...         ...   ...           ...         ...\n",
       "73      74      1   35     183          83     3          80.2        -2.8\n",
       "74      75      1   49     177          84     3          79.9        -4.1\n",
       "75      76      1   28     164          85     3          79.7        -5.3\n",
       "76      77      1   40     167          87     3          77.8        -9.2\n",
       "77      78      1   51     175          88     3          81.9        -6.1\n",
       "\n",
       "[78 rows x 8 columns]"
      ],
      "text/html": [
       "<div>\n",
       "<style scoped>\n",
       "    .dataframe tbody tr th:only-of-type {\n",
       "        vertical-align: middle;\n",
       "    }\n",
       "\n",
       "    .dataframe tbody tr th {\n",
       "        vertical-align: top;\n",
       "    }\n",
       "\n",
       "    .dataframe thead th {\n",
       "        text-align: right;\n",
       "    }\n",
       "</style>\n",
       "<table border=\"1\" class=\"dataframe\">\n",
       "  <thead>\n",
       "    <tr style=\"text-align: right;\">\n",
       "      <th></th>\n",
       "      <th>Person</th>\n",
       "      <th>gender</th>\n",
       "      <th>Age</th>\n",
       "      <th>Height</th>\n",
       "      <th>pre.weight</th>\n",
       "      <th>Diet</th>\n",
       "      <th>weight6weeks</th>\n",
       "      <th>weightlost</th>\n",
       "    </tr>\n",
       "  </thead>\n",
       "  <tbody>\n",
       "    <tr>\n",
       "      <th>0</th>\n",
       "      <td>25</td>\n",
       "      <td></td>\n",
       "      <td>41</td>\n",
       "      <td>171</td>\n",
       "      <td>60</td>\n",
       "      <td>2</td>\n",
       "      <td>60.0</td>\n",
       "      <td>0.0</td>\n",
       "    </tr>\n",
       "    <tr>\n",
       "      <th>1</th>\n",
       "      <td>26</td>\n",
       "      <td></td>\n",
       "      <td>32</td>\n",
       "      <td>174</td>\n",
       "      <td>103</td>\n",
       "      <td>2</td>\n",
       "      <td>103.0</td>\n",
       "      <td>0.0</td>\n",
       "    </tr>\n",
       "    <tr>\n",
       "      <th>2</th>\n",
       "      <td>1</td>\n",
       "      <td>0</td>\n",
       "      <td>22</td>\n",
       "      <td>159</td>\n",
       "      <td>58</td>\n",
       "      <td>1</td>\n",
       "      <td>54.2</td>\n",
       "      <td>-3.8</td>\n",
       "    </tr>\n",
       "    <tr>\n",
       "      <th>3</th>\n",
       "      <td>2</td>\n",
       "      <td>0</td>\n",
       "      <td>46</td>\n",
       "      <td>192</td>\n",
       "      <td>60</td>\n",
       "      <td>1</td>\n",
       "      <td>54.0</td>\n",
       "      <td>-6.0</td>\n",
       "    </tr>\n",
       "    <tr>\n",
       "      <th>4</th>\n",
       "      <td>3</td>\n",
       "      <td>0</td>\n",
       "      <td>55</td>\n",
       "      <td>170</td>\n",
       "      <td>64</td>\n",
       "      <td>1</td>\n",
       "      <td>63.3</td>\n",
       "      <td>-0.7</td>\n",
       "    </tr>\n",
       "    <tr>\n",
       "      <th>...</th>\n",
       "      <td>...</td>\n",
       "      <td>...</td>\n",
       "      <td>...</td>\n",
       "      <td>...</td>\n",
       "      <td>...</td>\n",
       "      <td>...</td>\n",
       "      <td>...</td>\n",
       "      <td>...</td>\n",
       "    </tr>\n",
       "    <tr>\n",
       "      <th>73</th>\n",
       "      <td>74</td>\n",
       "      <td>1</td>\n",
       "      <td>35</td>\n",
       "      <td>183</td>\n",
       "      <td>83</td>\n",
       "      <td>3</td>\n",
       "      <td>80.2</td>\n",
       "      <td>-2.8</td>\n",
       "    </tr>\n",
       "    <tr>\n",
       "      <th>74</th>\n",
       "      <td>75</td>\n",
       "      <td>1</td>\n",
       "      <td>49</td>\n",
       "      <td>177</td>\n",
       "      <td>84</td>\n",
       "      <td>3</td>\n",
       "      <td>79.9</td>\n",
       "      <td>-4.1</td>\n",
       "    </tr>\n",
       "    <tr>\n",
       "      <th>75</th>\n",
       "      <td>76</td>\n",
       "      <td>1</td>\n",
       "      <td>28</td>\n",
       "      <td>164</td>\n",
       "      <td>85</td>\n",
       "      <td>3</td>\n",
       "      <td>79.7</td>\n",
       "      <td>-5.3</td>\n",
       "    </tr>\n",
       "    <tr>\n",
       "      <th>76</th>\n",
       "      <td>77</td>\n",
       "      <td>1</td>\n",
       "      <td>40</td>\n",
       "      <td>167</td>\n",
       "      <td>87</td>\n",
       "      <td>3</td>\n",
       "      <td>77.8</td>\n",
       "      <td>-9.2</td>\n",
       "    </tr>\n",
       "    <tr>\n",
       "      <th>77</th>\n",
       "      <td>78</td>\n",
       "      <td>1</td>\n",
       "      <td>51</td>\n",
       "      <td>175</td>\n",
       "      <td>88</td>\n",
       "      <td>3</td>\n",
       "      <td>81.9</td>\n",
       "      <td>-6.1</td>\n",
       "    </tr>\n",
       "  </tbody>\n",
       "</table>\n",
       "<p>78 rows × 8 columns</p>\n",
       "</div>"
      ]
     },
     "execution_count": 1,
     "metadata": {},
     "output_type": "execute_result"
    }
   ],
   "execution_count": 1
  },
  {
   "cell_type": "markdown",
   "metadata": {},
   "source": [
    "It would be nice to start without any outliers and NA's. Let's solve this problem"
   ]
  },
  {
   "cell_type": "code",
   "metadata": {
    "ExecuteTime": {
     "end_time": "2025-01-09T17:23:20.756923Z",
     "start_time": "2025-01-09T17:23:20.139638Z"
    }
   },
   "source": [
    "import pandas as pd\n",
    "import numpy as np\n",
    "from scipy import stats\n",
    "\n",
    "# URL to the CSV file\n",
    "url = \"https://github.com/kflisikowski/ms/blob/main/diet.csv?raw=true\"\n",
    "\n",
    "# Load the data into a DataFrame\n",
    "diet = pd.read_csv(url)\n",
    "\n",
    "# Calculate the weight lost and add it as a new column\n",
    "diet['weightlost'] = diet['weight6weeks'] - diet['pre.weight']\n",
    "\n",
    "# Function to impute outliers with the median\n",
    "def impute_outliers(group, column):\n",
    "    z_scores = np.abs(stats.zscore(group[column]))\n",
    "    median = group[column].median()\n",
    "    group[column] = np.where(z_scores > 3, median, group[column])\n",
    "    return group\n",
    "\n",
    "# Group by 'Diet' and 'gender' and impute outliers in 'weightlost'\n",
    "diet = diet.groupby(['Diet', 'gender'], group_keys=False).apply(lambda group: impute_outliers(group, 'weightlost'))\n",
    "\n",
    "# Function to impute missing values with the mode\n",
    "def impute_na(df, column, group_by_column):\n",
    "    mode = df.groupby(group_by_column)[column].transform(lambda x: x.mode()[0] if not x.mode().empty else np.nan)\n",
    "    df[column].fillna(mode, inplace=True)\n",
    "    return df\n",
    "\n",
    "# Impute missing values in 'gender' based on the mode within each 'Diet' group\n",
    "diet = impute_na(diet, 'gender', 'Diet')\n",
    "\n",
    "# Display the first few rows of the data\n",
    "print(diet.head())"
   ],
   "outputs": [
    {
     "name": "stdout",
     "output_type": "stream",
     "text": [
      "   Person gender  Age  Height  pre.weight  Diet  weight6weeks  weightlost\n",
      "0      25          41     171          60     2          60.0         0.0\n",
      "1      26          32     174         103     2         103.0         0.0\n",
      "2       1      0   22     159          58     1          54.2        -3.8\n",
      "3       2      0   46     192          60     1          54.0        -6.0\n",
      "4       3      0   55     170          64     1          63.3        -0.7\n"
     ]
    }
   ],
   "execution_count": 10
  },
  {
   "cell_type": "markdown",
   "metadata": {},
   "source": [
    "We need to rearrange the categorical variables \"Diet\" and \"gender\" so that we can read their real values: 0 -\\> \"Female\" and 1 -\\> \"Male\". It is always advised to transform your categorical variables so that we can see their meaning later on when you plot graphs. It is indeed nicer to have a graph indicating that such gender is \"Male\" rather than just a number 1..."
   ]
  },
  {
   "cell_type": "code",
   "metadata": {
    "ExecuteTime": {
     "end_time": "2025-01-09T17:23:23.264564Z",
     "start_time": "2025-01-09T17:23:23.258311Z"
    }
   },
   "source": [
    "# Replace empty strings with NaN\n",
    "diet.replace('', np.nan, inplace=True)\n",
    "\n",
    "# Replace numerical values with categorical labels for gender\n",
    "diet['gender'] = diet['gender'].replace({'0': 'Female', '1': 'Male'})\n",
    "\n",
    "# Replace numerical values with categorical labels for Diet\n",
    "diet['Diet'] = diet['Diet'].replace({1: 'Diet 1', 2: 'Diet 2', 3: 'Diet 3'})\n",
    "\n",
    "# Display the first few rows of the data\n",
    "print(diet.head())"
   ],
   "outputs": [
    {
     "name": "stdout",
     "output_type": "stream",
     "text": [
      "   Person  gender  Age  Height  pre.weight    Diet  weight6weeks  weightlost\n",
      "0      25           41     171          60  Diet 2          60.0         0.0\n",
      "1      26           32     174         103  Diet 2         103.0         0.0\n",
      "2       1  Female   22     159          58  Diet 1          54.2        -3.8\n",
      "3       2  Female   46     192          60  Diet 1          54.0        -6.0\n",
      "4       3  Female   55     170          64  Diet 1          63.3        -0.7\n"
     ]
    }
   ],
   "execution_count": 11
  },
  {
   "cell_type": "code",
   "metadata": {
    "ExecuteTime": {
     "end_time": "2025-01-09T17:23:32.673317Z",
     "start_time": "2025-01-09T17:23:32.624878Z"
    }
   },
   "source": [
    "import seaborn as sns\n",
    "import matplotlib.pyplot as plt\n",
    "\n",
    "# Create a boxplot\n",
    "sns.set(style=\"whitegrid\")\n",
    "g = sns.catplot(x=\"gender\", y=\"weightlost\", col=\"Diet\", data=diet, kind=\"box\", height=4, aspect=0.7)\n",
    "\n",
    "# Set the titles and labels\n",
    "g.set_titles(\"{col_name}\")\n",
    "g.set_axis_labels(\"Gender\", \"Weight Lost\")\n",
    "\n",
    "# Show the plot\n",
    "plt.show()"
   ],
   "outputs": [
    {
     "ename": "AttributeError",
     "evalue": "module 'numpy' has no attribute 'float'.\n`np.float` was a deprecated alias for the builtin `float`. To avoid this error in existing code, use `float` by itself. Doing this will not modify any behavior and is safe. If you specifically wanted the numpy scalar type, use `np.float64` here.\nThe aliases was originally deprecated in NumPy 1.20; for more details and guidance see the original release note at:\n    https://numpy.org/devdocs/release/1.20.0-notes.html#deprecations",
     "output_type": "error",
     "traceback": [
      "\u001B[0;31m---------------------------------------------------------------------------\u001B[0m",
      "\u001B[0;31mAttributeError\u001B[0m                            Traceback (most recent call last)",
      "Cell \u001B[0;32mIn[12], line 6\u001B[0m\n\u001B[1;32m      4\u001B[0m \u001B[38;5;66;03m# Create a boxplot\u001B[39;00m\n\u001B[1;32m      5\u001B[0m sns\u001B[38;5;241m.\u001B[39mset(style\u001B[38;5;241m=\u001B[39m\u001B[38;5;124m\"\u001B[39m\u001B[38;5;124mwhitegrid\u001B[39m\u001B[38;5;124m\"\u001B[39m)\n\u001B[0;32m----> 6\u001B[0m g \u001B[38;5;241m=\u001B[39m \u001B[43msns\u001B[49m\u001B[38;5;241;43m.\u001B[39;49m\u001B[43mcatplot\u001B[49m\u001B[43m(\u001B[49m\u001B[43mx\u001B[49m\u001B[38;5;241;43m=\u001B[39;49m\u001B[38;5;124;43m\"\u001B[39;49m\u001B[38;5;124;43mgender\u001B[39;49m\u001B[38;5;124;43m\"\u001B[39;49m\u001B[43m,\u001B[49m\u001B[43m \u001B[49m\u001B[43my\u001B[49m\u001B[38;5;241;43m=\u001B[39;49m\u001B[38;5;124;43m\"\u001B[39;49m\u001B[38;5;124;43mweightlost\u001B[39;49m\u001B[38;5;124;43m\"\u001B[39;49m\u001B[43m,\u001B[49m\u001B[43m \u001B[49m\u001B[43mcol\u001B[49m\u001B[38;5;241;43m=\u001B[39;49m\u001B[38;5;124;43m\"\u001B[39;49m\u001B[38;5;124;43mDiet\u001B[39;49m\u001B[38;5;124;43m\"\u001B[39;49m\u001B[43m,\u001B[49m\u001B[43m \u001B[49m\u001B[43mdata\u001B[49m\u001B[38;5;241;43m=\u001B[39;49m\u001B[43mdiet\u001B[49m\u001B[43m,\u001B[49m\u001B[43m \u001B[49m\u001B[43mkind\u001B[49m\u001B[38;5;241;43m=\u001B[39;49m\u001B[38;5;124;43m\"\u001B[39;49m\u001B[38;5;124;43mbox\u001B[39;49m\u001B[38;5;124;43m\"\u001B[39;49m\u001B[43m,\u001B[49m\u001B[43m \u001B[49m\u001B[43mheight\u001B[49m\u001B[38;5;241;43m=\u001B[39;49m\u001B[38;5;241;43m4\u001B[39;49m\u001B[43m,\u001B[49m\u001B[43m \u001B[49m\u001B[43maspect\u001B[49m\u001B[38;5;241;43m=\u001B[39;49m\u001B[38;5;241;43m0.7\u001B[39;49m\u001B[43m)\u001B[49m\n\u001B[1;32m      8\u001B[0m \u001B[38;5;66;03m# Set the titles and labels\u001B[39;00m\n\u001B[1;32m      9\u001B[0m g\u001B[38;5;241m.\u001B[39mset_titles(\u001B[38;5;124m\"\u001B[39m\u001B[38;5;132;01m{col_name}\u001B[39;00m\u001B[38;5;124m\"\u001B[39m)\n",
      "File \u001B[0;32m/opt/homebrew/Caskroom/miniforge/base/envs/DataSpellConda/lib/python3.8/site-packages/seaborn/categorical.py:3723\u001B[0m, in \u001B[0;36mcatplot\u001B[0;34m(x, y, hue, data, row, col, col_wrap, estimator, ci, n_boot, units, seed, order, hue_order, row_order, col_order, kind, height, aspect, orient, color, palette, legend, legend_out, sharex, sharey, margin_titles, facet_kws, **kwargs)\u001B[0m\n\u001B[1;32m   3720\u001B[0m \u001B[38;5;66;03m# Determine the order for the whole dataset, which will be used in all\u001B[39;00m\n\u001B[1;32m   3721\u001B[0m \u001B[38;5;66;03m# facets to ensure representation of all data in the final plot\u001B[39;00m\n\u001B[1;32m   3722\u001B[0m p \u001B[38;5;241m=\u001B[39m _CategoricalPlotter()\n\u001B[0;32m-> 3723\u001B[0m \u001B[43mp\u001B[49m\u001B[38;5;241;43m.\u001B[39;49m\u001B[43mestablish_variables\u001B[49m\u001B[43m(\u001B[49m\u001B[43mx_\u001B[49m\u001B[43m,\u001B[49m\u001B[43m \u001B[49m\u001B[43my_\u001B[49m\u001B[43m,\u001B[49m\u001B[43m \u001B[49m\u001B[43mhue\u001B[49m\u001B[43m,\u001B[49m\u001B[43m \u001B[49m\u001B[43mdata\u001B[49m\u001B[43m,\u001B[49m\u001B[43m \u001B[49m\u001B[43morient\u001B[49m\u001B[43m,\u001B[49m\u001B[43m \u001B[49m\u001B[43morder\u001B[49m\u001B[43m,\u001B[49m\u001B[43m \u001B[49m\u001B[43mhue_order\u001B[49m\u001B[43m)\u001B[49m\n\u001B[1;32m   3724\u001B[0m order \u001B[38;5;241m=\u001B[39m p\u001B[38;5;241m.\u001B[39mgroup_names\n\u001B[1;32m   3725\u001B[0m hue_order \u001B[38;5;241m=\u001B[39m p\u001B[38;5;241m.\u001B[39mhue_names\n",
      "File \u001B[0;32m/opt/homebrew/Caskroom/miniforge/base/envs/DataSpellConda/lib/python3.8/site-packages/seaborn/categorical.py:155\u001B[0m, in \u001B[0;36m_CategoricalPlotter.establish_variables\u001B[0;34m(self, x, y, hue, data, orient, order, hue_order, units)\u001B[0m\n\u001B[1;32m    152\u001B[0m         \u001B[38;5;28;01mraise\u001B[39;00m \u001B[38;5;167;01mValueError\u001B[39;00m(err)\n\u001B[1;32m    154\u001B[0m \u001B[38;5;66;03m# Figure out the plotting orientation\u001B[39;00m\n\u001B[0;32m--> 155\u001B[0m orient \u001B[38;5;241m=\u001B[39m \u001B[38;5;28;43mself\u001B[39;49m\u001B[38;5;241;43m.\u001B[39;49m\u001B[43minfer_orient\u001B[49m\u001B[43m(\u001B[49m\u001B[43mx\u001B[49m\u001B[43m,\u001B[49m\u001B[43m \u001B[49m\u001B[43my\u001B[49m\u001B[43m,\u001B[49m\u001B[43m \u001B[49m\u001B[43morient\u001B[49m\u001B[43m)\u001B[49m\n\u001B[1;32m    157\u001B[0m \u001B[38;5;66;03m# Option 2a:\u001B[39;00m\n\u001B[1;32m    158\u001B[0m \u001B[38;5;66;03m# We are plotting a single set of data\u001B[39;00m\n\u001B[1;32m    159\u001B[0m \u001B[38;5;66;03m# ------------------------------------\u001B[39;00m\n\u001B[1;32m    160\u001B[0m \u001B[38;5;28;01mif\u001B[39;00m x \u001B[38;5;129;01mis\u001B[39;00m \u001B[38;5;28;01mNone\u001B[39;00m \u001B[38;5;129;01mor\u001B[39;00m y \u001B[38;5;129;01mis\u001B[39;00m \u001B[38;5;28;01mNone\u001B[39;00m:\n\u001B[1;32m    161\u001B[0m \n\u001B[1;32m    162\u001B[0m     \u001B[38;5;66;03m# Determine where the data are\u001B[39;00m\n",
      "File \u001B[0;32m/opt/homebrew/Caskroom/miniforge/base/envs/DataSpellConda/lib/python3.8/site-packages/seaborn/categorical.py:352\u001B[0m, in \u001B[0;36m_CategoricalPlotter.infer_orient\u001B[0;34m(self, x, y, orient)\u001B[0m\n\u001B[1;32m    350\u001B[0m     \u001B[38;5;28;01melse\u001B[39;00m:\n\u001B[1;32m    351\u001B[0m         \u001B[38;5;28;01mreturn\u001B[39;00m \u001B[38;5;124m\"\u001B[39m\u001B[38;5;124mh\u001B[39m\u001B[38;5;124m\"\u001B[39m\n\u001B[0;32m--> 352\u001B[0m \u001B[38;5;28;01melif\u001B[39;00m \u001B[43mis_not_numeric\u001B[49m\u001B[43m(\u001B[49m\u001B[43my\u001B[49m\u001B[43m)\u001B[49m:\n\u001B[1;32m    353\u001B[0m     \u001B[38;5;28;01mif\u001B[39;00m is_not_numeric(x):\n\u001B[1;32m    354\u001B[0m         \u001B[38;5;28;01mraise\u001B[39;00m \u001B[38;5;167;01mValueError\u001B[39;00m(no_numeric)\n",
      "File \u001B[0;32m/opt/homebrew/Caskroom/miniforge/base/envs/DataSpellConda/lib/python3.8/site-packages/seaborn/categorical.py:332\u001B[0m, in \u001B[0;36m_CategoricalPlotter.infer_orient.<locals>.is_not_numeric\u001B[0;34m(s)\u001B[0m\n\u001B[1;32m    330\u001B[0m \u001B[38;5;28;01mdef\u001B[39;00m \u001B[38;5;21mis_not_numeric\u001B[39m(s):\n\u001B[1;32m    331\u001B[0m     \u001B[38;5;28;01mtry\u001B[39;00m:\n\u001B[0;32m--> 332\u001B[0m         np\u001B[38;5;241m.\u001B[39masarray(s, dtype\u001B[38;5;241m=\u001B[39m\u001B[43mnp\u001B[49m\u001B[38;5;241;43m.\u001B[39;49m\u001B[43mfloat\u001B[49m)\n\u001B[1;32m    333\u001B[0m     \u001B[38;5;28;01mexcept\u001B[39;00m \u001B[38;5;167;01mValueError\u001B[39;00m:\n\u001B[1;32m    334\u001B[0m         \u001B[38;5;28;01mreturn\u001B[39;00m \u001B[38;5;28;01mTrue\u001B[39;00m\n",
      "File \u001B[0;32m/opt/homebrew/Caskroom/miniforge/base/envs/DataSpellConda/lib/python3.8/site-packages/numpy/__init__.py:305\u001B[0m, in \u001B[0;36m__getattr__\u001B[0;34m(attr)\u001B[0m\n\u001B[1;32m    300\u001B[0m     warnings\u001B[38;5;241m.\u001B[39mwarn(\n\u001B[1;32m    301\u001B[0m         \u001B[38;5;124mf\u001B[39m\u001B[38;5;124m\"\u001B[39m\u001B[38;5;124mIn the future `np.\u001B[39m\u001B[38;5;132;01m{\u001B[39;00mattr\u001B[38;5;132;01m}\u001B[39;00m\u001B[38;5;124m` will be defined as the \u001B[39m\u001B[38;5;124m\"\u001B[39m\n\u001B[1;32m    302\u001B[0m         \u001B[38;5;124m\"\u001B[39m\u001B[38;5;124mcorresponding NumPy scalar.\u001B[39m\u001B[38;5;124m\"\u001B[39m, \u001B[38;5;167;01mFutureWarning\u001B[39;00m, stacklevel\u001B[38;5;241m=\u001B[39m\u001B[38;5;241m2\u001B[39m)\n\u001B[1;32m    304\u001B[0m \u001B[38;5;28;01mif\u001B[39;00m attr \u001B[38;5;129;01min\u001B[39;00m __former_attrs__:\n\u001B[0;32m--> 305\u001B[0m     \u001B[38;5;28;01mraise\u001B[39;00m \u001B[38;5;167;01mAttributeError\u001B[39;00m(__former_attrs__[attr])\n\u001B[1;32m    307\u001B[0m \u001B[38;5;66;03m# Importing Tester requires importing all of UnitTest which is not a\u001B[39;00m\n\u001B[1;32m    308\u001B[0m \u001B[38;5;66;03m# cheap import Since it is mainly used in test suits, we lazy import it\u001B[39;00m\n\u001B[1;32m    309\u001B[0m \u001B[38;5;66;03m# here to save on the order of 10 ms of import time for most users\u001B[39;00m\n\u001B[1;32m    310\u001B[0m \u001B[38;5;66;03m#\u001B[39;00m\n\u001B[1;32m    311\u001B[0m \u001B[38;5;66;03m# The previous way Tester was imported also had a side effect of adding\u001B[39;00m\n\u001B[1;32m    312\u001B[0m \u001B[38;5;66;03m# the full `numpy.testing` namespace\u001B[39;00m\n\u001B[1;32m    313\u001B[0m \u001B[38;5;28;01mif\u001B[39;00m attr \u001B[38;5;241m==\u001B[39m \u001B[38;5;124m'\u001B[39m\u001B[38;5;124mtesting\u001B[39m\u001B[38;5;124m'\u001B[39m:\n",
      "\u001B[0;31mAttributeError\u001B[0m: module 'numpy' has no attribute 'float'.\n`np.float` was a deprecated alias for the builtin `float`. To avoid this error in existing code, use `float` by itself. Doing this will not modify any behavior and is safe. If you specifically wanted the numpy scalar type, use `np.float64` here.\nThe aliases was originally deprecated in NumPy 1.20; for more details and guidance see the original release note at:\n    https://numpy.org/devdocs/release/1.20.0-notes.html#deprecations"
     ]
    }
   ],
   "execution_count": 12
  },
  {
   "cell_type": "code",
   "metadata": {
    "ExecuteTime": {
     "end_time": "2025-01-09T17:23:12.846561Z",
     "start_time": "2025-01-09T17:23:12.338149Z"
    }
   },
   "source": [
    "import seaborn as sns\n",
    "import matplotlib.pyplot as plt\n",
    "\n",
    "# Replace empty strings with NaN\n",
    "diet.replace('', np.nan, inplace=True)\n",
    "\n",
    "# Exclude third gender level\n",
    "diet = diet[diet['gender'].isin(['Female', 'Male'])]\n",
    "\n",
    "# Create a FacetGrid\n",
    "g = sns.FacetGrid(diet, col=\"Diet\", row=\"gender\", margin_titles=True)\n",
    "\n",
    "# Map the scatter plot and regression line to the grid\n",
    "g.map(sns.scatterplot, \"Age\", \"weightlost\")\n",
    "g.map(sns.regplot, \"Age\", \"weightlost\", scatter=False, truncate=False)\n",
    "\n",
    "# Set the titles and labels\n",
    "g.set_axis_labels(\"Age\", \"Weight Lost\")\n",
    "g.set_titles(col_template=\"{col_name}\", row_template=\"{row_name}\")\n",
    "\n",
    "# Adjust the layout\n",
    "plt.tight_layout()\n",
    "\n",
    "# Show the plot\n",
    "plt.show()"
   ],
   "outputs": [
    {
     "ename": "AttributeError",
     "evalue": "module 'numpy' has no attribute 'float'.\n`np.float` was a deprecated alias for the builtin `float`. To avoid this error in existing code, use `float` by itself. Doing this will not modify any behavior and is safe. If you specifically wanted the numpy scalar type, use `np.float64` here.\nThe aliases was originally deprecated in NumPy 1.20; for more details and guidance see the original release note at:\n    https://numpy.org/devdocs/release/1.20.0-notes.html#deprecations",
     "output_type": "error",
     "traceback": [
      "\u001B[0;31m---------------------------------------------------------------------------\u001B[0m",
      "\u001B[0;31mAttributeError\u001B[0m                            Traceback (most recent call last)",
      "File \u001B[0;32m/opt/homebrew/Caskroom/miniforge/base/envs/DataSpellConda/lib/python3.8/site-packages/seaborn/utils.py:544\u001B[0m, in \u001B[0;36mcategorical_order\u001B[0;34m(values, order)\u001B[0m\n\u001B[1;32m    543\u001B[0m \u001B[38;5;28;01mtry\u001B[39;00m:\n\u001B[0;32m--> 544\u001B[0m     order \u001B[38;5;241m=\u001B[39m \u001B[43mvalues\u001B[49m\u001B[38;5;241;43m.\u001B[39;49m\u001B[43mcat\u001B[49m\u001B[38;5;241m.\u001B[39mcategories\n\u001B[1;32m    545\u001B[0m \u001B[38;5;28;01mexcept\u001B[39;00m (\u001B[38;5;167;01mTypeError\u001B[39;00m, \u001B[38;5;167;01mAttributeError\u001B[39;00m):\n",
      "File \u001B[0;32m/opt/homebrew/Caskroom/miniforge/base/envs/DataSpellConda/lib/python3.8/site-packages/pandas/core/generic.py:5902\u001B[0m, in \u001B[0;36mNDFrame.__getattr__\u001B[0;34m(self, name)\u001B[0m\n\u001B[1;32m   5901\u001B[0m     \u001B[38;5;28;01mreturn\u001B[39;00m \u001B[38;5;28mself\u001B[39m[name]\n\u001B[0;32m-> 5902\u001B[0m \u001B[38;5;28;01mreturn\u001B[39;00m \u001B[38;5;28;43mobject\u001B[39;49m\u001B[38;5;241;43m.\u001B[39;49m\u001B[38;5;21;43m__getattribute__\u001B[39;49m\u001B[43m(\u001B[49m\u001B[38;5;28;43mself\u001B[39;49m\u001B[43m,\u001B[49m\u001B[43m \u001B[49m\u001B[43mname\u001B[49m\u001B[43m)\u001B[49m\n",
      "File \u001B[0;32m/opt/homebrew/Caskroom/miniforge/base/envs/DataSpellConda/lib/python3.8/site-packages/pandas/core/accessor.py:182\u001B[0m, in \u001B[0;36mCachedAccessor.__get__\u001B[0;34m(self, obj, cls)\u001B[0m\n\u001B[1;32m    181\u001B[0m     \u001B[38;5;28;01mreturn\u001B[39;00m \u001B[38;5;28mself\u001B[39m\u001B[38;5;241m.\u001B[39m_accessor\n\u001B[0;32m--> 182\u001B[0m accessor_obj \u001B[38;5;241m=\u001B[39m \u001B[38;5;28;43mself\u001B[39;49m\u001B[38;5;241;43m.\u001B[39;49m\u001B[43m_accessor\u001B[49m\u001B[43m(\u001B[49m\u001B[43mobj\u001B[49m\u001B[43m)\u001B[49m\n\u001B[1;32m    183\u001B[0m \u001B[38;5;66;03m# Replace the property with the accessor object. Inspired by:\u001B[39;00m\n\u001B[1;32m    184\u001B[0m \u001B[38;5;66;03m# https://www.pydanny.com/cached-property.html\u001B[39;00m\n\u001B[1;32m    185\u001B[0m \u001B[38;5;66;03m# We need to use object.__setattr__ because we overwrite __setattr__ on\u001B[39;00m\n\u001B[1;32m    186\u001B[0m \u001B[38;5;66;03m# NDFrame\u001B[39;00m\n",
      "File \u001B[0;32m/opt/homebrew/Caskroom/miniforge/base/envs/DataSpellConda/lib/python3.8/site-packages/pandas/core/arrays/categorical.py:2849\u001B[0m, in \u001B[0;36mCategoricalAccessor.__init__\u001B[0;34m(self, data)\u001B[0m\n\u001B[1;32m   2848\u001B[0m \u001B[38;5;28;01mdef\u001B[39;00m \u001B[38;5;21m__init__\u001B[39m(\u001B[38;5;28mself\u001B[39m, data) \u001B[38;5;241m-\u001B[39m\u001B[38;5;241m>\u001B[39m \u001B[38;5;28;01mNone\u001B[39;00m:\n\u001B[0;32m-> 2849\u001B[0m     \u001B[38;5;28;43mself\u001B[39;49m\u001B[38;5;241;43m.\u001B[39;49m\u001B[43m_validate\u001B[49m\u001B[43m(\u001B[49m\u001B[43mdata\u001B[49m\u001B[43m)\u001B[49m\n\u001B[1;32m   2850\u001B[0m     \u001B[38;5;28mself\u001B[39m\u001B[38;5;241m.\u001B[39m_parent \u001B[38;5;241m=\u001B[39m data\u001B[38;5;241m.\u001B[39mvalues\n",
      "File \u001B[0;32m/opt/homebrew/Caskroom/miniforge/base/envs/DataSpellConda/lib/python3.8/site-packages/pandas/core/arrays/categorical.py:2858\u001B[0m, in \u001B[0;36mCategoricalAccessor._validate\u001B[0;34m(data)\u001B[0m\n\u001B[1;32m   2857\u001B[0m \u001B[38;5;28;01mif\u001B[39;00m \u001B[38;5;129;01mnot\u001B[39;00m is_categorical_dtype(data\u001B[38;5;241m.\u001B[39mdtype):\n\u001B[0;32m-> 2858\u001B[0m     \u001B[38;5;28;01mraise\u001B[39;00m \u001B[38;5;167;01mAttributeError\u001B[39;00m(\u001B[38;5;124m\"\u001B[39m\u001B[38;5;124mCan only use .cat accessor with a \u001B[39m\u001B[38;5;124m'\u001B[39m\u001B[38;5;124mcategory\u001B[39m\u001B[38;5;124m'\u001B[39m\u001B[38;5;124m dtype\u001B[39m\u001B[38;5;124m\"\u001B[39m)\n",
      "\u001B[0;31mAttributeError\u001B[0m: Can only use .cat accessor with a 'category' dtype",
      "\nDuring handling of the above exception, another exception occurred:\n",
      "\u001B[0;31mAttributeError\u001B[0m                            Traceback (most recent call last)",
      "Cell \u001B[0;32mIn[9], line 11\u001B[0m\n\u001B[1;32m      8\u001B[0m diet \u001B[38;5;241m=\u001B[39m diet[diet[\u001B[38;5;124m'\u001B[39m\u001B[38;5;124mgender\u001B[39m\u001B[38;5;124m'\u001B[39m]\u001B[38;5;241m.\u001B[39misin([\u001B[38;5;124m'\u001B[39m\u001B[38;5;124mFemale\u001B[39m\u001B[38;5;124m'\u001B[39m, \u001B[38;5;124m'\u001B[39m\u001B[38;5;124mMale\u001B[39m\u001B[38;5;124m'\u001B[39m])]\n\u001B[1;32m     10\u001B[0m \u001B[38;5;66;03m# Create a FacetGrid\u001B[39;00m\n\u001B[0;32m---> 11\u001B[0m g \u001B[38;5;241m=\u001B[39m \u001B[43msns\u001B[49m\u001B[38;5;241;43m.\u001B[39;49m\u001B[43mFacetGrid\u001B[49m\u001B[43m(\u001B[49m\u001B[43mdiet\u001B[49m\u001B[43m,\u001B[49m\u001B[43m \u001B[49m\u001B[43mcol\u001B[49m\u001B[38;5;241;43m=\u001B[39;49m\u001B[38;5;124;43m\"\u001B[39;49m\u001B[38;5;124;43mDiet\u001B[39;49m\u001B[38;5;124;43m\"\u001B[39;49m\u001B[43m,\u001B[49m\u001B[43m \u001B[49m\u001B[43mrow\u001B[49m\u001B[38;5;241;43m=\u001B[39;49m\u001B[38;5;124;43m\"\u001B[39;49m\u001B[38;5;124;43mgender\u001B[39;49m\u001B[38;5;124;43m\"\u001B[39;49m\u001B[43m,\u001B[49m\u001B[43m \u001B[49m\u001B[43mmargin_titles\u001B[49m\u001B[38;5;241;43m=\u001B[39;49m\u001B[38;5;28;43;01mTrue\u001B[39;49;00m\u001B[43m)\u001B[49m\n\u001B[1;32m     13\u001B[0m \u001B[38;5;66;03m# Map the scatter plot and regression line to the grid\u001B[39;00m\n\u001B[1;32m     14\u001B[0m g\u001B[38;5;241m.\u001B[39mmap(sns\u001B[38;5;241m.\u001B[39mscatterplot, \u001B[38;5;124m\"\u001B[39m\u001B[38;5;124mAge\u001B[39m\u001B[38;5;124m\"\u001B[39m, \u001B[38;5;124m\"\u001B[39m\u001B[38;5;124mweightlost\u001B[39m\u001B[38;5;124m\"\u001B[39m)\n",
      "File \u001B[0;32m/opt/homebrew/Caskroom/miniforge/base/envs/DataSpellConda/lib/python3.8/site-packages/seaborn/axisgrid.py:258\u001B[0m, in \u001B[0;36mFacetGrid.__init__\u001B[0;34m(self, data, row, col, hue, col_wrap, sharex, sharey, height, aspect, palette, row_order, col_order, hue_order, hue_kws, dropna, legend_out, despine, margin_titles, xlim, ylim, subplot_kws, gridspec_kws, size)\u001B[0m\n\u001B[1;32m    256\u001B[0m     row_names \u001B[38;5;241m=\u001B[39m []\n\u001B[1;32m    257\u001B[0m \u001B[38;5;28;01melse\u001B[39;00m:\n\u001B[0;32m--> 258\u001B[0m     row_names \u001B[38;5;241m=\u001B[39m \u001B[43mutils\u001B[49m\u001B[38;5;241;43m.\u001B[39;49m\u001B[43mcategorical_order\u001B[49m\u001B[43m(\u001B[49m\u001B[43mdata\u001B[49m\u001B[43m[\u001B[49m\u001B[43mrow\u001B[49m\u001B[43m]\u001B[49m\u001B[43m,\u001B[49m\u001B[43m \u001B[49m\u001B[43mrow_order\u001B[49m\u001B[43m)\u001B[49m\n\u001B[1;32m    260\u001B[0m \u001B[38;5;28;01mif\u001B[39;00m col \u001B[38;5;129;01mis\u001B[39;00m \u001B[38;5;28;01mNone\u001B[39;00m:\n\u001B[1;32m    261\u001B[0m     col_names \u001B[38;5;241m=\u001B[39m []\n",
      "File \u001B[0;32m/opt/homebrew/Caskroom/miniforge/base/envs/DataSpellConda/lib/python3.8/site-packages/seaborn/utils.py:551\u001B[0m, in \u001B[0;36mcategorical_order\u001B[0;34m(values, order)\u001B[0m\n\u001B[1;32m    549\u001B[0m     order \u001B[38;5;241m=\u001B[39m pd\u001B[38;5;241m.\u001B[39munique(values)\n\u001B[1;32m    550\u001B[0m \u001B[38;5;28;01mtry\u001B[39;00m:\n\u001B[0;32m--> 551\u001B[0m     np\u001B[38;5;241m.\u001B[39masarray(values)\u001B[38;5;241m.\u001B[39mastype(\u001B[43mnp\u001B[49m\u001B[38;5;241;43m.\u001B[39;49m\u001B[43mfloat\u001B[49m)\n\u001B[1;32m    552\u001B[0m     order \u001B[38;5;241m=\u001B[39m np\u001B[38;5;241m.\u001B[39msort(order)\n\u001B[1;32m    553\u001B[0m \u001B[38;5;28;01mexcept\u001B[39;00m (\u001B[38;5;167;01mValueError\u001B[39;00m, \u001B[38;5;167;01mTypeError\u001B[39;00m):\n",
      "File \u001B[0;32m/opt/homebrew/Caskroom/miniforge/base/envs/DataSpellConda/lib/python3.8/site-packages/numpy/__init__.py:305\u001B[0m, in \u001B[0;36m__getattr__\u001B[0;34m(attr)\u001B[0m\n\u001B[1;32m    300\u001B[0m     warnings\u001B[38;5;241m.\u001B[39mwarn(\n\u001B[1;32m    301\u001B[0m         \u001B[38;5;124mf\u001B[39m\u001B[38;5;124m\"\u001B[39m\u001B[38;5;124mIn the future `np.\u001B[39m\u001B[38;5;132;01m{\u001B[39;00mattr\u001B[38;5;132;01m}\u001B[39;00m\u001B[38;5;124m` will be defined as the \u001B[39m\u001B[38;5;124m\"\u001B[39m\n\u001B[1;32m    302\u001B[0m         \u001B[38;5;124m\"\u001B[39m\u001B[38;5;124mcorresponding NumPy scalar.\u001B[39m\u001B[38;5;124m\"\u001B[39m, \u001B[38;5;167;01mFutureWarning\u001B[39;00m, stacklevel\u001B[38;5;241m=\u001B[39m\u001B[38;5;241m2\u001B[39m)\n\u001B[1;32m    304\u001B[0m \u001B[38;5;28;01mif\u001B[39;00m attr \u001B[38;5;129;01min\u001B[39;00m __former_attrs__:\n\u001B[0;32m--> 305\u001B[0m     \u001B[38;5;28;01mraise\u001B[39;00m \u001B[38;5;167;01mAttributeError\u001B[39;00m(__former_attrs__[attr])\n\u001B[1;32m    307\u001B[0m \u001B[38;5;66;03m# Importing Tester requires importing all of UnitTest which is not a\u001B[39;00m\n\u001B[1;32m    308\u001B[0m \u001B[38;5;66;03m# cheap import Since it is mainly used in test suits, we lazy import it\u001B[39;00m\n\u001B[1;32m    309\u001B[0m \u001B[38;5;66;03m# here to save on the order of 10 ms of import time for most users\u001B[39;00m\n\u001B[1;32m    310\u001B[0m \u001B[38;5;66;03m#\u001B[39;00m\n\u001B[1;32m    311\u001B[0m \u001B[38;5;66;03m# The previous way Tester was imported also had a side effect of adding\u001B[39;00m\n\u001B[1;32m    312\u001B[0m \u001B[38;5;66;03m# the full `numpy.testing` namespace\u001B[39;00m\n\u001B[1;32m    313\u001B[0m \u001B[38;5;28;01mif\u001B[39;00m attr \u001B[38;5;241m==\u001B[39m \u001B[38;5;124m'\u001B[39m\u001B[38;5;124mtesting\u001B[39m\u001B[38;5;124m'\u001B[39m:\n",
      "\u001B[0;31mAttributeError\u001B[0m: module 'numpy' has no attribute 'float'.\n`np.float` was a deprecated alias for the builtin `float`. To avoid this error in existing code, use `float` by itself. Doing this will not modify any behavior and is safe. If you specifically wanted the numpy scalar type, use `np.float64` here.\nThe aliases was originally deprecated in NumPy 1.20; for more details and guidance see the original release note at:\n    https://numpy.org/devdocs/release/1.20.0-notes.html#deprecations"
     ]
    }
   ],
   "execution_count": 9
  },
  {
   "cell_type": "markdown",
   "metadata": {},
   "source": [
    "## Assumptions\n",
    "\n",
    "Assumptions:\n",
    "\n",
    "1)  No significant outliers for each combination of the groups of the two independent variables."
   ]
  },
  {
   "cell_type": "code",
   "execution_count": 7,
   "metadata": {},
   "outputs": [
    {
     "name": "stdout",
     "output_type": "stream",
     "text": [
      "Empty DataFrame\n",
      "Columns: [Person, gender, Age, Height, pre.weight, Diet, weight6weeks, weightlost]\n",
      "Index: []\n"
     ]
    }
   ],
   "source": [
    "# Function to identify outliers\n",
    "def identify_outliers(group):\n",
    "    z_scores = stats.zscore(group['weightlost'])\n",
    "    abs_z_scores = abs(z_scores)\n",
    "    outliers = abs_z_scores > 3\n",
    "    return group[outliers]\n",
    "\n",
    "# Group by 'gender' and 'Diet' and identify outliers in 'weightlost'\n",
    "outliers = diet.groupby(['gender', 'Diet']).apply(identify_outliers).reset_index(drop=True)\n",
    "\n",
    "# Display the outliers\n",
    "print(outliers)"
   ]
  },
  {
   "cell_type": "markdown",
   "metadata": {},
   "source": [
    "2)  Dependent variable of the ANOVA should be approximately normally distributed for each combination of groups."
   ]
  },
  {
   "cell_type": "code",
   "execution_count": 8,
   "metadata": {},
   "outputs": [
    {
     "name": "stdout",
     "output_type": "stream",
     "text": [
      "   gender    Diet  W-statistic   p-value\n",
      "0  Female  Diet 1     0.851801  0.023499\n",
      "1  Female  Diet 2     0.978617  0.966002\n",
      "2  Female  Diet 3     0.849200  0.016919\n",
      "3    Male  Diet 1     0.936675  0.516642\n",
      "4    Male  Diet 2     0.950221  0.646775\n",
      "5    Male  Diet 3     0.941426  0.516765\n"
     ]
    }
   ],
   "source": [
    "import pandas as pd\n",
    "from scipy.stats import shapiro\n",
    "\n",
    "# Function to perform Shapiro-Wilk test\n",
    "def shapiro_test(group):\n",
    "    stat, p_value = shapiro(group['weightlost'].dropna())\n",
    "    return pd.Series({'W-statistic': stat, 'p-value': p_value})\n",
    "\n",
    "# Group by 'gender' and 'Diet' and perform Shapiro-Wilk test on 'weightlost'\n",
    "shapiro_results = diet.groupby(['gender', 'Diet']).apply(shapiro_test).reset_index()\n",
    "\n",
    "# Display the results\n",
    "print(shapiro_results)"
   ]
  },
  {
   "cell_type": "markdown",
   "metadata": {},
   "source": [
    "## Normality plots:"
   ]
  },
  {
   "cell_type": "code",
   "execution_count": 9,
   "metadata": {},
   "outputs": [
    {
     "data": {
      "image/png": "[encoded data removed]",
      "text/plain": [
       "<Figure size 900x600 with 6 Axes>"
      ]
     },
     "metadata": {},
     "output_type": "display_data"
    }
   ],
   "source": [
    "import pandas as pd\n",
    "import seaborn as sns\n",
    "import matplotlib.pyplot as plt\n",
    "import scipy.stats as stats\n",
    "\n",
    "# Create a FacetGrid\n",
    "g = sns.FacetGrid(diet, col=\"Diet\", row=\"gender\", margin_titles=True)\n",
    "\n",
    "# Function to plot Q-Q plot\n",
    "def qqplot(x, **kwargs):\n",
    "    (osm, osr), (slope, intercept, r) = stats.probplot(x, plot=None)\n",
    "    ax = plt.gca()\n",
    "    ax.plot(osm, osr, 'o', markersize=3)\n",
    "    ax.plot(osm, slope*osm + intercept, 'r', lw=1)\n",
    "\n",
    "# Map the Q-Q plot to the grid\n",
    "g.map(qqplot, \"weightlost\")\n",
    "\n",
    "# Set the titles and labels\n",
    "g.set_axis_labels(\"Theoretical Quantiles\", \"Sample Quantiles\")\n",
    "g.set_titles(col_template=\"{col_name}\", row_template=\"{row_name}\")\n",
    "\n",
    "# Adjust the layout\n",
    "plt.tight_layout()\n",
    "\n",
    "# Show the plot\n",
    "plt.show()"
   ]
  },
  {
   "cell_type": "markdown",
   "metadata": {},
   "source": [
    "In this combination (Female in Diet 1&3), the data looks skewed. But since in all the other combinations, there is a symmetrical distribution and the ANOVA is considered as a robust test, you can still go for the 2-way ANOVA."
   ]
  },
  {
   "cell_type": "markdown",
   "metadata": {},
   "source": [
    "3)  Homogeneity of Variances for each combination of groups."
   ]
  },
  {
   "cell_type": "code",
   "execution_count": 11,
   "metadata": {},
   "outputs": [
    {
     "name": "stdout",
     "output_type": "stream",
     "text": [
      "Levene's test statistic: 0.38669356585167536\n",
      "p-value: 0.8563346613193741\n"
     ]
    }
   ],
   "source": [
    "from scipy.stats import levene\n",
    "\n",
    "# Create a combined factor for gender and Diet\n",
    "diet['gender_Diet'] = diet['gender'] + '_' + diet['Diet']\n",
    "\n",
    "# Perform Levene's test\n",
    "groups = [group['weightlost'].dropna().values for name, group in diet.groupby('gender_Diet')]\n",
    "stat, p_value = levene(*groups)\n",
    "\n",
    "# Display the results\n",
    "print(f\"Levene's test statistic: {stat}\")\n",
    "print(f\"p-value: {p_value}\")"
   ]
  },
  {
   "cell_type": "markdown",
   "metadata": {},
   "source": [
    "P-value > 0.05, so we keep Homogeneity of Variance (or do not reject it) and we can go on."
   ]
  },
  {
   "cell_type": "markdown",
   "metadata": {},
   "source": [
    "## 2-way Anova"
   ]
  },
  {
   "cell_type": "code",
   "execution_count": 12,
   "metadata": {},
   "outputs": [
    {
     "name": "stdout",
     "output_type": "stream",
     "text": [
      "                 sum_sq    df         F    PR(>F)\n",
      "gender         0.168696   1.0  0.031379  0.859910\n",
      "Diet          60.417220   2.0  5.619026  0.005456\n",
      "gender:Diet   33.904068   2.0  3.153204  0.048842\n",
      "Residual     376.329043  70.0       NaN       NaN\n"
     ]
    }
   ],
   "source": [
    "import pandas as pd\n",
    "import statsmodels.api as sm\n",
    "from statsmodels.formula.api import ols\n",
    "\n",
    "# Perform two-way ANOVA\n",
    "model = ols('weightlost ~ gender * Diet', data=diet).fit()\n",
    "anova_table = sm.stats.anova_lm(model, typ=2)\n",
    "\n",
    "# Display the results\n",
    "print(anova_table)"
   ]
  },
  {
   "cell_type": "markdown",
   "metadata": {},
   "source": [
    "\n",
    "-   Strange! There is no significant difference of weight lost between Genders.\n",
    "\n",
    "-   There is a strong significant difference between the Diets.\n",
    "\n",
    "-   There is a significant interaction effect.\n",
    "\n",
    "So in the end, Gender is to be taken into account because there is an interaction effect!"
   ]
  },
  {
   "cell_type": "code",
   "execution_count": 17,
   "metadata": {},
   "outputs": [
    {
     "data": {
      "image/png": "[encoded data removed]",
      "text/plain": [
       "<Figure size 1000x600 with 1 Axes>"
      ]
     },
     "metadata": {},
     "output_type": "display_data"
    }
   ],
   "source": [
    "# Create the interaction plot using seaborn\n",
    "plt.figure(figsize=(10, 6))\n",
    "sns.lineplot(data=diet, x='Diet', y='weightlost', hue='gender', style='gender', markers=True, dashes=False)\n",
    "\n",
    "# Set the titles and labels\n",
    "plt.xlabel('Diet')\n",
    "plt.ylabel('Weight Lost')\n",
    "plt.title('Interaction Plot of Weight Lost by Diet and Gender')\n",
    "\n",
    "# Show the plot\n",
    "plt.show()"
   ]
  },
  {
   "cell_type": "markdown",
   "metadata": {},
   "source": [
    "Typical case of interaction: The lines are not parallel = Interaction!"
   ]
  },
  {
   "cell_type": "markdown",
   "metadata": {},
   "source": [
    "Post-hoc tests:"
   ]
  },
  {
   "cell_type": "code",
   "execution_count": 18,
   "metadata": {},
   "outputs": [
    {
     "name": "stdout",
     "output_type": "stream",
     "text": [
      "                 sum_sq    df         F    PR(>F)\n",
      "gender         0.168696   1.0  0.031379  0.859910\n",
      "Diet          60.417220   2.0  5.619026  0.005456\n",
      "gender:Diet   33.904068   2.0  3.153204  0.048842\n",
      "Residual     376.329043  70.0       NaN       NaN\n",
      "         Multiple Comparison of Means - Tukey HSD, FWER=0.05          \n",
      "======================================================================\n",
      "     group1          group2     meandiff p-adj   lower   upper  reject\n",
      "----------------------------------------------------------------------\n",
      "Female & Diet 1 Female & Diet 2   0.4429 0.9958  -2.125  3.0107  False\n",
      "Female & Diet 1 Female & Diet 3    -2.83 0.0191 -5.3547 -0.3053   True\n",
      "Female & Diet 1   Male & Diet 1     -0.6 0.9888  -3.413   2.213  False\n",
      "Female & Diet 1   Male & Diet 2  -1.0591 0.8657 -3.7965  1.6783  False\n",
      "Female & Diet 1   Male & Diet 3  -1.1833 0.7855 -3.8561  1.4894  False\n",
      "Female & Diet 2 Female & Diet 3  -3.2729  0.004 -5.7976 -0.7481   True\n",
      "Female & Diet 2   Male & Diet 1  -1.0429 0.8852 -3.8558  1.7701  False\n",
      "Female & Diet 2   Male & Diet 2  -1.5019 0.5963 -4.2393  1.2354  False\n",
      "Female & Diet 2   Male & Diet 3  -1.6262 0.4833 -4.2989  1.0465  False\n",
      "Female & Diet 3   Male & Diet 1     2.23 0.1863 -0.5436  5.0036  False\n",
      "Female & Diet 3   Male & Diet 2   1.7709 0.3965  -0.926  4.4678  False\n",
      "Female & Diet 3   Male & Diet 3   1.6467 0.4514 -0.9846   4.278  False\n",
      "  Male & Diet 1   Male & Diet 2  -0.4591 0.9975 -3.4276  2.5094  False\n",
      "  Male & Diet 1   Male & Diet 3  -0.5833 0.9916 -3.4923  2.3257  False\n",
      "  Male & Diet 2   Male & Diet 3  -0.1242    1.0 -2.9602  2.7117  False\n",
      "----------------------------------------------------------------------\n"
     ]
    }
   ],
   "source": [
    "from statsmodels.stats.multicomp import pairwise_tukeyhsd\n",
    "\n",
    "# Perform two-way ANOVA\n",
    "model = ols('weightlost ~ gender * Diet', data=diet).fit()\n",
    "anova_table = sm.stats.anova_lm(model, typ=2)\n",
    "\n",
    "# Display the ANOVA results\n",
    "print(anova_table)\n",
    "\n",
    "# Perform Tukey's HSD test\n",
    "tukey = pairwise_tukeyhsd(endog=diet['weightlost'], groups=diet['gender'] + ' & ' + diet['Diet'], alpha=0.05)\n",
    "\n",
    "# Display the results of Tukey's HSD test\n",
    "print(tukey)"
   ]
  },
  {
   "cell_type": "markdown",
   "metadata": {},
   "source": [
    "## 1-way Ancova DIY"
   ]
  },
  {
   "cell_type": "markdown",
   "metadata": {},
   "source": [
    "A one-way ANCOVA is similar to a one-way ANOVA. However by comparing a measurement scale between 3 or more groups, we control for another continuous variable, called the covariate.\n",
    "\n",
    "This covariate is a variable that you think might affect the results we obtained in the one-way ANOVA.\n",
    "\n",
    "There can be several covariates.\n",
    "\n",
    "Research question: Is there a significant difference of weight lost between the types of Diet while controlling for the height of the participants?\n"
   ]
  },
  {
   "cell_type": "markdown",
   "metadata": {},
   "source": [
    "Assumptions:\n",
    "\n",
    "1)  No significant outliers for each category (Diet)."
   ]
  },
  {
   "cell_type": "code",
   "execution_count": null,
   "metadata": {},
   "outputs": [],
   "source": []
  },
  {
   "cell_type": "markdown",
   "metadata": {},
   "source": [
    "2)  Dependent variable of the ANOVA should be approximately normally distributed for each category (Diet)."
   ]
  },
  {
   "cell_type": "code",
   "execution_count": null,
   "metadata": {},
   "outputs": [],
   "source": []
  },
  {
   "cell_type": "markdown",
   "metadata": {},
   "source": [
    "3)  Homogeneity of Variances: Variances statistically similar between different Diets."
   ]
  },
  {
   "cell_type": "code",
   "execution_count": null,
   "metadata": {},
   "outputs": [],
   "source": []
  },
  {
   "cell_type": "markdown",
   "metadata": {},
   "source": [
    "1-way Ancova test:"
   ]
  },
  {
   "cell_type": "code",
   "execution_count": null,
   "metadata": {},
   "outputs": [],
   "source": []
  },
  {
   "cell_type": "markdown",
   "metadata": {},
   "source": [
    "Conclusions:"
   ]
  },
  {
   "cell_type": "markdown",
   "metadata": {},
   "source": [
    "In order to conduct ANCOVA post-hoc tests (that is pairwise comparisons while controlling for covariate 'Height'), type the same function TukeyHSD and specify the independent variable 'Diet'. \n",
    "\n",
    "Post-hoc tests: "
   ]
  },
  {
   "cell_type": "code",
   "execution_count": null,
   "metadata": {},
   "outputs": [],
   "source": []
  },
  {
   "cell_type": "markdown",
   "metadata": {},
   "source": [
    "## 2-way Ancova DIY\n",
    "\n",
    "Research question: Is there a significant difference of weight lost between the types of Diet and the Gender while controlling for the height of the participants?\n",
    "\n",
    "Pretty much similar to the 2-way ANCOVA but you will add an extra independent factor “Gender”.\n",
    "\n",
    "\"+\" to add the covariate(s) \"\\*\" when it is an independent factor added to Diet."
   ]
  },
  {
   "cell_type": "code",
   "execution_count": null,
   "metadata": {},
   "outputs": [],
   "source": []
  },
  {
   "cell_type": "markdown",
   "metadata": {},
   "source": [
    "## Mixed Anova DIY\n",
    "\n",
    "-   Research question: Is there a significant difference of lost weight between the types of Diet and the Gender while controlling for the height and the age of the participants?\n",
    "\n",
    "-   The between-subjects factor is Diet.\n",
    "\n",
    "-   The within-subjects factor is Time (\"pre\" and \"after 6 weeks\")\n",
    "\n",
    "Unfortunately, the format the data is presented is not ready for analysing a Repeated ANOVA!"
   ]
  },
  {
   "cell_type": "code",
   "execution_count": null,
   "metadata": {},
   "outputs": [],
   "source": []
  },
  {
   "cell_type": "markdown",
   "metadata": {},
   "source": [
    "## Power Analysis\n",
    "\n",
    "The power of a test statistics is to be taken as a score from 0 to 100%. It measures the reliability of your test.\n",
    "\n",
    "The power depends on the sample size and the bigger your sample size, the more power you will have, and thus the more reliable your test is.\n",
    "\n",
    "The power required in statistics is usually 80%.\n",
    "\n",
    "In the functions provided in this course, you need to specify the p-value threshold (0.05 generally) and a parameter called the effect size.\n",
    "\n",
    "After that, you can either specify the sample size you have in order to get the power, or conversely, specify the power in order to know what minimum sample size you need.\n",
    "\n",
    "What to do in case the sample size is not enough?\n",
    "\n",
    "-   Try to collect more data.\n",
    "\n",
    "-   Report the effect sizes.\n",
    "\n",
    "-   Report some descriptive statistics.\n",
    "\n",
    "-   You can increase the p-value threshold to 0.10. I.e. You will have a significant result if the p-value is less than 0.10.\n"
   ]
  },
  {
   "cell_type": "code",
   "execution_count": null,
   "metadata": {},
   "outputs": [],
   "source": []
  }
 ],
 "metadata": {
  "kernelspec": {
   "display_name": "Python 3",
   "language": "python",
   "name": "python3"
  },
  "language_info": {
   "codemirror_mode": {
    "name": "ipython",
    "version": 3
   },
   "file_extension": ".py",
   "mimetype": "text/x-python",
   "name": "python",
   "nbconvert_exporter": "python",
   "pygments_lexer": "ipython3",
   "version": "3.8.2"
  }
 },
 "nbformat": 4,
 "nbformat_minor": 2
}
