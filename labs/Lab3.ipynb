{
 "cells": [
  {
   "metadata": {},
   "cell_type": "markdown",
   "source": [
    "Customers in a really popiular restaurant usually have to vait in line for a table.\n",
    "\n",
    "the waiting time follows log-normal distribution woth param: mu=3.5 sigma=0.1\n",
    "\n",
    "owner wants to cut waiting time in half"
   ],
   "id": "7f44b12335351c"
  },
  {
   "cell_type": "code",
   "id": "initial_id",
   "metadata": {
    "collapsed": true,
    "ExecuteTime": {
     "end_time": "2024-10-24T16:46:59.603327Z",
     "start_time": "2024-10-24T16:46:59.595155Z"
    }
   },
   "source": [
    "import numpy as np\n",
    "\n",
    "mu = 3.5\n",
    "sig = 0.1\n",
    "\n",
    "new_mu = np.log(np.e ** mu / 2)\n",
    "print(np.e ** mu / 2)\n",
    "print(new_mu)\n",
    "\n",
    "import scipy.stats as stats\n",
    "\n",
    "print(1 - stats.lognorm.cdf(np.log(20), new_mu, sig))\n",
    "print(1 - stats.lognorm.cdf(20, s=sig, scale=np.exp(new_mu)))"
   ],
   "outputs": [
    {
     "name": "stdout",
     "output_type": "stream",
     "text": [
      "16.557725979346152\n",
      "2.8068528194400546\n",
      "0.352417905917639\n",
      "0.029459682267336085\n"
     ]
    }
   ],
   "execution_count": 7
  },
  {
   "metadata": {
    "ExecuteTime": {
     "end_time": "2024-10-24T16:55:16.603978Z",
     "start_time": "2024-10-24T16:55:16.601001Z"
    }
   },
   "cell_type": "code",
   "source": [
    "\n",
    "s_ = np.exp(sig) / np.sqrt(15)\n",
    "print(s_)\n",
    "t_value = (30 - np.e ** mu / 2) / s_\n",
    "print(t_value)\n",
    "\n",
    "print(1-stats.t.cdf(t_value, df=14))"
   ],
   "id": "4489fe7e46aa3c9c",
   "outputs": [
    {
     "name": "stdout",
     "output_type": "stream",
     "text": [
      "0.285353904027983\n",
      "47.10737729852696\n",
      "0.0\n"
     ]
    }
   ],
   "execution_count": 15
  },
  {
   "metadata": {
    "ExecuteTime": {
     "end_time": "2024-10-24T17:03:15.193359Z",
     "start_time": "2024-10-24T17:03:15.190Z"
    }
   },
   "cell_type": "code",
   "source": [
    "p = 0.2\n",
    "n = 1267\n",
    "mean = n*p*(1-p)\n",
    "print(mean)\n",
    "\n",
    "sd = np.sqrt(p*(1-p)/n)\n",
    "print(sd)\n",
    "\n",
    "sd_ = sd / np.sqrt(n)\n",
    "\n",
    "z = (245 - mean) / sd_\n",
    "print(stats.norm.cdf(z))  # 0.73"
   ],
   "id": "6c9a7305138b7ff2",
   "outputs": [
    {
     "name": "stdout",
     "output_type": "stream",
     "text": [
      "202.72000000000003\n",
      "0.011237551211086149\n",
      "1.0\n"
     ]
    }
   ],
   "execution_count": 21
  },
  {
   "metadata": {},
   "cell_type": "code",
   "outputs": [],
   "execution_count": null,
   "source": "",
   "id": "fa4474c85c9348e0"
  }
 ],
 "metadata": {
  "kernelspec": {
   "display_name": "Python 3",
   "language": "python",
   "name": "python3"
  },
  "language_info": {
   "codemirror_mode": {
    "name": "ipython",
    "version": 2
   },
   "file_extension": ".py",
   "mimetype": "text/x-python",
   "name": "python",
   "nbconvert_exporter": "python",
   "pygments_lexer": "ipython2",
   "version": "2.7.6"
  }
 },
 "nbformat": 4,
 "nbformat_minor": 5
}
