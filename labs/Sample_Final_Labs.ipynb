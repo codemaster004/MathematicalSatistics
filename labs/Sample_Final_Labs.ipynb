{
 "cells": [
  {
   "cell_type": "markdown",
   "metadata": {},
   "source": [
    "## Introduction to the Sample Final Test\n",
    "\n",
    "Dear Students,\n",
    "\n",
    "Welcome to the sample final test for our laboratory course. This test is designed to assess your understanding and application of the concepts and techniques we have covered throughout the semester. \n",
    "\n",
    "Instructions:\n",
    "\n",
    "Read Each Question Carefully: Ensure you understand what is being asked before you start coding.\n",
    "\n",
    "Write Clean and Commented Code: Your code should be well-organized and include comments explaining your logic.\n",
    "\n",
    "Test Your Code: Make sure to test your code with different inputs to ensure it works correctly.\n",
    "\n",
    "Conclusions: Make final decisions, decide about the statistical and practical significance. \n",
    "\n",
    "Resources:\n",
    "\n",
    "You are allowed to use your notes, textbooks, and online resources to help you complete the test. \n",
    "\n",
    "**Please be advised that the use of any Generative AI (GenAI) tools is strictly prohibited during this test. This includes, but is not limited to, tools that generate code, text, or any other form of content based on AI algorithms.**\n",
    "\n",
    "Collaboration with classmates is not permitted. This test is an individual assessment of your skills.\n",
    "\n",
    "I encourage you to take your time and approach each question methodically. This test is an opportunity to demonstrate your proficiency and understanding of the material. \n",
    "\n",
    "Best regards,\n",
    "\n",
    "Karol\n",
    "/Mathematical Statistics 2024/2025/\n",
    "\n"
   ]
  },
  {
   "cell_type": "markdown",
   "metadata": {},
   "source": [
    "# Task 1: Verify the Hypothesis\n",
    "\n",
    "Objective: Verify the hypothesis that the salaries of professors working in theoretical departments (B) are much lower than those working in applied departments (A)."
   ]
  },
  {
   "cell_type": "code",
   "metadata": {
    "ExecuteTime": {
     "end_time": "2025-01-25T16:01:22.648327Z",
     "start_time": "2025-01-25T16:01:22.560240Z"
    }
   },
   "source": [
    "import pandas as pd\n",
    "import numpy as np\n",
    "\n",
    "# Load the Salaries dataset from the URL\n",
    "url = \"https://vincentarelbundock.github.io/Rdatasets/csv/carData/Salaries.csv\"\n",
    "salaries = pd.read_csv(url)\n",
    "\n",
    "# Filter the data based on the department type\n",
    "theoretical_salaries = salaries[salaries['discipline'] == 'B']['salary']\n",
    "applied_salaries = salaries[salaries['discipline'] == 'A']['salary']\n",
    "\n",
    "# Display the first few rows of the dataset\n",
    "salaries"
   ],
   "outputs": [
    {
     "data": {
      "text/plain": [
       "     rownames      rank discipline  yrs.since.phd  yrs.service   sex  salary\n",
       "0           1      Prof          B             19           18  Male  139750\n",
       "1           2      Prof          B             20           16  Male  173200\n",
       "2           3  AsstProf          B              4            3  Male   79750\n",
       "3           4      Prof          B             45           39  Male  115000\n",
       "4           5      Prof          B             40           41  Male  141500\n",
       "..        ...       ...        ...            ...          ...   ...     ...\n",
       "392       393      Prof          A             33           30  Male  103106\n",
       "393       394      Prof          A             31           19  Male  150564\n",
       "394       395      Prof          A             42           25  Male  101738\n",
       "395       396      Prof          A             25           15  Male   95329\n",
       "396       397  AsstProf          A              8            4  Male   81035\n",
       "\n",
       "[397 rows x 7 columns]"
      ],
      "text/html": [
       "<div>\n",
       "<style scoped>\n",
       "    .dataframe tbody tr th:only-of-type {\n",
       "        vertical-align: middle;\n",
       "    }\n",
       "\n",
       "    .dataframe tbody tr th {\n",
       "        vertical-align: top;\n",
       "    }\n",
       "\n",
       "    .dataframe thead th {\n",
       "        text-align: right;\n",
       "    }\n",
       "</style>\n",
       "<table border=\"1\" class=\"dataframe\">\n",
       "  <thead>\n",
       "    <tr style=\"text-align: right;\">\n",
       "      <th></th>\n",
       "      <th>rownames</th>\n",
       "      <th>rank</th>\n",
       "      <th>discipline</th>\n",
       "      <th>yrs.since.phd</th>\n",
       "      <th>yrs.service</th>\n",
       "      <th>sex</th>\n",
       "      <th>salary</th>\n",
       "    </tr>\n",
       "  </thead>\n",
       "  <tbody>\n",
       "    <tr>\n",
       "      <th>0</th>\n",
       "      <td>1</td>\n",
       "      <td>Prof</td>\n",
       "      <td>B</td>\n",
       "      <td>19</td>\n",
       "      <td>18</td>\n",
       "      <td>Male</td>\n",
       "      <td>139750</td>\n",
       "    </tr>\n",
       "    <tr>\n",
       "      <th>1</th>\n",
       "      <td>2</td>\n",
       "      <td>Prof</td>\n",
       "      <td>B</td>\n",
       "      <td>20</td>\n",
       "      <td>16</td>\n",
       "      <td>Male</td>\n",
       "      <td>173200</td>\n",
       "    </tr>\n",
       "    <tr>\n",
       "      <th>2</th>\n",
       "      <td>3</td>\n",
       "      <td>AsstProf</td>\n",
       "      <td>B</td>\n",
       "      <td>4</td>\n",
       "      <td>3</td>\n",
       "      <td>Male</td>\n",
       "      <td>79750</td>\n",
       "    </tr>\n",
       "    <tr>\n",
       "      <th>3</th>\n",
       "      <td>4</td>\n",
       "      <td>Prof</td>\n",
       "      <td>B</td>\n",
       "      <td>45</td>\n",
       "      <td>39</td>\n",
       "      <td>Male</td>\n",
       "      <td>115000</td>\n",
       "    </tr>\n",
       "    <tr>\n",
       "      <th>4</th>\n",
       "      <td>5</td>\n",
       "      <td>Prof</td>\n",
       "      <td>B</td>\n",
       "      <td>40</td>\n",
       "      <td>41</td>\n",
       "      <td>Male</td>\n",
       "      <td>141500</td>\n",
       "    </tr>\n",
       "    <tr>\n",
       "      <th>...</th>\n",
       "      <td>...</td>\n",
       "      <td>...</td>\n",
       "      <td>...</td>\n",
       "      <td>...</td>\n",
       "      <td>...</td>\n",
       "      <td>...</td>\n",
       "      <td>...</td>\n",
       "    </tr>\n",
       "    <tr>\n",
       "      <th>392</th>\n",
       "      <td>393</td>\n",
       "      <td>Prof</td>\n",
       "      <td>A</td>\n",
       "      <td>33</td>\n",
       "      <td>30</td>\n",
       "      <td>Male</td>\n",
       "      <td>103106</td>\n",
       "    </tr>\n",
       "    <tr>\n",
       "      <th>393</th>\n",
       "      <td>394</td>\n",
       "      <td>Prof</td>\n",
       "      <td>A</td>\n",
       "      <td>31</td>\n",
       "      <td>19</td>\n",
       "      <td>Male</td>\n",
       "      <td>150564</td>\n",
       "    </tr>\n",
       "    <tr>\n",
       "      <th>394</th>\n",
       "      <td>395</td>\n",
       "      <td>Prof</td>\n",
       "      <td>A</td>\n",
       "      <td>42</td>\n",
       "      <td>25</td>\n",
       "      <td>Male</td>\n",
       "      <td>101738</td>\n",
       "    </tr>\n",
       "    <tr>\n",
       "      <th>395</th>\n",
       "      <td>396</td>\n",
       "      <td>Prof</td>\n",
       "      <td>A</td>\n",
       "      <td>25</td>\n",
       "      <td>15</td>\n",
       "      <td>Male</td>\n",
       "      <td>95329</td>\n",
       "    </tr>\n",
       "    <tr>\n",
       "      <th>396</th>\n",
       "      <td>397</td>\n",
       "      <td>AsstProf</td>\n",
       "      <td>A</td>\n",
       "      <td>8</td>\n",
       "      <td>4</td>\n",
       "      <td>Male</td>\n",
       "      <td>81035</td>\n",
       "    </tr>\n",
       "  </tbody>\n",
       "</table>\n",
       "<p>397 rows × 7 columns</p>\n",
       "</div>"
      ]
     },
     "execution_count": 13,
     "metadata": {},
     "output_type": "execute_result"
    }
   ],
   "execution_count": 13
  },
  {
   "cell_type": "code",
   "metadata": {
    "ExecuteTime": {
     "end_time": "2025-01-25T15:54:12.034095Z",
     "start_time": "2025-01-25T15:54:12.027346Z"
    }
   },
   "source": [
    "# your solution\n",
    "print(theoretical_salaries.size, applied_salaries.size)\n",
    "\n",
    "from scipy.stats import shapiro\n",
    "\n",
    "stat, p = shapiro(theoretical_salaries)\n",
    "print(f'Sharpino Statistic={stat}, p={p}')\n",
    "\n",
    "stat, p = shapiro(applied_salaries)\n",
    "print(f'Sharpino Statistic={stat}, p={p}')\n"
   ],
   "outputs": [
    {
     "name": "stdout",
     "output_type": "stream",
     "text": [
      "216 181\n",
      "Sharpino Statistic=0.9611942982211139, p=1.271009083842308e-05\n",
      "Sharpino Statistic=0.941829929220077, p=1.0267201943206342e-06\n"
     ]
    }
   ],
   "execution_count": 8
  },
  {
   "metadata": {
    "ExecuteTime": {
     "end_time": "2025-01-25T16:19:48.290455Z",
     "start_time": "2025-01-25T16:19:48.262187Z"
    }
   },
   "cell_type": "code",
   "source": [
    "from scipy.stats import boxcox\n",
    "\n",
    "t_theoretical_salaries, _ = boxcox(theoretical_salaries)\n",
    "t_applied_salaries, _ = boxcox(applied_salaries)\n",
    "\n",
    "stat, p = shapiro(t_theoretical_salaries)\n",
    "print(f'Sharpino Statistic={stat}, p={p}')\n",
    "\n",
    "stat, p = shapiro(t_applied_salaries)\n",
    "print(f'Sharpino Statistic={stat}, p={p}')"
   ],
   "outputs": [
    {
     "name": "stdout",
     "output_type": "stream",
     "text": [
      "Sharpino Statistic=0.9891412860313052, p=0.10216707231581107\n",
      "Sharpino Statistic=0.9850858810631478, p=0.051302860959439006\n",
      "OK\n"
     ]
    }
   ],
   "execution_count": 15
  },
  {
   "metadata": {
    "ExecuteTime": {
     "end_time": "2025-01-25T16:11:10.380336Z",
     "start_time": "2025-01-25T16:11:10.369389Z"
    }
   },
   "cell_type": "code",
   "source": [
    "from scipy.stats import levene\n",
    "\n",
    "stat, p_value = levene(t_theoretical_salaries, t_applied_salaries)\n",
    "print(f\"Statistic: {stat}, P-value: {p_value}\")"
   ],
   "outputs": [
    {
     "name": "stdout",
     "output_type": "stream",
     "text": [
      "Statistic: 286.4828141687703, P-value: 1.0247816132973972e-48\n"
     ]
    }
   ],
   "execution_count": 14
  },
  {
   "metadata": {
    "ExecuteTime": {
     "end_time": "2025-01-25T16:39:09.035813Z",
     "start_time": "2025-01-25T16:39:09.023479Z"
    }
   },
   "cell_type": "code",
   "source": [
    "from scipy.stats import ttest_ind\n",
    "\n",
    "# T-Test(t_applied_salaries < t_theoretical_salaries)\n",
    "t_stat, p_value = ttest_ind(t_applied_salaries, t_theoretical_salaries, equal_var=False, alternative='less')\n",
    "\n",
    "print(f\"T-statistic: {t_stat:.2f}, P-value: {p_value}\")"
   ],
   "outputs": [
    {
     "name": "stdout",
     "output_type": "stream",
     "text": [
      "T-statistic: -1589.20, P-value: 0.0\n"
     ]
    }
   ],
   "execution_count": 23
  },
  {
   "metadata": {},
   "cell_type": "markdown",
   "source": "## REJECT H_0"
  },
  {
   "metadata": {},
   "cell_type": "code",
   "outputs": [],
   "execution_count": null,
   "source": "# "
  },
  {
   "cell_type": "markdown",
   "metadata": {},
   "source": [
    "# Task 2: Verify the Hypothesis\n",
    "\n",
    "Objective: Verify if the proportion of higher rank professors (associate and full professors) is significantly different between male and female scientists."
   ]
  },
  {
   "cell_type": "code",
   "metadata": {
    "ExecuteTime": {
     "end_time": "2025-01-25T17:09:03.919795Z",
     "start_time": "2025-01-25T17:09:03.896207Z"
    }
   },
   "source": [
    "from scipy.stats import chi2_contingency\n",
    "from pandas import crosstab\n",
    "\n",
    "salaries['higher_rank'] = salaries['rank'].apply(lambda x: 'low' if x == 'AssocProf' else 'high' if x == 'Prof' else None)\n",
    "\n",
    "# def empty_function(value):\n",
    "#     if value == 'AssocProf':\n",
    "#         return 'low'\n",
    "#     elif value == 'Prof':\n",
    "#         return 'high'\n",
    "#     else:\n",
    "#         return None\n",
    "\n",
    "table = crosstab(salaries['higher_rank'], salaries['sex'])\n",
    "print(table)\n",
    "\n",
    "chi2, p, dof, expected = chi2_contingency(table)\n",
    "\n",
    "print(f\"Chi2 Statistic: {chi2}, Df: {dof}, P-value: {p}\")"
   ],
   "outputs": [
    {
     "name": "stdout",
     "output_type": "stream",
     "text": [
      "sex          Female  Male\n",
      "higher_rank              \n",
      "high             18   248\n",
      "low              10    54\n",
      "Chi2 Statistic: 4.134655979582055, Df: 1, P-value: 0.04201360631381723\n"
     ]
    }
   ],
   "execution_count": 28
  },
  {
   "metadata": {},
   "cell_type": "code",
   "outputs": [],
   "execution_count": null,
   "source": ""
  },
  {
   "cell_type": "markdown",
   "metadata": {},
   "source": [
    "# Task 3: Verify the Hypothesis\n",
    "\n",
    "Objective: Verify if the salaries of professors are significantly different based on rank, gender, and discipline, and check for interactions between these groups."
   ]
  },
  {
   "cell_type": "code",
   "metadata": {
    "ExecuteTime": {
     "end_time": "2025-01-25T17:30:03.425974Z",
     "start_time": "2025-01-25T17:30:03.391660Z"
    }
   },
   "source": [
    "from scipy.stats import shapiro\n",
    "\n",
    "stat, p = shapiro(salaries['salary'])\n",
    "print(f'Sharpino Statistic={stat}, p={p}')"
   ],
   "outputs": [
    {
     "name": "stdout",
     "output_type": "stream",
     "text": [
      "Sharpino Statistic=0.9598763278424717, p=6.076052123031469e-09\n"
     ]
    }
   ],
   "execution_count": 29
  },
  {
   "metadata": {
    "ExecuteTime": {
     "end_time": "2025-01-25T17:34:06.330257Z",
     "start_time": "2025-01-25T17:34:06.304042Z"
    }
   },
   "cell_type": "code",
   "source": [
    "from scipy.stats import boxcox\n",
    "\n",
    "salaries['t_salary'], _ = boxcox(salaries['salary'])\n",
    "\n",
    "stat, p = shapiro(salaries['t_salary'])\n",
    "print(f'Sharpino Statistic={stat}, p={p}')"
   ],
   "outputs": [
    {
     "name": "stdout",
     "output_type": "stream",
     "text": [
      "Sharpino Statistic=0.9913485882391487, p=0.020271080134795293\n"
     ]
    }
   ],
   "execution_count": 30
  },
  {
   "metadata": {
    "ExecuteTime": {
     "end_time": "2025-01-25T18:10:07.476661Z",
     "start_time": "2025-01-25T18:10:07.458986Z"
    }
   },
   "cell_type": "code",
   "source": [
    "column = 'rank'\n",
    "groups = [salaries[salaries[column] == g]['t_salary'] for g in salaries[column].unique()]\n",
    "stat, p = levene(*groups)\n",
    "print(f'Levene Statistic Rank={stat}, p={p}')\n",
    "\n",
    "column = 'sex'\n",
    "groups = [salaries[salaries[column] == g]['t_salary'] for g in salaries[column].unique()]\n",
    "stat, p = levene(*groups)\n",
    "print(f'Levene Statistic Sex={stat}, p={p}')\n",
    "\n",
    "column = 'discipline'\n",
    "groups = [salaries[salaries[column] == g]['t_salary'] for g in salaries[column].unique()]\n",
    "stat, p = levene(*groups)\n",
    "print(f'Levene Statistic Disciplin={stat}, p={p}')"
   ],
   "outputs": [
    {
     "name": "stdout",
     "output_type": "stream",
     "text": [
      "Levene Statistic Rank=15.39244267707073, p=3.65975319846777e-07\n",
      "Levene Statistic Sex=0.1404424384435778, p=0.7080426838760642\n",
      "Levene Statistic Disciplin=1.4833588695145101, p=0.2239767480337511\n"
     ]
    }
   ],
   "execution_count": 42
  },
  {
   "metadata": {
    "ExecuteTime": {
     "end_time": "2025-01-25T18:39:42.486942Z",
     "start_time": "2025-01-25T18:39:42.409475Z"
    }
   },
   "cell_type": "code",
   "source": [
    "from statsmodels.formula.api import ols\n",
    "import statsmodels.api as sm\n",
    "\n",
    "model = ols('t_salary ~ sex + discipline', data=salaries).fit()\n",
    "anova_table = sm.stats.anova_lm(model, typ=2)\n",
    "\n",
    "print(anova_table)"
   ],
   "outputs": [
    {
     "name": "stdout",
     "output_type": "stream",
     "text": [
      "              sum_sq     df          F    PR(>F)\n",
      "sex         0.002357    1.0   9.265586  0.002492\n",
      "discipline  0.003334    1.0  13.107670  0.000332\n",
      "Residual    0.100214  394.0        NaN       NaN\n"
     ]
    }
   ],
   "execution_count": 43
  },
  {
   "cell_type": "markdown",
   "metadata": {},
   "source": [
    "# Task 4: Verify the Hypothesis\n",
    "\n",
    "Objective: Verify if credit amounts (in DM) are significantly different for people applying with different job, personal status, sex, or age."
   ]
  },
  {
   "cell_type": "code",
   "metadata": {
    "ExecuteTime": {
     "end_time": "2025-01-23T17:17:29.813595Z",
     "start_time": "2025-01-23T17:17:28.834441Z"
    }
   },
   "source": [
    "import pandas as pd\n",
    "\n",
    "# Load the GermanCredit dataset from GitHub\n",
    "url = \"https://raw.githubusercontent.com/selva86/datasets/master/GermanCredit.csv\"\n",
    "germancredit = pd.read_csv(url)\n",
    "\n",
    "# Display the first few rows of the dataset\n",
    "print(germancredit.columns)\n",
    "print(germancredit.head())"
   ],
   "outputs": [
    {
     "name": "stdout",
     "output_type": "stream",
     "text": [
      "Index(['status', 'duration', 'credit_history', 'purpose', 'amount', 'savings',\n",
      "       'employment_duration', 'installment_rate', 'personal_status_sex',\n",
      "       'other_debtors', 'present_residence', 'property', 'age',\n",
      "       'other_installment_plans', 'housing', 'number_credits', 'job',\n",
      "       'people_liable', 'telephone', 'foreign_worker', 'credit_risk'],\n",
      "      dtype='object')\n",
      "                status  duration                            credit_history  \\\n",
      "0         ... < 100 DM         6   critical account/other credits existing   \n",
      "1    0 <= ... < 200 DM        48  existing credits paid back duly till now   \n",
      "2  no checking account        12   critical account/other credits existing   \n",
      "3         ... < 100 DM        42  existing credits paid back duly till now   \n",
      "4         ... < 100 DM        24           delay in paying off in the past   \n",
      "\n",
      "               purpose  amount                     savings  \\\n",
      "0  domestic appliances    1169  unknown/no savings account   \n",
      "1  domestic appliances    5951                ... < 100 DM   \n",
      "2           retraining    2096                ... < 100 DM   \n",
      "3     radio/television    7882                ... < 100 DM   \n",
      "4            car (new)    4870                ... < 100 DM   \n",
      "\n",
      "  employment_duration  installment_rate                  personal_status_sex  \\\n",
      "0      ... >= 7 years                 4                        male : single   \n",
      "1  1 <= ... < 4 years                 2  female : divorced/separated/married   \n",
      "2  4 <= ... < 7 years                 2                        male : single   \n",
      "3  4 <= ... < 7 years                 2                        male : single   \n",
      "4  1 <= ... < 4 years                 3                        male : single   \n",
      "\n",
      "  other_debtors  ...                                           property age  \\\n",
      "0          none  ...                                        real estate  67   \n",
      "1          none  ...                                        real estate  22   \n",
      "2          none  ...                                        real estate  49   \n",
      "3     guarantor  ...  building society savings agreement/life insurance  45   \n",
      "4          none  ...                                unknown/no property  53   \n",
      "\n",
      "   other_installment_plans   housing number_credits  \\\n",
      "0                     none       own              2   \n",
      "1                     none       own              1   \n",
      "2                     none       own              1   \n",
      "3                     none  for free              1   \n",
      "4                     none  for free              2   \n",
      "\n",
      "                         job people_liable  telephone foreign_worker  \\\n",
      "0  skilled employee/official             1        yes            yes   \n",
      "1  skilled employee/official             1         no            yes   \n",
      "2       unskilled - resident             2         no            yes   \n",
      "3  skilled employee/official             2         no            yes   \n",
      "4  skilled employee/official             2         no            yes   \n",
      "\n",
      "  credit_risk  \n",
      "0           1  \n",
      "1           0  \n",
      "2           1  \n",
      "3           1  \n",
      "4           0  \n",
      "\n",
      "[5 rows x 21 columns]\n"
     ]
    }
   ],
   "execution_count": 3
  },
  {
   "cell_type": "code",
   "metadata": {
    "ExecuteTime": {
     "end_time": "2025-01-23T17:35:52.894084Z",
     "start_time": "2025-01-23T17:35:52.862860Z"
    }
   },
   "source": [
    "# your solution\n",
    "# 2-way ANCOVA\n",
    "from scipy.stats import shapiro\n",
    "import numpy as np\n",
    "from scipy.stats import boxcox\n",
    "transformed_data, lambda_value = boxcox(germancredit['amount'])\n",
    "\n",
    "stat, p = shapiro(transformed_data)\n",
    "print(f'Sharpino Statistic={stat}, p={p}')\n",
    "\n",
    "germancredit['personal_status_sex']\n",
    "germancredit['amount_trans'] = transformed_data\n",
    "# stat, p = levene(group1, group2, group3)\n"
   ],
   "outputs": [
    {
     "name": "stdout",
     "output_type": "stream",
     "text": [
      "Sharpino Statistic=0.994295610968472, p=0.0007607681859426297\n"
     ]
    }
   ],
   "execution_count": 20
  },
  {
   "metadata": {
    "ExecuteTime": {
     "end_time": "2025-01-23T17:35:59.964328Z",
     "start_time": "2025-01-23T17:35:59.952371Z"
    }
   },
   "cell_type": "code",
   "source": [
    "from scipy.stats import levene\n",
    "\n",
    "credit_wide = germancredit.melt(id_vars='amount_trans', value_vars=['personal_status_sex'])\n",
    "print(credit_wide.head())\n",
    "groups = [credit_wide[credit_wide[\"value\"] == g][\"amount_trans\"] for g in credit_wide[\"value\"].unique()]\n",
    "stat, p = levene(*groups)\n",
    "print(f'Levene Statistic={stat}, p={p}')"
   ],
   "outputs": [
    {
     "name": "stdout",
     "output_type": "stream",
     "text": [
      "   amount_trans             variable                                value\n",
      "0      5.682667  personal_status_sex                        male : single\n",
      "1      6.666001  personal_status_sex  female : divorced/separated/married\n",
      "2      6.047305  personal_status_sex                        male : single\n",
      "3      6.825672  personal_status_sex                        male : single\n",
      "4      6.550332  personal_status_sex                        male : single\n",
      "Levene Statistic=1.0432200773471447, p=0.3725560351845742\n"
     ]
    }
   ],
   "execution_count": 21
  },
  {
   "metadata": {
    "ExecuteTime": {
     "end_time": "2025-01-23T17:46:53.983358Z",
     "start_time": "2025-01-23T17:46:53.953450Z"
    }
   },
   "cell_type": "code",
   "source": [
    "from statsmodels.formula.api import ols\n",
    "import statsmodels.api as sm\n",
    "# Perform two-way ANCOVA\n",
    "model = ols('amount_trans ~ personal_status_sex * job + age', data=germancredit).fit()\n",
    "anova_table = sm.stats.anova_lm(model, typ=2)\n",
    "\n",
    "# Display the ANCOVA results\n",
    "print(anova_table)"
   ],
   "outputs": [
    {
     "name": "stdout",
     "output_type": "stream",
     "text": [
      "                             sum_sq     df          F        PR(>F)\n",
      "personal_status_sex       15.374696    3.0  27.241914  3.054340e-12\n",
      "job                        9.639518    3.0  17.079941  5.106528e-08\n",
      "personal_status_sex:job    2.876209    9.0   1.698753  9.462776e-02\n",
      "age                        1.046340    1.0   5.561925  1.854999e-02\n",
      "Residual                 185.115491  984.0        NaN           NaN\n"
     ]
    },
    {
     "name": "stderr",
     "output_type": "stream",
     "text": [
      "/opt/homebrew/Caskroom/miniforge/base/envs/MathematicalSatistics3_11/lib/python3.11/site-packages/statsmodels/base/model.py:1894: ValueWarning: covariance of constraints does not have full rank. The number of constraints is 3, but rank is 2\n",
      "  warnings.warn('covariance of constraints does not have full '\n",
      "/opt/homebrew/Caskroom/miniforge/base/envs/MathematicalSatistics3_11/lib/python3.11/site-packages/statsmodels/base/model.py:1894: ValueWarning: covariance of constraints does not have full rank. The number of constraints is 3, but rank is 2\n",
      "  warnings.warn('covariance of constraints does not have full '\n",
      "/opt/homebrew/Caskroom/miniforge/base/envs/MathematicalSatistics3_11/lib/python3.11/site-packages/statsmodels/base/model.py:1894: ValueWarning: covariance of constraints does not have full rank. The number of constraints is 9, but rank is 8\n",
      "  warnings.warn('covariance of constraints does not have full '\n"
     ]
    }
   ],
   "execution_count": 37
  },
  {
   "metadata": {},
   "cell_type": "code",
   "outputs": [],
   "execution_count": null,
   "source": ""
  },
  {
   "cell_type": "markdown",
   "metadata": {},
   "source": [
    "# Task 5: Evaluate Interaction Between Group and Time\n",
    "\n",
    "Description: \n",
    "\n",
    "The data provide the anxiety score, measured at three time points, of three groups of individuals practicing physical exercises at different levels (grp1: basal, grp2: moderate and grp3: high)\n",
    "\n",
    "Objective: Evaluate if there is an interaction between group and time in explaining anxiety scores."
   ]
  },
  {
   "cell_type": "code",
   "execution_count": 13,
   "metadata": {},
   "outputs": [
    {
     "name": "stdout",
     "output_type": "stream",
     "text": [
      "   Unnamed: 0  id group    t1    t2    t3\n",
      "0           1   1  grp1  14.1  14.4  14.1\n",
      "1           2   2  grp1  14.5  14.6  14.3\n",
      "2           3   3  grp1  15.7  15.2  14.9\n",
      "3           4   4  grp1  16.0  15.5  15.3\n",
      "4           5   5  grp1  16.5  15.8  15.7\n"
     ]
    }
   ],
   "source": [
    "import pandas as pd\n",
    "\n",
    "# Load the anxiety dataset from GitHub\n",
    "url = \"https://raw.githubusercontent.com/kflisikowski/ds/master/anxiety.csv\"\n",
    "anxiety_data = pd.read_csv(url)\n",
    "\n",
    "# Display the first few rows of the dataset\n",
    "print(anxiety_data.head())"
   ]
  },
  {
   "cell_type": "code",
   "execution_count": null,
   "metadata": {},
   "outputs": [],
   "source": [
    "# your solution"
   ]
  },
  {
   "cell_type": "markdown",
   "metadata": {},
   "source": [
    "# Task 6: Evaluate the Goodness of Fit\n",
    "\n",
    "Objective: Use the goodness of fit test to determine whether the distribution of credit amounts for male customers matches that of female customers."
   ]
  },
  {
   "cell_type": "code",
   "execution_count": 14,
   "metadata": {},
   "outputs": [
    {
     "name": "stdout",
     "output_type": "stream",
     "text": [
      "                status  duration                            credit_history  \\\n",
      "0         ... < 100 DM         6   critical account/other credits existing   \n",
      "1    0 <= ... < 200 DM        48  existing credits paid back duly till now   \n",
      "2  no checking account        12   critical account/other credits existing   \n",
      "3         ... < 100 DM        42  existing credits paid back duly till now   \n",
      "4         ... < 100 DM        24           delay in paying off in the past   \n",
      "\n",
      "               purpose  amount                     savings  \\\n",
      "0  domestic appliances    1169  unknown/no savings account   \n",
      "1  domestic appliances    5951                ... < 100 DM   \n",
      "2           retraining    2096                ... < 100 DM   \n",
      "3     radio/television    7882                ... < 100 DM   \n",
      "4            car (new)    4870                ... < 100 DM   \n",
      "\n",
      "  employment_duration  installment_rate                  personal_status_sex  \\\n",
      "0      ... >= 7 years                 4                        male : single   \n",
      "1  1 <= ... < 4 years                 2  female : divorced/separated/married   \n",
      "2  4 <= ... < 7 years                 2                        male : single   \n",
      "3  4 <= ... < 7 years                 2                        male : single   \n",
      "4  1 <= ... < 4 years                 3                        male : single   \n",
      "\n",
      "  other_debtors  ...                                           property age  \\\n",
      "0          none  ...                                        real estate  67   \n",
      "1          none  ...                                        real estate  22   \n",
      "2          none  ...                                        real estate  49   \n",
      "3     guarantor  ...  building society savings agreement/life insurance  45   \n",
      "4          none  ...                                unknown/no property  53   \n",
      "\n",
      "   other_installment_plans   housing number_credits  \\\n",
      "0                     none       own              2   \n",
      "1                     none       own              1   \n",
      "2                     none       own              1   \n",
      "3                     none  for free              1   \n",
      "4                     none  for free              2   \n",
      "\n",
      "                         job people_liable  telephone foreign_worker  \\\n",
      "0  skilled employee/official             1        yes            yes   \n",
      "1  skilled employee/official             1         no            yes   \n",
      "2       unskilled - resident             2         no            yes   \n",
      "3  skilled employee/official             2         no            yes   \n",
      "4  skilled employee/official             2         no            yes   \n",
      "\n",
      "  credit_risk  \n",
      "0           1  \n",
      "1           0  \n",
      "2           1  \n",
      "3           1  \n",
      "4           0  \n",
      "\n",
      "[5 rows x 21 columns]\n"
     ]
    }
   ],
   "source": [
    "import pandas as pd\n",
    "\n",
    "# Load the German Credit dataset from GitHub\n",
    "url = \"https://raw.githubusercontent.com/selva86/datasets/master/GermanCredit.csv\"\n",
    "germancredit = pd.read_csv(url)\n",
    "\n",
    "# Display the first few rows of the dataset\n",
    "print(germancredit.head())"
   ]
  },
  {
   "cell_type": "code",
   "execution_count": null,
   "metadata": {},
   "outputs": [],
   "source": [
    "# your solution"
   ]
  },
  {
   "cell_type": "markdown",
   "metadata": {},
   "source": [
    "# Task 7: Evaluate the Change in Asthma Symptoms Over Time\n",
    "\n",
    "Objective: determine if there is a significant change in asthma symptoms reported by participants at two different time points."
   ]
  },
  {
   "cell_type": "code",
   "execution_count": 2,
   "metadata": {},
   "outputs": [
    {
     "name": "stdout",
     "output_type": "stream",
     "text": [
      "  know_begin know_end\n",
      "0        yes      yes\n",
      "1         no       no\n",
      "2        yes       no\n",
      "3         no       no\n",
      "4         no       no\n"
     ]
    }
   ],
   "source": [
    "import pandas as pd\n",
    "\n",
    "# Load the asthma dataset from GitHub\n",
    "url = \"https://github.com/bougioukas/basic_stats_R/raw/main/data/asthma.xlsx\"\n",
    "asthma_data = pd.read_excel(url)\n",
    "\n",
    "# Display the first few rows of the dataset\n",
    "print(asthma_data.head())"
   ]
  },
  {
   "cell_type": "code",
   "execution_count": null,
   "metadata": {},
   "outputs": [],
   "source": [
    "# your solution"
   ]
  },
  {
   "cell_type": "markdown",
   "metadata": {},
   "source": [
    "# Task 8: Differences of BG readings Over Time \n",
    "\n",
    "Objective: determine if there is a significant difference in the blood glucose (BG) readings over multiple time points.\n",
    "\n",
    "Data: let's use a hypothethical example of blood glucose (BG) readings of persons with diabetes.\n",
    "\n",
    "The test is done three times, say before, within and after a given clinical treatment and we want to know if there is a significant difference within the groups (times)."
   ]
  },
  {
   "cell_type": "code",
   "execution_count": 4,
   "metadata": {},
   "outputs": [
    {
     "data": {
      "text/html": [
       "<div>\n",
       "<style scoped>\n",
       "    .dataframe tbody tr th:only-of-type {\n",
       "        vertical-align: middle;\n",
       "    }\n",
       "\n",
       "    .dataframe tbody tr th {\n",
       "        vertical-align: top;\n",
       "    }\n",
       "\n",
       "    .dataframe thead th {\n",
       "        text-align: right;\n",
       "    }\n",
       "</style>\n",
       "<table border=\"1\" class=\"dataframe\">\n",
       "  <thead>\n",
       "    <tr style=\"text-align: right;\">\n",
       "      <th></th>\n",
       "      <th>before</th>\n",
       "      <th>during</th>\n",
       "      <th>after</th>\n",
       "    </tr>\n",
       "    <tr>\n",
       "      <th>Subject</th>\n",
       "      <th></th>\n",
       "      <th></th>\n",
       "      <th></th>\n",
       "    </tr>\n",
       "  </thead>\n",
       "  <tbody>\n",
       "    <tr>\n",
       "      <th>0</th>\n",
       "      <td>89.162573</td>\n",
       "      <td>94.023517</td>\n",
       "      <td>94.594145</td>\n",
       "    </tr>\n",
       "    <tr>\n",
       "      <th>1</th>\n",
       "      <td>90.857629</td>\n",
       "      <td>95.273755</td>\n",
       "      <td>95.040646</td>\n",
       "    </tr>\n",
       "    <tr>\n",
       "      <th>2</th>\n",
       "      <td>94.912999</td>\n",
       "      <td>96.612870</td>\n",
       "      <td>95.200472</td>\n",
       "    </tr>\n",
       "    <tr>\n",
       "      <th>3</th>\n",
       "      <td>95.254064</td>\n",
       "      <td>96.818673</td>\n",
       "      <td>97.205801</td>\n",
       "    </tr>\n",
       "    <tr>\n",
       "      <th>4</th>\n",
       "      <td>97.136291</td>\n",
       "      <td>97.760342</td>\n",
       "      <td>98.428840</td>\n",
       "    </tr>\n",
       "    <tr>\n",
       "      <th>5</th>\n",
       "      <td>99.809999</td>\n",
       "      <td>99.169227</td>\n",
       "      <td>98.867769</td>\n",
       "    </tr>\n",
       "    <tr>\n",
       "      <th>6</th>\n",
       "      <td>101.094087</td>\n",
       "      <td>99.579283</td>\n",
       "      <td>99.790581</td>\n",
       "    </tr>\n",
       "    <tr>\n",
       "      <th>7</th>\n",
       "      <td>101.531428</td>\n",
       "      <td>99.661758</td>\n",
       "      <td>100.669928</td>\n",
       "    </tr>\n",
       "    <tr>\n",
       "      <th>8</th>\n",
       "      <td>101.981148</td>\n",
       "      <td>100.812359</td>\n",
       "      <td>101.751155</td>\n",
       "    </tr>\n",
       "    <tr>\n",
       "      <th>9</th>\n",
       "      <td>101.993065</td>\n",
       "      <td>102.274035</td>\n",
       "      <td>101.751638</td>\n",
       "    </tr>\n",
       "  </tbody>\n",
       "</table>\n",
       "</div>"
      ],
      "text/plain": [
       "             before      during       after\n",
       "Subject                                    \n",
       "0         89.162573   94.023517   94.594145\n",
       "1         90.857629   95.273755   95.040646\n",
       "2         94.912999   96.612870   95.200472\n",
       "3         95.254064   96.818673   97.205801\n",
       "4         97.136291   97.760342   98.428840\n",
       "5         99.809999   99.169227   98.867769\n",
       "6        101.094087   99.579283   99.790581\n",
       "7        101.531428   99.661758  100.669928\n",
       "8        101.981148  100.812359  101.751155\n",
       "9        101.993065  102.274035  101.751638"
      ]
     },
     "execution_count": 4,
     "metadata": {},
     "output_type": "execute_result"
    }
   ],
   "source": [
    "# Read dataset from url:\n",
    "import io\n",
    "import requests\n",
    "url=\"https://raw.githubusercontent.com/trangel/stats-with-python/master/data/BG-db.csv\"\n",
    "s=requests.get(url).content\n",
    "df=pd.read_csv(io.StringIO(s.decode('utf-8')),index_col=0)\n",
    "\n",
    "\n",
    "df.columns=['before','during','after']\n",
    "df.index.name='Subject'\n",
    "df.head(10)"
   ]
  },
  {
   "cell_type": "code",
   "execution_count": null,
   "metadata": {},
   "outputs": [],
   "source": [
    "# your solution"
   ]
  },
  {
   "cell_type": "markdown",
   "metadata": {},
   "source": [
    "# Task 9: Evaluate the Change in Mice Weights Before and After Treatment\n",
    "\n",
    "Objective: determine if there is a significant difference in the weights of mice before and after treatment."
   ]
  },
  {
   "cell_type": "code",
   "execution_count": 6,
   "metadata": {},
   "outputs": [
    {
     "name": "stdout",
     "output_type": "stream",
     "text": [
      "    group  weight\n",
      "0  before   200.1\n",
      "1  before   190.9\n",
      "2  before   192.7\n",
      "3  before   213.0\n",
      "4  before   241.4\n",
      "5  before   196.9\n",
      "6  before   172.2\n",
      "7  before   185.5\n",
      "8  before   205.2\n",
      "9  before   193.7\n"
     ]
    }
   ],
   "source": [
    "import pandas as pd\n",
    "\n",
    "# Weight of the mice before treatment\n",
    "before = [200.1, 190.9, 192.7, 213, 241.4, 196.9, 172.2, 185.5, 205.2, 193.7]\n",
    "\n",
    "# Weight of the mice after treatment\n",
    "after = [392.9, 393.2, 345.1, 393, 434, 427.9, 422, 383.9, 392.3, 352.2]\n",
    "\n",
    "# Create a data frame\n",
    "my_data = pd.DataFrame({\n",
    "    'group': ['before'] * len(before) + ['after'] * len(after),\n",
    "    'weight': before + after\n",
    "})\n",
    "\n",
    "# Display the first few rows of the dataset\n",
    "print(my_data.head(10))"
   ]
  },
  {
   "cell_type": "code",
   "execution_count": null,
   "metadata": {},
   "outputs": [],
   "source": [
    "# your solution"
   ]
  },
  {
   "cell_type": "markdown",
   "metadata": {},
   "source": [
    "# Task 10: Calculate Effect Size and Power \n",
    "\n",
    "Objective: Use Python to calculate the effect size and power for a test comparing the total bill amounts between smokers and non-smokers. Interpret your results. If the power is not satisfactory - how many observations should we sample to achieve 90% power?\n",
    "\n",
    "The tips dataset contains information about tips received by waitstaff in a restaurant, including various attributes such as total bill, tip amount, sex of the bill payer, whether the payer is a smoker, day of the week, time of day, and size of the party.\n",
    "\n",
    "The tips dataset contains the following columns:\n",
    "\n",
    "total_bill: The total bill amount (including tip) in dollars.\n",
    "\n",
    "tip: The tip amount in dollars.\n",
    "\n",
    "sex: The sex of the bill payer (Male or Female).\n",
    "\n",
    "smoker: Whether the bill payer is a smoker (Yes or No).\n",
    "\n",
    "day: The day of the week (Thur, Fri, Sat, Sun).\n",
    "\n",
    "time: The time of day (Lunch or Dinner).\n",
    "\n",
    "size: The size of the party."
   ]
  },
  {
   "cell_type": "code",
   "execution_count": 8,
   "metadata": {},
   "outputs": [
    {
     "name": "stdout",
     "output_type": "stream",
     "text": [
      "   total_bill   tip     sex smoker  day    time  size\n",
      "0       16.99  1.01  Female     No  Sun  Dinner     2\n",
      "1       10.34  1.66    Male     No  Sun  Dinner     3\n",
      "2       21.01  3.50    Male     No  Sun  Dinner     3\n",
      "3       23.68  3.31    Male     No  Sun  Dinner     2\n",
      "4       24.59  3.61  Female     No  Sun  Dinner     4\n"
     ]
    }
   ],
   "source": [
    "import seaborn as sns\n",
    "import pandas as pd\n",
    "\n",
    "# Load the tips dataset\n",
    "tips = sns.load_dataset('tips')\n",
    "\n",
    "# Display the first few rows of the dataset\n",
    "print(tips.head())"
   ]
  },
  {
   "cell_type": "code",
   "execution_count": null,
   "metadata": {},
   "outputs": [],
   "source": [
    "# your solution"
   ]
  },
  {
   "cell_type": "markdown",
   "metadata": {},
   "source": [
    "# Task 11: 2-way Anova\n",
    "\n",
    "Objective: Three teachers graded final exams for students, and each exam varied in difficulty (Easy, Medium, Hard). We are interested in investigating whether there are differences in scores based on:\n",
    "1.\tThe teacher grading the exam.\n",
    "2.\tThe difficulty level of the exam.\n",
    "3.\tThe interaction between teacher and difficulty level.\n"
   ]
  },
  {
   "cell_type": "code",
   "execution_count": 1,
   "metadata": {},
   "outputs": [
    {
     "name": "stdout",
     "output_type": "stream",
     "text": [
      "      Teacher Difficulty  Scores\n",
      "0   Teacher 1       Easy      78\n",
      "1   Teacher 1       Easy      82\n",
      "2   Teacher 1       Easy      85\n",
      "3   Teacher 1       Easy      80\n",
      "4   Teacher 1       Easy      79\n",
      "5   Teacher 1     Medium      70\n",
      "6   Teacher 1     Medium      75\n",
      "7   Teacher 1     Medium      73\n",
      "8   Teacher 1     Medium      72\n",
      "9   Teacher 1     Medium      74\n",
      "10  Teacher 1       Hard      60\n",
      "11  Teacher 1       Hard      65\n",
      "12  Teacher 1       Hard      62\n",
      "13  Teacher 1       Hard      63\n",
      "14  Teacher 1       Hard      61\n",
      "15  Teacher 2       Easy      80\n",
      "16  Teacher 2       Easy      85\n",
      "17  Teacher 2       Easy      83\n",
      "18  Teacher 2       Easy      81\n",
      "19  Teacher 2       Easy      82\n",
      "20  Teacher 2     Medium      72\n",
      "21  Teacher 2     Medium      74\n",
      "22  Teacher 2     Medium      75\n",
      "23  Teacher 2     Medium      73\n",
      "24  Teacher 2     Medium      71\n",
      "25  Teacher 2       Hard      63\n",
      "26  Teacher 2       Hard      64\n",
      "27  Teacher 2       Hard      66\n",
      "28  Teacher 2       Hard      62\n",
      "29  Teacher 2       Hard      65\n",
      "30  Teacher 3       Easy      81\n",
      "31  Teacher 3       Easy      83\n",
      "32  Teacher 3       Easy      82\n",
      "33  Teacher 3       Easy      84\n",
      "34  Teacher 3       Easy      85\n",
      "35  Teacher 3     Medium      73\n",
      "36  Teacher 3     Medium      71\n",
      "37  Teacher 3     Medium      74\n",
      "38  Teacher 3     Medium      72\n",
      "39  Teacher 3     Medium      70\n",
      "40  Teacher 3       Hard      64\n",
      "41  Teacher 3       Hard      63\n",
      "42  Teacher 3       Hard      62\n",
      "43  Teacher 3       Hard      65\n",
      "44  Teacher 3       Hard      66\n"
     ]
    }
   ],
   "source": [
    "import pandas as pd\n",
    "\n",
    "# Dane\n",
    "data = {\n",
    "    'Teacher': ['Teacher 1'] * 15 + ['Teacher 2'] * 15 + ['Teacher 3'] * 15,\n",
    "    'Difficulty': ['Easy'] * 5 + ['Medium'] * 5 + ['Hard'] * 5 +\n",
    "                  ['Easy'] * 5 + ['Medium'] * 5 + ['Hard'] * 5 +\n",
    "                  ['Easy'] * 5 + ['Medium'] * 5 + ['Hard'] * 5,\n",
    "    'Scores': [78, 82, 85, 80, 79, 70, 75, 73, 72, 74, 60, 65, 62, 63, 61,\n",
    "               80, 85, 83, 81, 82, 72, 74, 75, 73, 71, 63, 64, 66, 62, 65,\n",
    "               81, 83, 82, 84, 85, 73, 71, 74, 72, 70, 64, 63, 62, 65, 66]\n",
    "}\n",
    "\n",
    "# Tworzenie DataFrame\n",
    "df = pd.DataFrame(data)\n",
    "\n",
    "# Wyświetlenie DataFrame\n",
    "print(df)"
   ]
  },
  {
   "cell_type": "code",
   "execution_count": null,
   "metadata": {},
   "outputs": [],
   "source": [
    "# your solution"
   ]
  },
  {
   "cell_type": "markdown",
   "metadata": {},
   "source": [
    "# Task 12: Mantel-Haenszel test\n",
    "\n",
    "Objective: use the Mantel-Haenszel test to determine if there is a significant difference in the changes in doctoral program completion status between male and female students, controlling for the time variable (initial and final status).\n",
    "\n",
    "Gdańsk Tech classified students entering the PhD programs in a given year by their status 6 years later, with the data broken down by gender. The initial and final status of students is as follows: Men: 15 completed, 5 not completed, Women: 10 completed, 10 not completed. Final Status: Men: 12 completed, 8 not completed, Women: 8 completed, 12 not completed. Determine if there is a significant difference in the changes of doctoral program completion status between male and female students.\n"
   ]
  },
  {
   "cell_type": "code",
   "execution_count": null,
   "metadata": {},
   "outputs": [],
   "source": [
    "# your solution"
   ]
  }
 ],
 "metadata": {
  "kernelspec": {
   "display_name": "Python 3",
   "language": "python",
   "name": "python3"
  },
  "language_info": {
   "codemirror_mode": {
    "name": "ipython",
    "version": 3
   },
   "file_extension": ".py",
   "mimetype": "text/x-python",
   "name": "python",
   "nbconvert_exporter": "python",
   "pygments_lexer": "ipython3",
   "version": "3.8.2"
  }
 },
 "nbformat": 4,
 "nbformat_minor": 2
}
