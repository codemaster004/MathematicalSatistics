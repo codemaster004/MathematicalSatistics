{
 "cells": [
  {
   "cell_type": "markdown",
   "metadata": {},
   "source": [
    "Your task is to analyze survey data available at the following link: surveydata3.csv. The analysis includes estimating the mean with confidence intervals, standard error, minimum sample size for a specified precision, and estimating proportions.\n",
    "\n",
    "- The data is loaded from the CSV file available at the following link: [surveydata3.csv](https://raw.githubusercontent.com/juanspinzon/survey-data/refs/heads/main/surveydata3.csv).\n",
    "- The dataset contains 753 rows and 55 columns, including various demographic and survey response variables.\n",
    "- A detailed description of the dataset can be found [here](https://raw.githubusercontent.com/juanspinzon/survey-data/refs/heads/main/surveydata3_description.csv).\n",
    "\n",
    "**Instructions**\n",
    "\n",
    "**Load the Data:**\n",
    "\n",
    "- Load the data from the CSV file.\n",
    "- Calculate the mean number of hours of sleep per night.\n",
    "- Calculate the proportion of people who want to buy Udacity swag and prefer hoodies.\n",
    "\n",
    "**Mean & Variance Estimation:**\n",
    "\n",
    "- Calculate the mean and variance for the number of hours that Udemy students sleep per night.\n",
    "- Calculate the confidence interval for the mean and variance.\n",
    "- Calculate the standard error.\n",
    "- Calculate the minimum sample size required to achieve a specified precision (e.g., 3%). \n",
    "- Visualize results with the boxplot (mean, std errors, confidence interval).\n",
    "\n",
    "**Proportion Estimation:**\n",
    "\n",
    "- Calculate the proportion for of people who want to buy Udacity swag and prefer hoodies :)\n",
    "- Calculate the confidence interval for that proportion.\n",
    "- Calculate the standard error.\n",
    "- Calculate the minimum sample size required to achieve a specified precision (e.g., 3%).\n",
    "- Visualize results with the boxplot (proportion, std errors, confidence interval).\n",
    "\n"
   ]
  },
  {
   "cell_type": "code",
   "metadata": {
    "ExecuteTime": {
     "end_time": "2024-11-07T17:18:22.028607Z",
     "start_time": "2024-11-07T17:18:20.634069Z"
    }
   },
   "source": [
    "import pandas as pd\n",
    "url = 'https://raw.githubusercontent.com/juanspinzon/survey-data/refs/heads/main/clean_surveydata3.xlsx?raw=true'\n",
    "df = pd.read_excel(url, engine='openpyxl')\n",
    "print(df.head())\n",
    "print(df.shape)"
   ],
   "outputs": [
    {
     "name": "stdout",
     "output_type": "stream",
     "text": [
      "   Index                                      reasons_study  age_years  \\\n",
      "0      0                                                NaN       32.0   \n",
      "1      1                                                NaN       38.0   \n",
      "2      2                   Start a new career in this field       30.0   \n",
      "3      3  General interest in the topic (personal growth...       37.0   \n",
      "4      4                   Start a new career in this field       24.0   \n",
      "\n",
      "   sleep hours per night  commute_minutes  sitting hours per day  \\\n",
      "0                    NaN              NaN                    NaN   \n",
      "1                    NaN              NaN                    NaN   \n",
      "2                    7.0             45.0                    8.0   \n",
      "3                    7.0             30.0                    5.0   \n",
      "4                    8.0             65.0                    0.0   \n",
      "\n",
      "   books per year   location  buy swag  \\\n",
      "0             NaN      China         1   \n",
      "1             NaN  Argentina         1   \n",
      "2             2.0     Canada         0   \n",
      "3            10.0      India         1   \n",
      "4            45.0      Japan         0   \n",
      "\n",
      "                                          item  ... study_hours_week  \\\n",
      "0                                       hoodie  ...                3   \n",
      "1                                      t-shirt  ...                3   \n",
      "2  jacket (brand is TBD... probably Patagonia)  ...               20   \n",
      "3                                      t-shirt  ...                5   \n",
      "4                                     backpack  ...                2   \n",
      "\n",
      "   applied learned_hours per week project_hours  \\\n",
      "0                               5           NaN   \n",
      "1                               3           NaN   \n",
      "2                              15          15.0   \n",
      "3                               6           7.0   \n",
      "4                               1           1.0   \n",
      "\n",
      "                                              advice           found Udacity  \\\n",
      "0                                     Set a schedule  Friend / word of mouth   \n",
      "1  Don't be afraid to push the results of the pro...                  Google   \n",
      "2                                work on it everyday                  Google   \n",
      "3                 Do not procrastinate. This is fun.                  Google   \n",
      "4                                                NaN                  Google   \n",
      "\n",
      "   likely to recommend                                 improve experience  \\\n",
      "0                   10                            Have weekly assignments   \n",
      "1                   10                                            Nothing   \n",
      "2                    8              more help working through the courses   \n",
      "3                   10  Feature podcasts. More meetings with renowned ...   \n",
      "4                    5               More in depth information and theory   \n",
      "\n",
      "                                        new to learn     anything else  \\\n",
      "0                                                NaN  I love you guys!   \n",
      "1                                                NaN     Great survey!   \n",
      "2                                                SAS               NaN   \n",
      "3                                 self-driving cars.               NaN   \n",
      "4  Advanced Deep learning, attention, and complex...               NaN   \n",
      "\n",
      "  share more info  \n",
      "0             NaN  \n",
      "1             NaN  \n",
      "2             NaN  \n",
      "3             NaN  \n",
      "4             NaN  \n",
      "\n",
      "[5 rows x 30 columns]\n",
      "(753, 30)\n"
     ]
    }
   ],
   "execution_count": 3
  },
  {
   "metadata": {
    "ExecuteTime": {
     "end_time": "2024-11-07T17:22:15.680951Z",
     "start_time": "2024-11-07T17:22:15.662728Z"
    }
   },
   "cell_type": "code",
   "source": [
    "sleep = df['sleep hours per night'].dropna()\n",
    "sleep"
   ],
   "outputs": [
    {
     "data": {
      "text/plain": [
       "2      7.0\n",
       "3      7.0\n",
       "4      8.0\n",
       "5      6.0\n",
       "6      8.0\n",
       "      ... \n",
       "748    7.0\n",
       "749    7.0\n",
       "750    8.0\n",
       "751    7.0\n",
       "752    6.0\n",
       "Name: sleep hours per night, Length: 747, dtype: float64"
      ]
     },
     "execution_count": 6,
     "metadata": {},
     "output_type": "execute_result"
    }
   ],
   "execution_count": 6
  },
  {
   "metadata": {
    "ExecuteTime": {
     "end_time": "2024-11-07T17:34:15.094861Z",
     "start_time": "2024-11-07T17:34:15.090568Z"
    }
   },
   "cell_type": "code",
   "source": [
    "from scipy import stats\n",
    "\n",
    "mean = sleep.mean()\n",
    "print(f\"Mean: {mean}\")\n",
    "se = stats.sem(sleep)\n",
    "print(f\"Standard Error: {se}\")\n",
    "relative_error = (se/mean) * 100\n",
    "print(f\"Relative Error: {relative_error:.2f}%\")"
   ],
   "outputs": [
    {
     "name": "stdout",
     "output_type": "stream",
     "text": [
      "Mean: 6.918340026773762\n",
      "Standard Error: 0.03614444538796781\n",
      "Relative Error: 0.52%\n"
     ]
    }
   ],
   "execution_count": 17
  },
  {
   "metadata": {
    "ExecuteTime": {
     "end_time": "2024-11-07T17:32:35.831907Z",
     "start_time": "2024-11-07T17:32:35.829843Z"
    }
   },
   "cell_type": "code",
   "source": "import statsmodels.stats.api as sms",
   "outputs": [],
   "execution_count": 12
  },
  {
   "metadata": {
    "ExecuteTime": {
     "end_time": "2024-11-07T17:33:31.307802Z",
     "start_time": "2024-11-07T17:33:31.304758Z"
    }
   },
   "cell_type": "code",
   "source": [
    "confidence_level = 0.99\n",
    "ci_mean_min, ci_mean_max = sms.DescrStatsW(sleep).tconfint_mean(alpha=1 - confidence_level)\n",
    "print(f\"Confidence Interval for the mean: {ci_mean_min}, {ci_mean_max}\")\n",
    "\n"
   ],
   "outputs": [
    {
     "name": "stdout",
     "output_type": "stream",
     "text": [
      "Confidence Interval for the mean: 6.8249993186828855, 7.011680734864638\n"
     ]
    }
   ],
   "execution_count": 15
  },
  {
   "metadata": {
    "ExecuteTime": {
     "end_time": "2024-11-07T17:48:43.705849Z",
     "start_time": "2024-11-07T17:48:43.696762Z"
    }
   },
   "cell_type": "code",
   "source": [
    "\n",
    "chi2_min, chi2_max = stats.chi2.interval(0.96, sleep.size)\n",
    "\n",
    "ci_var_min = ((sleep.size-1)*se**2) / chi2_max\n",
    "print(ci_var_min)\n",
    "ci_var_max = ((sleep.size-1)*se**2) / chi2_min\n",
    "print(ci_var_max)\n"
   ],
   "outputs": [
    {
     "name": "stdout",
     "output_type": "stream",
     "text": [
      "0.0011763158122183696\n",
      "0.0014550916753030172\n"
     ]
    }
   ],
   "execution_count": 19
  },
  {
   "metadata": {},
   "cell_type": "code",
   "outputs": [],
   "execution_count": null,
   "source": ""
  }
 ],
 "metadata": {
  "kernelspec": {
   "display_name": "Python 3",
   "language": "python",
   "name": "python3"
  },
  "language_info": {
   "codemirror_mode": {
    "name": "ipython",
    "version": 3
   },
   "file_extension": ".py",
   "mimetype": "text/x-python",
   "name": "python",
   "nbconvert_exporter": "python",
   "pygments_lexer": "ipython3",
   "version": "3.12.6"
  }
 },
 "nbformat": 4,
 "nbformat_minor": 2
}
