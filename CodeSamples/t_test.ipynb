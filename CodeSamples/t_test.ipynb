{
 "cells": [
  {
   "metadata": {},
   "cell_type": "markdown",
   "source": [
    "# T-Test\n",
    "\n",
    "A *t-test* is a statistical test used to compare the means of two groups and determine if the difference between them is statistically significant.\n",
    "\n",
    "It's commonly used when dealing with small sample sizes and assumes that the data follows a normal distribution.\n"
   ],
   "id": "4aac97bdeebf6c93"
  },
  {
   "metadata": {},
   "cell_type": "markdown",
   "source": [
    "### Variable Explanation\n",
    "\n",
    "- $\\bar{X}_1$ and $\\bar{X}_2$: The sample means of group  1 and group 2, respectively.\n",
    "- $s^2_1$ and $s^2_2$: The variances (squared standard deviations) of group 1 and group 2, respectively.\n",
    "- $n_1$ and $n_2$: The sample sizes of group 1 and group 2, respectively.\n",
    "- $t$: The t-statistic, which measures how many standard deviations the observed difference between the groups is from zero.\n",
    "\n",
    "### Mathematical Formula\n",
    "\n",
    "The formula for a *t-test* comparing two sample means:\n",
    "\n",
    "$$\n",
    "t = \\frac{\\bar{X}_1 - \\bar{X}_2} {\\sqrt{(\\frac{s^2_1} {n_1}) + (\\frac{s^2_2} {n_2})}}\n",
    "$$\n",
    "\n",
    "### Formula Breakdown\n",
    "\n",
    "1. **Difference of means**: $\\bar{X}_1 - \\bar{X}_2$ calculates the difference between the two sample means.\n",
    "2. **Standard error**: $\\sqrt{(\\frac{s^2_1} {n_1}) + (\\frac{s^2_2} {n_2})}$ measures the variability of the sample mean differences.\n",
    "3. **t-statistic**: measures how many standard errors the observed difference between the sample means is away from the expected difference is (which is typically zero)."
   ],
   "id": "b8585399e65274a4"
  },
  {
   "metadata": {},
   "cell_type": "markdown",
   "source": [
    "### Example\n",
    "Suppose two classes math major and arts/history major both just wrote a test in chemistry, and you want to see if there's a significant difference in the scores they got. After gathering a random sample from both classes, you perform a t-test. The calculated t-value helps you determine whether the difference in test scores is due to random chance or is statistically significant.\n",
    "\n",
    "**Math Major**:\n",
    "- Sample mean: $\\bar{X}_1$ = 85\n",
    "- Sample size: $n_1$ = 10\n",
    "- Standard deviation: $s_1$ = 5\n",
    "\n",
    "**Arts/History Major**:\n",
    "- Sample mean: $\\bar{X}_2$ = 80\n",
    "- Sample size: $n_2$ = 12\n",
    "- Standard deviation: $s_2$ = 6\n",
    "\n",
    "Using the t-test formula:\n",
    "\n",
    "$$\n",
    "t = \\frac{85 - 80} {\\sqrt{(\\frac{5^2} {10}) + (\\frac{6^2} {12})}} = \\frac{5} {\\sqrt{5.5}} \\approx 2.13\n",
    "$$\n",
    "\n",
    "This lets you calculate **t-statistics** for two samples each one from a different group. And you will be able to tell if there is a statistically significant difference between them."
   ],
   "id": "54a7d6ed808f11be"
  },
  {
   "metadata": {},
   "cell_type": "markdown",
   "source": [
    "## Interpreting the results\n",
    "\n",
    "### Degrees of Freedom (df) in a T-Test: Basic Information\n",
    "\n",
    "In the context of a **t-test, degrees of freedom (df)** refer to the number of information and independent values that can vary. It's a critical factor that influences the shape of the **t-distribution**, especially with small sample sizes. More degrees of freedom result in a **t-distribution** closer to a normal distribution, while fewer degrees of freedom lead to a wider t-distribution with heavier tails.\n",
    "\n",
    "### Mathematical Formula for Degrees of Freedom\n",
    "\n",
    "The formula for degrees of freedom depends on the type of t-test you're using. For a **two-sample t-test** (with equal variances assumed), the formula is:\n",
    "\n",
    "$$\n",
    "df = (n_1 - 1) + (n_2 - 1)\n",
    "$$\n",
    "\n",
    "### Variable Explanation\n",
    "\n",
    "- $n_1$: The sample size of group 1.\n",
    "- $n_2$: The sample size of group 2.\n",
    "- $df$: The degrees of freedom, which account for how many values are free to vary in estimating population parameters.\n",
    "\n",
    "### Breakdown of the Formula\n",
    "\n",
    "- 1 $n_1 - 1$: For group 1, the degrees of freedom are based on how many values are independent to vary when calculating the mean. We have $n_1$ free independent information from $n_1$ samples. We also get one additional information in this case the mean. Then, if we were to know $n_1 - 1$ values of the samples, using the additional information the mean, we may deduce the last unknown (free) value, in this case we only need the $n_1 - 1$ information to get all the information.\n",
    "- 2 $n_2 - 1$: Similarly, for group 2, we subtract 1 from the sample size to reflect that after calculating the mean, the remaining data points are free to vary.\n",
    "- 3 **Adding the two terms**: By summing the degrees of freedom from both groups, you get the total degrees of freedom for a two-sample t-test."
   ],
   "id": "112963ed8782cca1"
  },
  {
   "cell_type": "code",
   "execution_count": null,
   "id": "initial_id",
   "metadata": {
    "collapsed": true
   },
   "outputs": [],
   "source": ""
  }
 ],
 "metadata": {
  "kernelspec": {
   "display_name": "Python 3",
   "language": "python",
   "name": "python3"
  },
  "language_info": {
   "codemirror_mode": {
    "name": "ipython",
    "version": 2
   },
   "file_extension": ".py",
   "mimetype": "text/x-python",
   "name": "python",
   "nbconvert_exporter": "python",
   "pygments_lexer": "ipython2",
   "version": "2.7.6"
  }
 },
 "nbformat": 4,
 "nbformat_minor": 5
}
